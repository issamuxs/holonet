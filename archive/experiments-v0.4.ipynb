{
 "cells": [
  {
   "cell_type": "code",
   "execution_count": 1,
   "id": "9d6abcbc-cf38-4fdd-a3fa-26c1a381e44e",
   "metadata": {
    "execution": {
     "iopub.execute_input": "2025-07-03T00:09:40.199726Z",
     "iopub.status.busy": "2025-07-03T00:09:40.199187Z",
     "iopub.status.idle": "2025-07-03T00:11:32.664010Z",
     "shell.execute_reply": "2025-07-03T00:11:32.663628Z",
     "shell.execute_reply.started": "2025-07-03T00:09:40.199704Z"
    }
   },
   "outputs": [
    {
     "name": "stdout",
     "output_type": "stream",
     "text": [
      "⏳ Checking and installing all required dependencies for the experiment...\n",
      "\n",
      "[Step 1/4] Cleaning up existing PyTorch installations...\n",
      "\n",
      "[Step 2/4] Installing PyTorch, Torchvision, and Torchaudio for CUDA 12.1...\n"
     ]
    },
    {
     "name": "stderr",
     "output_type": "stream",
     "text": [
      "\u001b[33mWARNING: Running pip as the 'root' user can result in broken permissions and conflicting behaviour with the system package manager. It is recommended to use a virtual environment instead: https://pip.pypa.io/warnings/venv\u001b[0m\u001b[33m\n",
      "\u001b[0m"
     ]
    },
    {
     "name": "stdout",
     "output_type": "stream",
     "text": [
      "\n",
      "[Step 3/4] Installing remaining Torch ecosystem packages...\n"
     ]
    },
    {
     "name": "stderr",
     "output_type": "stream",
     "text": [
      "Installing Torch ecosystem:   0%|          | 0/2 [00:00<?, ?it/s]\u001b[33mWARNING: Running pip as the 'root' user can result in broken permissions and conflicting behaviour with the system package manager. It is recommended to use a virtual environment instead: https://pip.pypa.io/warnings/venv\u001b[0m\u001b[33m\n",
      "Installing Torch ecosystem:  50%|█████     | 1/2 [00:02<00:02,  2.81s/it]\u001b[33mWARNING: Running pip as the 'root' user can result in broken permissions and conflicting behaviour with the system package manager. It is recommended to use a virtual environment instead: https://pip.pypa.io/warnings/venv\u001b[0m\u001b[33m\n",
      "Installing Torch ecosystem: 100%|██████████| 2/2 [00:04<00:00,  2.47s/it]\n"
     ]
    },
    {
     "name": "stdout",
     "output_type": "stream",
     "text": [
      "\n",
      "[Step 4/4] Installing basic scientific packages...\n"
     ]
    },
    {
     "name": "stderr",
     "output_type": "stream",
     "text": [
      "Installing basic packages:   0%|          | 0/8 [00:00<?, ?it/s]\u001b[33mWARNING: Running pip as the 'root' user can result in broken permissions and conflicting behaviour with the system package manager. It is recommended to use a virtual environment instead: https://pip.pypa.io/warnings/venv\u001b[0m\u001b[33m\n",
      "Installing basic packages:  12%|█▎        | 1/8 [00:05<00:41,  5.97s/it]\u001b[33mWARNING: Running pip as the 'root' user can result in broken permissions and conflicting behaviour with the system package manager. It is recommended to use a virtual environment instead: https://pip.pypa.io/warnings/venv\u001b[0m\u001b[33m\n",
      "Installing basic packages:  25%|██▌       | 2/8 [00:13<00:41,  6.92s/it]\u001b[33mWARNING: Running pip as the 'root' user can result in broken permissions and conflicting behaviour with the system package manager. It is recommended to use a virtual environment instead: https://pip.pypa.io/warnings/venv\u001b[0m\u001b[33m\n",
      "Installing basic packages:  38%|███▊      | 3/8 [00:19<00:31,  6.30s/it]\u001b[33mWARNING: Running pip as the 'root' user can result in broken permissions and conflicting behaviour with the system package manager. It is recommended to use a virtual environment instead: https://pip.pypa.io/warnings/venv\u001b[0m\u001b[33m\n",
      "Installing basic packages:  50%|█████     | 4/8 [00:26<00:26,  6.65s/it]\u001b[33mWARNING: Running pip as the 'root' user can result in broken permissions and conflicting behaviour with the system package manager. It is recommended to use a virtual environment instead: https://pip.pypa.io/warnings/venv\u001b[0m\u001b[33m\n",
      "Installing basic packages:  62%|██████▎   | 5/8 [00:32<00:19,  6.42s/it]\u001b[33mWARNING: Running pip as the 'root' user can result in broken permissions and conflicting behaviour with the system package manager. It is recommended to use a virtual environment instead: https://pip.pypa.io/warnings/venv\u001b[0m\u001b[33m\n",
      "Installing basic packages:  75%|███████▌  | 6/8 [00:34<00:10,  5.13s/it]\u001b[33mWARNING: Running pip as the 'root' user can result in broken permissions and conflicting behaviour with the system package manager. It is recommended to use a virtual environment instead: https://pip.pypa.io/warnings/venv\u001b[0m\u001b[33m\n",
      "Installing basic packages:  88%|████████▊ | 7/8 [00:39<00:04,  4.96s/it]\u001b[33mWARNING: Running pip as the 'root' user can result in broken permissions and conflicting behaviour with the system package manager. It is recommended to use a virtual environment instead: https://pip.pypa.io/warnings/venv\u001b[0m\u001b[33m\n",
      "Installing basic packages: 100%|██████████| 8/8 [00:41<00:00,  5.20s/it]\n"
     ]
    },
    {
     "name": "stdout",
     "output_type": "stream",
     "text": [
      "\n",
      "✅ All specified dependencies are installed.\n",
      "\n",
      "🔍 Testing library imports...\n",
      "\n",
      "✅ Setup complete! Library versions:\n",
      "   - NumPy:        1.26.0\n",
      "   - Pandas:       2.1.1\n",
      "   - PyTorch:      2.1.1+cu121\n",
      "   - Torchvision:  0.16.1+cu121\n",
      "   - Torchaudio:   2.1.1+cu121\n",
      "   - Scikit-learn: 1.3.2\n",
      "   - Statsmodels:  0.14.1\n",
      "\n",
      "🔧 PyTorch Configuration:\n",
      "   - CUDA Available:    ✓ Yes\n",
      "   - CUDA Device Count: 1\n",
      "   - Current Device:    0\n",
      "   - Device Name:       NVIDIA RTX A6000\n",
      "   - Torchvision CUDA linkage: ✓ Verified\n",
      "\n",
      "🎉 Environment setup completed successfully!\n",
      "You can now run your machine learning experiments.\n"
     ]
    }
   ],
   "source": [
    "import subprocess\n",
    "import sys\n",
    "from tqdm import tqdm\n",
    "\n",
    "print(\"⏳ Checking and installing all required dependencies for the experiment...\")\n",
    "\n",
    "def install(package_list, is_torch_stack=False):\n",
    "    \"\"\"\n",
    "    Installs a list of packages using pip.\n",
    "    For the PyTorch stack, it uses a specific index URL.\n",
    "    \"\"\"\n",
    "    try:\n",
    "        command = [sys.executable, \"-m\", \"pip\", \"install\", \"--quiet\"]\n",
    "        if is_torch_stack:\n",
    "            command.extend([\"--index-url\", \"https://download.pytorch.org/whl/cu121\"])\n",
    "        \n",
    "        command.extend(package_list)\n",
    "        subprocess.check_call(command)\n",
    "        return True\n",
    "    except subprocess.CalledProcessError as e:\n",
    "        print(f\"\\n❌ Failed to install {' '.join(package_list)}. Error: {e}\")\n",
    "        return False\n",
    "\n",
    "try:\n",
    "    # Step 1: Clean up any existing conflicting installations for a clean slate.\n",
    "    print(\"\\n[Step 1/4] Cleaning up existing PyTorch installations...\")\n",
    "    subprocess.run([sys.executable, \"-m\", \"pip\", \"uninstall\", \"-y\",\n",
    "                    \"torch\", \"torchvision\", \"torchaudio\", \"torchtext\", \"torchdata\"],\n",
    "                   capture_output=True)\n",
    "\n",
    "    # Step 2: Install the entire PyTorch stack in a single command.\n",
    "    # This is the most robust way to ensure CUDA version compatibility across all packages.\n",
    "    print(\"\\n[Step 2/4] Installing PyTorch, Torchvision, and Torchaudio for CUDA 12.1...\")\n",
    "    \n",
    "    # We install torch, torchvision, and torchaudio together to ensure pip resolves\n",
    "    # their dependencies correctly for the specified CUDA version.\n",
    "    torch_stack = [\n",
    "        \"torch==2.1.1\",\n",
    "        \"torchvision==0.16.1\",\n",
    "        \"torchaudio==2.1.1\"\n",
    "    ]\n",
    "    if not install(torch_stack, is_torch_stack=True):\n",
    "        print(\"   -> Critical PyTorch installation failed. Aborting.\")\n",
    "        sys.exit(1)\n",
    "    \n",
    "    # Step 3: Install the remaining, non-CUDA-dependent PyTorch ecosystem packages.\n",
    "    print(\"\\n[Step 3/4] Installing remaining Torch ecosystem packages...\")\n",
    "    torch_ecosystem_packages = [\n",
    "        [\"torchtext==0.16.1\"],\n",
    "        [\"torchdata==0.7.1\"]\n",
    "    ]\n",
    "    for package in tqdm(torch_ecosystem_packages, desc=\"Installing Torch ecosystem\"):\n",
    "        if not install(package):\n",
    "            sys.exit(1)\n",
    "            \n",
    "    # Step 4: Install all other scientific computing packages.\n",
    "    print(\"\\n[Step 4/4] Installing basic scientific packages...\")\n",
    "    basic_packages = [\n",
    "        [\"numpy==1.26.0\"], [\"pandas==2.1.1\"], [\"scikit-learn==1.3.2\"],\n",
    "        [\"scipy==1.11.3\"], [\"matplotlib==3.8.0\"], [\"seaborn==0.13.0\"],\n",
    "        [\"statsmodels==0.14.1\"], [\"tqdm==4.66.1\"]\n",
    "    ]\n",
    "    for package in tqdm(basic_packages, desc=\"Installing basic packages\"):\n",
    "        if not install(package):\n",
    "            sys.exit(1)\n",
    "\n",
    "    print(\"\\n✅ All specified dependencies are installed.\")\n",
    "\n",
    "except Exception as e:\n",
    "    print(f\"❌ An unexpected error occurred during installation: {e}\")\n",
    "    sys.exit(1)\n",
    "\n",
    "# --- Final Verification Step ---\n",
    "try:\n",
    "    print(\"\\n🔍 Testing library imports...\")\n",
    "    import numpy, pandas, torch, torchvision, torchtext, torchaudio, torchdata\n",
    "    import sklearn, scipy, matplotlib, seaborn, statsmodels\n",
    "    import tqdm as TQDM\n",
    "\n",
    "    print(\"\\n✅ Setup complete! Library versions:\")\n",
    "    print(f\"   - NumPy:        {numpy.__version__}\")\n",
    "    print(f\"   - Pandas:       {pandas.__version__}\")\n",
    "    print(f\"   - PyTorch:      {torch.__version__}\")\n",
    "    print(f\"   - Torchvision:  {torchvision.__version__}\")\n",
    "    print(f\"   - Torchaudio:   {torchaudio.__version__}\")\n",
    "    print(f\"   - Scikit-learn: {sklearn.__version__}\")\n",
    "    print(f\"   - Statsmodels:  {statsmodels.__version__}\")\n",
    "    \n",
    "    print(f\"\\n🔧 PyTorch Configuration:\")\n",
    "    cuda_available = torch.cuda.is_available()\n",
    "    print(f\"   - CUDA Available:    {'✓ Yes' if cuda_available else '✗ No'}\")\n",
    "    if cuda_available:\n",
    "        print(f\"   - CUDA Device Count: {torch.cuda.device_count()}\")\n",
    "        print(f\"   - Current Device:    {torch.cuda.current_device()}\")\n",
    "        print(f\"   - Device Name:       {torch.cuda.get_device_name(0)}\")\n",
    "        # This check is now internal to the verification step.\n",
    "        torchvision.ops.nms(torch.rand(1,4).cuda(), torch.rand(1).cuda(), 0.5)\n",
    "        print(\"   - Torchvision CUDA linkage: ✓ Verified\")\n",
    "\n",
    "\n",
    "except ImportError as e:\n",
    "    print(f\"\\n❌ Critical library import failed: {e}\")\n",
    "    sys.exit(1)\n",
    "except Exception as e:\n",
    "    print(f\"\\n❌ Unexpected error during testing: {e}\")\n",
    "    sys.exit(1)\n",
    "\n",
    "print(\"\\n🎉 Environment setup completed successfully!\")\n",
    "print(\"You can now run your machine learning experiments.\")"
   ]
  },
  {
   "cell_type": "code",
   "execution_count": 3,
   "id": "61e2047a-91d2-4497-8f30-2bb2130652da",
   "metadata": {
    "execution": {
     "iopub.execute_input": "2025-07-02T17:51:08.685705Z",
     "iopub.status.busy": "2025-07-02T17:51:08.685462Z",
     "iopub.status.idle": "2025-07-02T17:54:42.527502Z",
     "shell.execute_reply": "2025-07-02T17:54:42.526929Z",
     "shell.execute_reply.started": "2025-07-02T17:51:08.685686Z"
    }
   },
   "outputs": [
    {
     "name": "stdout",
     "output_type": "stream",
     "text": [
      "Using device: cuda\n",
      "Files already downloaded and verified\n",
      "\n",
      "Running: type=cnn-raw, dataset=cifar, seed=1\n"
     ]
    },
    {
     "name": "stderr",
     "output_type": "stream",
     "text": [
      "                                                                 \r"
     ]
    },
    {
     "name": "stdout",
     "output_type": "stream",
     "text": [
      "\n",
      "--- Supervised RG-Flow Stability Analysis ---\n",
      "Stability vs Architecture Model R^2 (sigma): 0.710\n",
      "Most Important Architectural Features:\n",
      "               feature  importance\n",
      "      layers_per_stage    0.568033\n",
      "           mean_stride    0.293868\n",
      "      initial_channels    0.075583\n",
      "        total_macs_log    0.028564\n",
      "width_expansion_factor    0.025568\n",
      "      total_params_log    0.007774\n",
      "   downsampling_stages    0.000605\n",
      "          max_channels    0.000005\n",
      "         use_batchnorm    0.000000\n",
      "\n",
      "Running: type=cnn-raw, dataset=mnist, seed=1\n"
     ]
    },
    {
     "name": "stderr",
     "output_type": "stream",
     "text": [
      "                                                                 \r"
     ]
    },
    {
     "name": "stdout",
     "output_type": "stream",
     "text": [
      "\n",
      "--- Supervised RG-Flow Stability Analysis ---\n",
      "Stability vs Architecture Model R^2 (sigma): 0.770\n",
      "Most Important Architectural Features:\n",
      "               feature   importance\n",
      "           mean_stride 5.832079e-01\n",
      "      layers_per_stage 3.034469e-01\n",
      "      initial_channels 4.743664e-02\n",
      "      total_params_log 2.439518e-02\n",
      "width_expansion_factor 2.201443e-02\n",
      "        total_macs_log 1.948840e-02\n",
      "   downsampling_stages 9.827214e-06\n",
      "          max_channels 6.728503e-07\n",
      "         use_batchnorm 0.000000e+00\n",
      "\n",
      "Running: type=cnn-bn, dataset=cifar, seed=1\n"
     ]
    },
    {
     "name": "stderr",
     "output_type": "stream",
     "text": [
      "                                                                 \r"
     ]
    },
    {
     "name": "stdout",
     "output_type": "stream",
     "text": [
      "\n",
      "--- Supervised RG-Flow Stability Analysis ---\n",
      "Stability vs Architecture Model R^2 (sigma): 0.482\n",
      "Most Important Architectural Features:\n",
      "               feature  importance\n",
      "           mean_stride    0.507693\n",
      "      layers_per_stage    0.336007\n",
      "        total_macs_log    0.080939\n",
      "      total_params_log    0.036320\n",
      "      initial_channels    0.031087\n",
      "width_expansion_factor    0.007949\n",
      "   downsampling_stages    0.000006\n",
      "         use_batchnorm    0.000000\n",
      "          max_channels    0.000000\n",
      "\n",
      "Running: type=cnn-bn, dataset=mnist, seed=1\n"
     ]
    },
    {
     "name": "stderr",
     "output_type": "stream",
     "text": [
      "                                                                 \r"
     ]
    },
    {
     "name": "stdout",
     "output_type": "stream",
     "text": [
      "\n",
      "--- Supervised RG-Flow Stability Analysis ---\n",
      "Stability vs Architecture Model R^2 (sigma): 0.811\n",
      "Most Important Architectural Features:\n",
      "               feature   importance\n",
      "           mean_stride 5.392857e-01\n",
      "      layers_per_stage 3.530643e-01\n",
      "width_expansion_factor 3.822538e-02\n",
      "      total_params_log 2.511382e-02\n",
      "      initial_channels 2.464108e-02\n",
      "        total_macs_log 1.966045e-02\n",
      "   downsampling_stages 8.850309e-06\n",
      "          max_channels 3.404271e-07\n",
      "         use_batchnorm 0.000000e+00\n",
      "\n",
      "Running: type=resnet, dataset=cifar, seed=1\n"
     ]
    },
    {
     "name": "stderr",
     "output_type": "stream",
     "text": [
      "                                                                 \r"
     ]
    },
    {
     "name": "stdout",
     "output_type": "stream",
     "text": [
      "\n",
      "--- Supervised RG-Flow Stability Analysis ---\n",
      "Stability vs Architecture Model R^2 (sigma): 0.011\n",
      "Most Important Architectural Features:\n",
      "                 feature  importance\n",
      "        layers_per_stage    0.309168\n",
      "             mean_stride    0.226736\n",
      "        total_params_log    0.138193\n",
      "          total_macs_log    0.102814\n",
      "        initial_channels    0.067529\n",
      "   mean_bottleneck_ratio    0.063672\n",
      "  width_expansion_factor    0.042798\n",
      "     downsampling_stages    0.034289\n",
      "            max_channels    0.012248\n",
      "num_projection_shortcuts    0.002553\n",
      "\n",
      "Running: type=resnet, dataset=mnist, seed=1\n"
     ]
    },
    {
     "name": "stderr",
     "output_type": "stream",
     "text": [
      "                                                                 \r"
     ]
    },
    {
     "name": "stdout",
     "output_type": "stream",
     "text": [
      "\n",
      "--- Supervised RG-Flow Stability Analysis ---\n",
      "Stability vs Architecture Model R^2 (sigma): 0.187\n",
      "Most Important Architectural Features:\n",
      "                 feature  importance\n",
      "        layers_per_stage    0.313410\n",
      "             mean_stride    0.252719\n",
      "          total_macs_log    0.105677\n",
      "        total_params_log    0.105220\n",
      "  width_expansion_factor    0.087250\n",
      "        initial_channels    0.041632\n",
      "     downsampling_stages    0.038196\n",
      "   mean_bottleneck_ratio    0.037732\n",
      "            max_channels    0.013870\n",
      "num_projection_shortcuts    0.004294\n",
      "Files already downloaded and verified\n",
      "\n",
      "Running: type=cnn-raw, dataset=cifar, seed=42\n"
     ]
    },
    {
     "name": "stderr",
     "output_type": "stream",
     "text": [
      "                                                                 \r"
     ]
    },
    {
     "name": "stdout",
     "output_type": "stream",
     "text": [
      "\n",
      "--- Supervised RG-Flow Stability Analysis ---\n",
      "Stability vs Architecture Model R^2 (sigma): 0.593\n",
      "Most Important Architectural Features:\n",
      "               feature  importance\n",
      "      layers_per_stage    0.493537\n",
      "           mean_stride    0.319758\n",
      "      total_params_log    0.108434\n",
      "width_expansion_factor    0.033381\n",
      "      initial_channels    0.028692\n",
      "        total_macs_log    0.016143\n",
      "   downsampling_stages    0.000054\n",
      "         use_batchnorm    0.000000\n",
      "          max_channels    0.000000\n",
      "\n",
      "Running: type=cnn-raw, dataset=mnist, seed=42\n"
     ]
    },
    {
     "name": "stderr",
     "output_type": "stream",
     "text": [
      "                                                                 \r"
     ]
    },
    {
     "name": "stdout",
     "output_type": "stream",
     "text": [
      "\n",
      "--- Supervised RG-Flow Stability Analysis ---\n",
      "Stability vs Architecture Model R^2 (sigma): 0.765\n",
      "Most Important Architectural Features:\n",
      "               feature  importance\n",
      "      layers_per_stage    0.448618\n",
      "           mean_stride    0.431661\n",
      "        total_macs_log    0.059475\n",
      "      total_params_log    0.058338\n",
      "width_expansion_factor    0.001003\n",
      "      initial_channels    0.000881\n",
      "   downsampling_stages    0.000025\n",
      "         use_batchnorm    0.000000\n",
      "          max_channels    0.000000\n",
      "\n",
      "Running: type=cnn-bn, dataset=cifar, seed=42\n"
     ]
    },
    {
     "name": "stderr",
     "output_type": "stream",
     "text": [
      "                                                                 \r"
     ]
    },
    {
     "name": "stdout",
     "output_type": "stream",
     "text": [
      "\n",
      "--- Supervised RG-Flow Stability Analysis ---\n",
      "Stability vs Architecture Model R^2 (sigma): 0.768\n",
      "Most Important Architectural Features:\n",
      "               feature  importance\n",
      "      layers_per_stage    0.618080\n",
      "           mean_stride    0.273272\n",
      "      total_params_log    0.052904\n",
      "        total_macs_log    0.032289\n",
      "      initial_channels    0.014802\n",
      "width_expansion_factor    0.008634\n",
      "   downsampling_stages    0.000019\n",
      "         use_batchnorm    0.000000\n",
      "          max_channels    0.000000\n",
      "\n",
      "Running: type=cnn-bn, dataset=mnist, seed=42\n"
     ]
    },
    {
     "name": "stderr",
     "output_type": "stream",
     "text": [
      "                                                                 \r"
     ]
    },
    {
     "name": "stdout",
     "output_type": "stream",
     "text": [
      "\n",
      "--- Supervised RG-Flow Stability Analysis ---\n",
      "Stability vs Architecture Model R^2 (sigma): 0.809\n",
      "Most Important Architectural Features:\n",
      "               feature  importance\n",
      "           mean_stride    0.553179\n",
      "      layers_per_stage    0.267803\n",
      "      total_params_log    0.090871\n",
      "        total_macs_log    0.044303\n",
      "width_expansion_factor    0.029287\n",
      "      initial_channels    0.014513\n",
      "   downsampling_stages    0.000043\n",
      "         use_batchnorm    0.000000\n",
      "          max_channels    0.000000\n",
      "\n",
      "Running: type=resnet, dataset=cifar, seed=42\n"
     ]
    },
    {
     "name": "stderr",
     "output_type": "stream",
     "text": [
      "                                                                 \r"
     ]
    },
    {
     "name": "stdout",
     "output_type": "stream",
     "text": [
      "\n",
      "--- Supervised RG-Flow Stability Analysis ---\n",
      "Stability vs Architecture Model R^2 (sigma): 0.016\n",
      "Most Important Architectural Features:\n",
      "                 feature  importance\n",
      "        layers_per_stage    0.274366\n",
      "             mean_stride    0.236253\n",
      "        total_params_log    0.206060\n",
      "   mean_bottleneck_ratio    0.115348\n",
      "          total_macs_log    0.079518\n",
      "        initial_channels    0.030196\n",
      "            max_channels    0.020885\n",
      "  width_expansion_factor    0.017523\n",
      "num_projection_shortcuts    0.014307\n",
      "     downsampling_stages    0.005544\n",
      "\n",
      "Running: type=resnet, dataset=mnist, seed=42\n"
     ]
    },
    {
     "name": "stderr",
     "output_type": "stream",
     "text": [
      "                                                                 \r"
     ]
    },
    {
     "name": "stdout",
     "output_type": "stream",
     "text": [
      "\n",
      "--- Supervised RG-Flow Stability Analysis ---\n",
      "Stability vs Architecture Model R^2 (sigma): -0.025\n",
      "Most Important Architectural Features:\n",
      "                 feature  importance\n",
      "        layers_per_stage    0.270526\n",
      "        total_params_log    0.210750\n",
      "             mean_stride    0.191097\n",
      "   mean_bottleneck_ratio    0.129579\n",
      "          total_macs_log    0.082233\n",
      "            max_channels    0.057218\n",
      "        initial_channels    0.028514\n",
      "num_projection_shortcuts    0.013991\n",
      "     downsampling_stages    0.009136\n",
      "  width_expansion_factor    0.006957\n",
      "\n",
      "============================================================\n",
      "           CROSS-RUN AGGREGATE ANALYSIS\n",
      "============================================================\n",
      "\n",
      "--- Analysis for Experiment Type: CNN-RAW (4 runs) ---\n",
      "  Mean R^2 Score: 0.709 ± 0.071\n",
      "\n",
      "  Aggregated Feature Importances (Top 5):\n",
      "  Feature                   | Mean Importance\n",
      "  ------------------------------------------\n",
      "  layers_per_stage          | 0.4534         \n",
      "  mean_stride               | 0.4071         \n",
      "  total_params_log          | 0.0497         \n",
      "  initial_channels          | 0.0381         \n",
      "  total_macs_log            | 0.0309         \n",
      "  ------------------------------------------\n",
      "\n",
      "--- Analysis for Experiment Type: CNN-BN (4 runs) ---\n",
      "  Mean R^2 Score: 0.718 ± 0.137\n",
      "\n",
      "  Aggregated Feature Importances (Top 5):\n",
      "  Feature                   | Mean Importance\n",
      "  ------------------------------------------\n",
      "  mean_stride               | 0.4684         \n",
      "  layers_per_stage          | 0.3937         \n",
      "  total_params_log          | 0.0513         \n",
      "  total_macs_log            | 0.0443         \n",
      "  initial_channels          | 0.0213         \n",
      "  ------------------------------------------\n",
      "\n",
      "--- Analysis for Experiment Type: RESNET (4 runs) ---\n",
      "  Mean R^2 Score: 0.047 ± 0.082\n",
      "\n",
      "  Aggregated Feature Importances (Top 5):\n",
      "  Feature                   | Mean Importance\n",
      "  ------------------------------------------\n",
      "  layers_per_stage          | 0.2919         \n",
      "  mean_stride               | 0.2267         \n",
      "  total_params_log          | 0.1651         \n",
      "  total_macs_log            | 0.0926         \n",
      "  mean_bottleneck_ratio     | 0.0866         \n",
      "  ------------------------------------------\n"
     ]
    }
   ],
   "source": [
    "# ===================================================================\n",
    "#\n",
    "#       Definitive Script for RG-Flow Stability Analysis (Phase 1)\n",
    "#\n",
    "# This script uses a flexible, configuration-driven approach to test\n",
    "# if macro-architectural properties can predict signal stability (sigma)\n",
    "# in various neural network families.\n",
    "#\n",
    "# ===================================================================\n",
    "\n",
    "import os\n",
    "import random\n",
    "import numpy as np\n",
    "import pandas as pd\n",
    "import torch\n",
    "import torch.nn as nn\n",
    "import torch.nn.functional as F\n",
    "from torchvision import datasets, transforms\n",
    "from tqdm import tqdm\n",
    "from thop import profile\n",
    "from sklearn.ensemble import GradientBoostingRegressor\n",
    "from sklearn.model_selection import cross_val_score\n",
    "from collections import defaultdict\n",
    "import warnings\n",
    "\n",
    "# --- Global Setup ---\n",
    "torch.set_num_threads(1)\n",
    "warnings.filterwarnings(\"ignore\", category=UserWarning, module=\"thop\")\n",
    "device = torch.device(\"cuda\" if torch.cuda.is_available() else \"cpu\")\n",
    "print(f\"Using device: {device}\")\n",
    "\n",
    "\n",
    "# ===================================================================\n",
    "#  Part 1: Core Utilities and Model Definitions\n",
    "# ===================================================================\n",
    "# (This entire section is unchanged. All model and utility function\n",
    "# definitions remain the same as the previous version.)\n",
    "\n",
    "def set_random_seed(seed: int) -> None:\n",
    "    random.seed(seed); np.random.seed(seed); torch.manual_seed(seed)\n",
    "    if torch.cuda.is_available(): torch.cuda.manual_seed_all(seed)\n",
    "\n",
    "_ds_cache = {}\n",
    "def get_data(ds_name: str, resize: int) -> datasets.VisionDataset:\n",
    "    key = (ds_name, resize)\n",
    "    if key not in _ds_cache:\n",
    "        DataClass = datasets.CIFAR10 if ds_name == 'cifar' else datasets.MNIST\n",
    "        tf = transforms.Compose([transforms.Resize((resize, resize)), transforms.ToTensor()])\n",
    "        _ds_cache[key] = DataClass('./data', train=False, download=True, transform=tf)\n",
    "    return _ds_cache[key]\n",
    "\n",
    "class ModularCNN(nn.Module):\n",
    "    def __init__(self, conv_channels: list, kernel_sizes: list, strides: list, use_batchnorm: bool, in_channels: int = 3):\n",
    "        super().__init__()\n",
    "        self.convs, self.bns = nn.ModuleList(), nn.ModuleList() if use_batchnorm else None\n",
    "        self.use_bn = use_batchnorm; self.strides, self.kernel_sizes = strides, kernel_sizes\n",
    "        for out_ch, k in zip(conv_channels, kernel_sizes):\n",
    "            self.convs.append(nn.Conv2d(in_channels, out_ch, kernel_size=k, padding=k//2))\n",
    "            if self.use_bn: self.bns.append(nn.BatchNorm2d(out_ch))\n",
    "            in_channels = out_ch\n",
    "    def forward(self, x: torch.Tensor) -> list[torch.Tensor]:\n",
    "        activations = []\n",
    "        for i, conv in enumerate(self.convs):\n",
    "            x = conv(x)\n",
    "            if self.use_bn: x = self.bns[i](x)\n",
    "            x = F.relu(x); activations.append(x.clone())\n",
    "            if self.strides[i] > 1: x = F.avg_pool2d(x, kernel_size=self.strides[i])\n",
    "        return activations\n",
    "\n",
    "class ResNetBlock(nn.Module):\n",
    "    def __init__(self, in_ch, out_ch, stride=1, kernel_size=3, bottleneck_ratio=1.0, projection_type='identity', activation='relu'):\n",
    "        super().__init__()\n",
    "        mid_ch = int(out_ch * bottleneck_ratio)\n",
    "        self.conv1, self.bn1 = nn.Conv2d(in_ch, mid_ch, kernel_size, stride, kernel_size//2, bias=False), nn.BatchNorm2d(mid_ch)\n",
    "        self.conv2, self.bn2 = nn.Conv2d(mid_ch, out_ch, kernel_size, 1, kernel_size//2, bias=False), nn.BatchNorm2d(out_ch)\n",
    "        if projection_type == 'conv1x1' or stride != 1 or in_ch != out_ch: self.shortcut = nn.Sequential(nn.Conv2d(in_ch, out_ch, 1, stride, bias=False), nn.BatchNorm2d(out_ch))\n",
    "        else: self.shortcut = nn.Identity()\n",
    "        self.act = F.leaky_relu if activation == 'leaky_relu' else F.relu\n",
    "    def forward(self, x):\n",
    "        y = self.act(self.bn1(self.conv1(x))); y = self.bn2(self.conv2(y)); y += self.shortcut(x); return self.act(y)\n",
    "\n",
    "class ModularResNet(nn.Module):\n",
    "    def __init__(self, channels, block_sizes, kernel_sizes, strides, bottleneck_ratios, projection_types, activation_functions, in_channels=3):\n",
    "        super().__init__()\n",
    "        self.channels, self.block_sizes, self.kernel_sizes, self.strides = channels, block_sizes, kernel_sizes, strides\n",
    "        self.bottleneck_ratios, self.projection_types, self.activation_functions = bottleneck_ratios, projection_types, activation_functions\n",
    "        self.conv1, self.bn1 = nn.Conv2d(in_channels, channels[0], kernel_size=3, stride=1, padding=1, bias=False), nn.BatchNorm2d(channels[0])\n",
    "        self.in_ch = channels[0]\n",
    "        self.layers = nn.ModuleList([self._make_layer(i) for i in range(len(channels))])\n",
    "    def _make_layer(self, stage_idx):\n",
    "        out_ch, num_blocks, s, k = self.channels[stage_idx], self.block_sizes[stage_idx], self.strides[stage_idx], self.kernel_sizes[stage_idx]\n",
    "        br, pt, af = self.bottleneck_ratios[stage_idx], self.projection_types[stage_idx], self.activation_functions[stage_idx]\n",
    "        blocks = []\n",
    "        for i, block_stride in enumerate([s] + [1]*(num_blocks-1)):\n",
    "            current_pt = pt if i == 0 else 'identity'\n",
    "            blocks.append(ResNetBlock(self.in_ch, out_ch, block_stride, k, br, current_pt, af))\n",
    "            self.in_ch = out_ch\n",
    "        return nn.Sequential(*blocks)\n",
    "    def forward(self, x):\n",
    "        acts, x = [], F.relu(self.bn1(self.conv1(x)))\n",
    "        for stage in self.layers:\n",
    "            for block in stage: x = block(x); acts.append(x.clone())\n",
    "        return acts\n",
    "\n",
    "\n",
    "# ===================================================================\n",
    "# Part 2: Architecture Generation and Property Extraction\n",
    "# ===================================================================\n",
    "\n",
    "def _generate_random_cnn(n_layers: int, param_ranges: dict, use_batchnorm: bool, input_size: int, in_channels: int) -> ModularCNN:\n",
    "    \"\"\"Internal generator for ModularCNN.\"\"\"\n",
    "    size, channels, kernels, strides = input_size, [], [], []\n",
    "    for _ in range(n_layers):\n",
    "        s, k, c = random.choice([st for st in param_ranges['strides'] if size // st >= 1] or [1]), random.choice(param_ranges['kernels']), random.choice(param_ranges['channels'])\n",
    "        strides.append(s); kernels.append(k); channels.append(c); size //= s\n",
    "    return ModularCNN(channels, kernels, strides, use_batchnorm, in_channels)\n",
    "\n",
    "def _generate_random_resnet(target_total_blocks: int, param_ranges: dict, input_size: int, in_channels: int) -> ModularResNet:\n",
    "    \"\"\"Internal generator for ModularResNet.\"\"\"\n",
    "    num_stages = 4\n",
    "    blocks_per_stage = [target_total_blocks // num_stages] * num_stages\n",
    "    for i in range(target_total_blocks % num_stages): blocks_per_stage[i] += 1\n",
    "    size, channels, ks, strides, brs, pts, afs = input_size, [], [], [], [], [], []\n",
    "    for i in range(min(num_stages, target_total_blocks)):\n",
    "        if size <= 1: break\n",
    "        c, k, s, br, pt, af = [random.choice(param_ranges[key]) for key in ['channels', 'kernel_sizes', 'strides', 'bottleneck_ratios', 'projection_types', 'activation_functions']]\n",
    "        if size // s < 1: s = 1\n",
    "        channels.append(c); ks.append(k); strides.append(s); brs.append(br); pts.append(pt); afs.append(af); size //= s\n",
    "    valid_blocks_per_stage = [b for b in blocks_per_stage if b > 0]\n",
    "    return ModularResNet(channels, valid_blocks_per_stage, ks, strides, brs, pts, afs, in_channels)\n",
    "\n",
    "def generate_model(config: dict, input_size: int, in_channels: int) -> nn.Module:\n",
    "    \"\"\"\n",
    "    A generic model generator that dispatches to the correct underlying\n",
    "    generator based on the provided configuration dictionary.\n",
    "\n",
    "    Args:\n",
    "        config: The configuration dictionary for a specific experiment type.\n",
    "                Must contain 'generator', 'depth_type', 'depth_choices',\n",
    "                and 'param_ranges'.\n",
    "        input_size: The spatial size of the input image.\n",
    "        in_channels: The number of input channels.\n",
    "\n",
    "    Returns:\n",
    "        A generated PyTorch model instance.\n",
    "    \"\"\"\n",
    "    depth_type = config['depth_type']\n",
    "    depth_value = random.choice(config['depth_choices'])\n",
    "    \n",
    "    if config['generator'] == 'cnn':\n",
    "        return _generate_random_cnn(depth_value, config['param_ranges'], config['use_batchnorm'], input_size, in_channels)\n",
    "    elif config['generator'] == 'resnet':\n",
    "        return _generate_random_resnet(depth_value, config['param_ranges'], input_size, in_channels)\n",
    "    else:\n",
    "        raise ValueError(f\"Unknown generator specified in config: {config['generator']}\")\n",
    "\n",
    "def extract_model_properties(model: nn.Module) -> pd.DataFrame:\n",
    "    \"\"\"Dispatcher to extract raw, layer-wise architectural properties.\"\"\"\n",
    "    if isinstance(model, ModularCNN):\n",
    "        props_list = [{'arch_type': 'cnn', 'depth': i + 1, 'channels': c.out_channels,\n",
    "                       'strides': model.strides[i], 'kernel_size': model.kernel_sizes[i],\n",
    "                       'use_batchnorm': int(model.use_bn)} for i, c in enumerate(model.convs)]\n",
    "        return pd.DataFrame(props_list)\n",
    "    elif isinstance(model, ModularResNet):\n",
    "        props_list = [{'arch_type': 'resnet', 'depth': 1, 'channels': model.conv1.out_channels, 'strides': 1,\n",
    "                       'bottleneck': 1.0, 'projection': 0, 'use_batchnorm': 1}]\n",
    "        depth_counter = 2\n",
    "        for i, stage in enumerate(model.layers):\n",
    "            is_first_block = True\n",
    "            for block in stage:\n",
    "                props = {'arch_type': 'resnet', 'depth': depth_counter, 'channels': block.conv1.out_channels,\n",
    "                         'strides': block.conv1.stride[0], 'bottleneck': model.bottleneck_ratios[i],\n",
    "                         'projection': 1 if is_first_block and not isinstance(block.shortcut, nn.Identity) else 0,\n",
    "                         'use_batchnorm': 1}\n",
    "                props_list.append(props)\n",
    "                is_first_block = False; depth_counter += 1\n",
    "        return pd.DataFrame(props_list)\n",
    "    raise ValueError(f\"Unknown model type: {type(model)}\")\n",
    "\n",
    "\n",
    "def extract_natural_features(model: nn.Module, props_df: pd.DataFrame, input_shape: tuple) -> dict:\n",
    "    \"\"\"Performs feature engineering to create high-level architectural features.\"\"\"\n",
    "    dummy_input = torch.randn(input_shape)\n",
    "    macs, params = profile(model.to('cpu'), inputs=(dummy_input,), verbose=False)\n",
    "    model.to(device)\n",
    "    features = {'total_macs_log': np.log1p(macs), 'total_params_log': np.log1p(params)}\n",
    "    features['use_batchnorm'] = props_df['use_batchnorm'].iloc[0]\n",
    "    channels, strides, arch_type = props_df['channels'], props_df['strides'], props_df['arch_type'].iloc[0]\n",
    "    total_depth, downsampling_stages = len(props_df), (strides > 1).sum()\n",
    "    features.update({\n",
    "        'initial_channels': channels.iloc[0], 'max_channels': channels.max(),\n",
    "        'width_expansion_factor': channels.max() / (channels.iloc[0] + 1e-8),\n",
    "        'downsampling_stages': downsampling_stages,\n",
    "        'layers_per_stage': total_depth / (downsampling_stages + 1e-8),\n",
    "        'mean_stride': strides.mean()\n",
    "    })\n",
    "    if arch_type == 'resnet' and 'bottleneck' in props_df:\n",
    "        features['mean_bottleneck_ratio'] = props_df['bottleneck'].mean()\n",
    "        features['num_projection_shortcuts'] = props_df['projection'].sum()\n",
    "    return features\n",
    "\n",
    "\n",
    "# ===================================================================\n",
    "# Part 3: Core Metric Calculation (Sigma)\n",
    "# ===================================================================\n",
    "\n",
    "def compute_sigma(model: nn.Module, x: torch.Tensor) -> float:\n",
    "    \"\"\"Computes the signal propagation stability metric, sigma.\"\"\"\n",
    "    model.eval()\n",
    "    with torch.no_grad():\n",
    "        clean_acts = model(x)\n",
    "        if len(clean_acts) < 2: return 0.0\n",
    "        all_deltas = []\n",
    "        for noise_std in np.linspace(0.01, 0.3, 10):\n",
    "            noisy_acts = model(x + noise_std * torch.randn_like(x))\n",
    "            deltas = [(n - c).flatten(1).norm(dim=1) for n, c in zip(noisy_acts, clean_acts)]\n",
    "            all_deltas.append(torch.stack(deltas).mean(dim=1).cpu().numpy())\n",
    "    all_deltas = np.array(all_deltas)\n",
    "    lambdas = [-np.log(max(np.linalg.lstsq(all_deltas[:, i, np.newaxis], all_deltas[:, i+1], rcond=None)[0][0], 1e-8)) for i in range(len(clean_acts) - 1)]\n",
    "    return np.std(lambdas) if lambdas else 0.0\n",
    "\n",
    "\n",
    "# ===================================================================\n",
    "# Part 4: Regression Analysis\n",
    "# ===================================================================\n",
    "\n",
    "def train_and_analyze_stability_model(X: pd.DataFrame, y: np.ndarray) -> tuple[pd.DataFrame, float]:\n",
    "    \"\"\"Trains a Gradient Boosting model to predict sigma from features.\"\"\"\n",
    "    if len(X) < 10: return pd.DataFrame(), np.nan\n",
    "    gbr = GradientBoostingRegressor(n_estimators=100, max_depth=4, random_state=0)\n",
    "    cv_scores = cross_val_score(gbr, X, y, cv=min(5, len(X)), scoring='r2')\n",
    "    gbr.fit(X, y)\n",
    "    importances = pd.DataFrame({'feature': X.columns, 'importance': gbr.feature_importances_})\n",
    "    return importances.sort_values(by='importance', ascending=False).reset_index(drop=True), np.mean(cv_scores)\n",
    "\n",
    "\n",
    "# ===================================================================\n",
    "# Part 5: Experiment Orchestration\n",
    "# ===================================================================\n",
    "\n",
    "def run_experiment(config: dict) -> dict:\n",
    "    \"\"\"Runs a single full experiment for a given configuration.\"\"\"\n",
    "    set_random_seed(config['seed'])\n",
    "    ds_info = {'cifar': (32, 3), 'mnist': (28, 1)}\n",
    "    base_size, in_channels = ds_info[config['dataset']]\n",
    "    scale = random.uniform(*config['resize_range'])\n",
    "    input_size = int(base_size * scale)\n",
    "    ds = get_data(config['dataset'], resize=input_size)\n",
    "    n_samples = max(4, int(len(ds) * config['data_fraction']))\n",
    "    indices = np.random.choice(len(ds), n_samples, replace=False)\n",
    "    x = torch.stack([ds[i][0] for i in indices]).to(device)\n",
    "\n",
    "    print(f\"\\nRunning: type={config['experiment_type']}, dataset={config['dataset']}, seed={config['seed']}\")\n",
    "    \n",
    "    all_sigmas, all_features = [], []\n",
    "    for _ in tqdm(range(config['n_models']), desc=\"Measuring models\", leave=False):\n",
    "        \n",
    "        model = generate_model(config, input_size, in_channels).to(device)\n",
    "\n",
    "        sigma = compute_sigma(model, x)\n",
    "        if sigma <= 0.0: continue\n",
    "        all_sigmas.append(sigma)\n",
    "        \n",
    "        props_df = extract_model_properties(model)\n",
    "        features = extract_natural_features(model, props_df, (1, in_channels, input_size, input_size))\n",
    "        all_features.append(features)\n",
    "        del model\n",
    "        if device.type == 'cuda': torch.cuda.empty_cache()\n",
    "\n",
    "    if not all_features: return {}\n",
    "    X_df = pd.DataFrame(all_features).fillna(0)\n",
    "    y_sigma = np.array(all_sigmas)\n",
    "\n",
    "    print(\"\\n--- Supervised RG-Flow Stability Analysis ---\")\n",
    "    importances, r2_score = train_and_analyze_stability_model(X_df, y_sigma)\n",
    "    if not importances.empty:\n",
    "        print(f\"Stability vs Architecture Model R^2 (sigma): {r2_score:.3f}\")\n",
    "        print(\"Most Important Architectural Features:\")\n",
    "        print(importances.head(10).to_string(index=False))\n",
    "        \n",
    "    return {'r2_score': r2_score, 'feature_importances': importances.to_dict('records')}\n",
    "\n",
    "def analyze_all_runs(results_list: list[dict]):\n",
    "    \"\"\"Analyzes and aggregates results, grouping by the experimental condition.\"\"\"\n",
    "    print(\"\\n\" + \"=\"*60 + \"\\n           CROSS-RUN AGGREGATE ANALYSIS\\n\" + \"=\"*60)\n",
    "    grouped_results = defaultdict(list)\n",
    "    for r in results_list:\n",
    "        if r and 'meta' in r: grouped_results[r['meta']['type']].append(r)\n",
    "\n",
    "    for exp_type, runs in grouped_results.items():\n",
    "        print(f\"\\n--- Analysis for Experiment Type: {exp_type.upper()} ({len(runs)} runs) ---\")\n",
    "        r2_scores = [r.get('r2_score', np.nan) for r in runs if r]\n",
    "        if r2_scores: print(f\"  Mean R^2 Score: {np.mean(r2_scores):.3f} ± {np.std(r2_scores):.3f}\")\n",
    "        agg_importances = defaultdict(list)\n",
    "        for r in runs:\n",
    "            if r and 'feature_importances' in r:\n",
    "                for item in r['feature_importances']: agg_importances[item['feature']].append(item['importance'])\n",
    "        if agg_importances:\n",
    "            mean_imps = {name: np.mean(vals) for name, vals in agg_importances.items()}\n",
    "            sorted_imps = sorted(mean_imps.items(), key=lambda item: item[1], reverse=True)\n",
    "            print(\"\\n  Aggregated Feature Importances (Top 5):\")\n",
    "            print(f\"  {'Feature':<25} | {'Mean Importance':<15}\\n  \" + \"-\" * 42)\n",
    "            for feature, importance in sorted_imps[:5]: print(f\"  {feature:<25} | {importance:<15.4f}\")\n",
    "            print(\"  \" + \"-\" * 42)\n",
    "\n",
    "\n",
    "# ===================================================================\n",
    "# Part 6: Main Execution Block\n",
    "# ===================================================================\n",
    "if __name__ == '__main__':\n",
    "    \n",
    "    ### --- The configuration drives the entire experimental logic --- ###\n",
    "    experiment_configs = {\n",
    "        'cnn-raw': {\n",
    "            'generator': 'cnn',\n",
    "            'depth_type': 'total_layers',\n",
    "            'use_batchnorm': False,\n",
    "            'depth_choices': [8, 12, 16, 24, 32, 48, 60],\n",
    "            'resize_range': (1.0, 2.0),\n",
    "            'param_ranges': {\n",
    "                'strides':  [1, 2],\n",
    "                'kernels':  [3],\n",
    "                'channels': [16, 32, 64, 128, 256, 512]\n",
    "            }\n",
    "        },\n",
    "        'cnn-bn': {\n",
    "            'generator': 'cnn',\n",
    "            'depth_type': 'total_layers',\n",
    "            'use_batchnorm': True,\n",
    "            'depth_choices': [8, 12, 16, 24, 32, 48, 60],\n",
    "            'resize_range': (1.0, 2.0),\n",
    "            'param_ranges': {\n",
    "                'strides':  [1, 2],\n",
    "                'kernels':  [3],\n",
    "                'channels': [16, 32, 64, 128, 256, 512]\n",
    "            }\n",
    "        },\n",
    "        'resnet': {\n",
    "            'generator': 'resnet',\n",
    "            'depth_type': 'total_blocks',\n",
    "            'depth_choices': [8, 16, 25, 33, 49],\n",
    "            'resize_range': (1.0, 2.0),\n",
    "            'param_ranges': {\n",
    "                'channels':          [32, 64, 128, 256, 512],\n",
    "                'kernel_sizes':      [3],\n",
    "                'strides':           [1, 2],\n",
    "                'bottleneck_ratios': [1.0, 0.5, 0.25],\n",
    "                'projection_types':  ['identity', 'conv1x1'],\n",
    "                'activation_functions': ['relu']\n",
    "            }\n",
    "        }\n",
    "    }\n",
    "\n",
    "    all_run_results = []\n",
    "    \n",
    "    for seed in [1, 42]:\n",
    "        for exp_type, specific_config in experiment_configs.items():\n",
    "            for dataset in ['cifar', 'mnist']:\n",
    "                config = {\n",
    "                    'seed': seed, 'experiment_type': exp_type, 'dataset': dataset,\n",
    "                    'data_fraction': 0.0016, 'n_models': 50,\n",
    "                    **specific_config\n",
    "                }\n",
    "                \n",
    "                result = run_experiment(config)\n",
    "                if result:\n",
    "                    result['meta'] = {'type': exp_type, 'dataset': dataset, 'seed': seed}\n",
    "                    all_run_results.append(result)\n",
    "\n",
    "    if all_run_results:\n",
    "        analyze_all_runs(all_run_results)"
   ]
  },
  {
   "cell_type": "code",
   "execution_count": 5,
   "id": "dae78ff5-077b-49f3-a4ab-c3fbc07eda15",
   "metadata": {
    "execution": {
     "iopub.execute_input": "2025-07-01T18:31:24.010026Z",
     "iopub.status.busy": "2025-07-01T18:31:24.009760Z",
     "iopub.status.idle": "2025-07-01T18:35:48.596642Z",
     "shell.execute_reply": "2025-07-01T18:35:48.595949Z",
     "shell.execute_reply.started": "2025-07-01T18:31:24.010008Z"
    }
   },
   "outputs": [
    {
     "name": "stdout",
     "output_type": "stream",
     "text": [
      "Using device: cuda\n",
      "Files already downloaded and verified\n",
      "Files already downloaded and verified\n",
      "--- Starting Training and Dynamics Probe ---\n"
     ]
    },
    {
     "name": "stderr",
     "output_type": "stream",
     "text": [
      "Epoch 1/20: 100%|██████████| 391/391 [00:11<00:00, 34.18it/s, loss=1.38]\n"
     ]
    },
    {
     "name": "stdout",
     "output_type": "stream",
     "text": [
      "Epoch 1/20 -> Val Acc: 58.47%, Median Ratio: 0.9430\n"
     ]
    },
    {
     "name": "stderr",
     "output_type": "stream",
     "text": [
      "Epoch 2/20: 100%|██████████| 391/391 [00:11<00:00, 33.95it/s, loss=0.813]\n"
     ]
    },
    {
     "name": "stdout",
     "output_type": "stream",
     "text": [
      "Epoch 2/20 -> Val Acc: 65.07%, Median Ratio: 0.9404\n"
     ]
    },
    {
     "name": "stderr",
     "output_type": "stream",
     "text": [
      "Epoch 3/20: 100%|██████████| 391/391 [00:11<00:00, 34.15it/s, loss=0.634]\n"
     ]
    },
    {
     "name": "stdout",
     "output_type": "stream",
     "text": [
      "Epoch 3/20 -> Val Acc: 73.27%, Median Ratio: 0.9521\n"
     ]
    },
    {
     "name": "stderr",
     "output_type": "stream",
     "text": [
      "Epoch 4/20: 100%|██████████| 391/391 [00:11<00:00, 33.92it/s, loss=0.485]\n"
     ]
    },
    {
     "name": "stdout",
     "output_type": "stream",
     "text": [
      "Epoch 4/20 -> Val Acc: 78.45%, Median Ratio: 0.9793\n"
     ]
    },
    {
     "name": "stderr",
     "output_type": "stream",
     "text": [
      "Epoch 5/20: 100%|██████████| 391/391 [00:11<00:00, 33.49it/s, loss=0.422]\n"
     ]
    },
    {
     "name": "stdout",
     "output_type": "stream",
     "text": [
      "Epoch 5/20 -> Val Acc: 76.96%, Median Ratio: 0.9800\n"
     ]
    },
    {
     "name": "stderr",
     "output_type": "stream",
     "text": [
      "Epoch 6/20: 100%|██████████| 391/391 [00:11<00:00, 33.73it/s, loss=0.475]\n"
     ]
    },
    {
     "name": "stdout",
     "output_type": "stream",
     "text": [
      "Epoch 6/20 -> Val Acc: 79.43%, Median Ratio: 0.9775\n"
     ]
    },
    {
     "name": "stderr",
     "output_type": "stream",
     "text": [
      "Epoch 7/20: 100%|██████████| 391/391 [00:11<00:00, 33.41it/s, loss=0.288]\n"
     ]
    },
    {
     "name": "stdout",
     "output_type": "stream",
     "text": [
      "Epoch 7/20 -> Val Acc: 83.15%, Median Ratio: 0.9819\n"
     ]
    },
    {
     "name": "stderr",
     "output_type": "stream",
     "text": [
      "Epoch 8/20: 100%|██████████| 391/391 [00:11<00:00, 33.69it/s, loss=0.274]\n"
     ]
    },
    {
     "name": "stdout",
     "output_type": "stream",
     "text": [
      "Epoch 8/20 -> Val Acc: 83.13%, Median Ratio: 0.9945\n"
     ]
    },
    {
     "name": "stderr",
     "output_type": "stream",
     "text": [
      "Epoch 9/20: 100%|██████████| 391/391 [00:11<00:00, 33.91it/s, loss=0.376]\n"
     ]
    },
    {
     "name": "stdout",
     "output_type": "stream",
     "text": [
      "Epoch 9/20 -> Val Acc: 84.96%, Median Ratio: 0.9982\n"
     ]
    },
    {
     "name": "stderr",
     "output_type": "stream",
     "text": [
      "Epoch 10/20: 100%|██████████| 391/391 [00:11<00:00, 33.28it/s, loss=0.436]\n"
     ]
    },
    {
     "name": "stdout",
     "output_type": "stream",
     "text": [
      "Epoch 10/20 -> Val Acc: 84.84%, Median Ratio: 0.9857\n"
     ]
    },
    {
     "name": "stderr",
     "output_type": "stream",
     "text": [
      "Epoch 11/20: 100%|██████████| 391/391 [00:11<00:00, 33.46it/s, loss=0.448]\n"
     ]
    },
    {
     "name": "stdout",
     "output_type": "stream",
     "text": [
      "Epoch 11/20 -> Val Acc: 86.51%, Median Ratio: 0.9989\n"
     ]
    },
    {
     "name": "stderr",
     "output_type": "stream",
     "text": [
      "Epoch 12/20: 100%|██████████| 391/391 [00:11<00:00, 33.40it/s, loss=0.402]\n"
     ]
    },
    {
     "name": "stdout",
     "output_type": "stream",
     "text": [
      "Epoch 12/20 -> Val Acc: 85.90%, Median Ratio: 1.0244\n"
     ]
    },
    {
     "name": "stderr",
     "output_type": "stream",
     "text": [
      "Epoch 13/20: 100%|██████████| 391/391 [00:11<00:00, 33.53it/s, loss=0.462]\n"
     ]
    },
    {
     "name": "stdout",
     "output_type": "stream",
     "text": [
      "Epoch 13/20 -> Val Acc: 86.18%, Median Ratio: 1.0321\n"
     ]
    },
    {
     "name": "stderr",
     "output_type": "stream",
     "text": [
      "Epoch 14/20: 100%|██████████| 391/391 [00:11<00:00, 33.23it/s, loss=0.284] \n"
     ]
    },
    {
     "name": "stdout",
     "output_type": "stream",
     "text": [
      "Epoch 14/20 -> Val Acc: 86.44%, Median Ratio: 1.0486\n"
     ]
    },
    {
     "name": "stderr",
     "output_type": "stream",
     "text": [
      "Epoch 15/20: 100%|██████████| 391/391 [00:11<00:00, 33.06it/s, loss=0.116] \n"
     ]
    },
    {
     "name": "stdout",
     "output_type": "stream",
     "text": [
      "Epoch 15/20 -> Val Acc: 87.68%, Median Ratio: 1.0260\n"
     ]
    },
    {
     "name": "stderr",
     "output_type": "stream",
     "text": [
      "Epoch 16/20: 100%|██████████| 391/391 [00:11<00:00, 33.42it/s, loss=0.252] \n"
     ]
    },
    {
     "name": "stdout",
     "output_type": "stream",
     "text": [
      "Epoch 16/20 -> Val Acc: 88.08%, Median Ratio: 1.0560\n"
     ]
    },
    {
     "name": "stderr",
     "output_type": "stream",
     "text": [
      "Epoch 17/20: 100%|██████████| 391/391 [00:11<00:00, 33.65it/s, loss=0.265] \n"
     ]
    },
    {
     "name": "stdout",
     "output_type": "stream",
     "text": [
      "Epoch 17/20 -> Val Acc: 88.34%, Median Ratio: 1.0467\n"
     ]
    },
    {
     "name": "stderr",
     "output_type": "stream",
     "text": [
      "Epoch 18/20: 100%|██████████| 391/391 [00:11<00:00, 33.24it/s, loss=0.191] \n"
     ]
    },
    {
     "name": "stdout",
     "output_type": "stream",
     "text": [
      "Epoch 18/20 -> Val Acc: 87.83%, Median Ratio: 1.0464\n"
     ]
    },
    {
     "name": "stderr",
     "output_type": "stream",
     "text": [
      "Epoch 19/20: 100%|██████████| 391/391 [00:11<00:00, 33.02it/s, loss=0.164] \n"
     ]
    },
    {
     "name": "stdout",
     "output_type": "stream",
     "text": [
      "Epoch 19/20 -> Val Acc: 89.42%, Median Ratio: 1.0703\n"
     ]
    },
    {
     "name": "stderr",
     "output_type": "stream",
     "text": [
      "Epoch 20/20: 100%|██████████| 391/391 [00:11<00:00, 33.00it/s, loss=0.12]  \n"
     ]
    },
    {
     "name": "stdout",
     "output_type": "stream",
     "text": [
      "Epoch 20/20 -> Val Acc: 89.53%, Median Ratio: 1.0776\n",
      "\n",
      "✅ Training complete. Generating dynamics plot...\n"
     ]
    },
    {
     "data": {
      "image/png": "[encoded data removed]",
      "text/plain": [
       "<Figure size 1200x700 with 2 Axes>"
      ]
     },
     "metadata": {},
     "output_type": "display_data"
    }
   ],
   "source": [
    "# ===================================================================\n",
    "#\n",
    "#       Script for Probing ResNet Training Dynamics (Phase 2)\n",
    "#\n",
    "# Scientific Goal:\n",
    "# To test the hypothesis that a ResNet's learning process follows a\n",
    "# principle of \"least computational effort\". We predict that the network\n",
    "# will initially suppress its complex residual pathways (minimizing \"energy\")\n",
    "# and only increase their strength as forced by the loss function to learn\n",
    "# complex features.\n",
    "#\n",
    "# Methodology:\n",
    "# 1. Define a single, standard ResNet-18 architecture.\n",
    "# 2. Train it on a complex classification task (CIFAR-10).\n",
    "# 3. At the end of each training epoch, \"probe\" the model by measuring the\n",
    "#    L2 norm of its skip-connection path vs. its residual path for every block.\n",
    "# 4. Plot the median of this `residual/shortcut` ratio as a function of\n",
    "#    the training epoch.\n",
    "# 5. We hypothesize the plot will show an initial dip followed by a gradual rise.\n",
    "#\n",
    "# ===================================================================\n",
    "\n",
    "import os\n",
    "import random\n",
    "import numpy as np\n",
    "import torch\n",
    "import torch.nn as nn\n",
    "import torch.nn.functional as F\n",
    "from torchvision import datasets, transforms\n",
    "from torch.utils.data import DataLoader\n",
    "from tqdm import tqdm\n",
    "import warnings\n",
    "import matplotlib.pyplot as plt\n",
    "\n",
    "# --- Global Setup ---\n",
    "torch.set_num_threads(1)\n",
    "warnings.filterwarnings(\"ignore\", category=UserWarning)\n",
    "device = torch.device(\"cuda\" if torch.cuda.is_available() else \"cpu\")\n",
    "print(f\"Using device: {device}\")\n",
    "\n",
    "\n",
    "# ===================================================================\n",
    "#  Part 1: Core Utilities and Model Definitions\n",
    "# ===================================================================\n",
    "\n",
    "def set_random_seed(seed: int) -> None:\n",
    "    \"\"\"Sets the random seed for reproducibility.\"\"\"\n",
    "    random.seed(seed)\n",
    "    np.random.seed(seed)\n",
    "    torch.manual_seed(seed)\n",
    "    if torch.cuda.is_available():\n",
    "        torch.cuda.manual_seed_all(seed)\n",
    "\n",
    "class ResNetBlock(nn.Module):\n",
    "    \"\"\"A standard ResNet block, modified to return the norms of its internal paths.\"\"\"\n",
    "    def __init__(self, in_ch: int, out_ch: int, stride: int = 1):\n",
    "        super().__init__()\n",
    "        self.conv1, self.bn1 = nn.Conv2d(in_ch, out_ch, kernel_size=3, stride=stride, padding=1, bias=False), nn.BatchNorm2d(out_ch)\n",
    "        self.conv2, self.bn2 = nn.Conv2d(out_ch, out_ch, kernel_size=3, stride=1, padding=1, bias=False), nn.BatchNorm2d(out_ch)\n",
    "        self.shortcut = nn.Sequential()\n",
    "        if stride != 1 or in_ch != out_ch:\n",
    "            self.shortcut = nn.Sequential(nn.Conv2d(in_ch, out_ch, 1, stride, bias=False), nn.BatchNorm2d(out_ch))\n",
    "\n",
    "    def forward(self, x: torch.Tensor) -> tuple[torch.Tensor, dict]:\n",
    "        \"\"\"\n",
    "        Performs the forward pass and returns both the output tensor and a\n",
    "        dictionary containing the L2 norms of the shortcut and residual paths.\n",
    "        \"\"\"\n",
    "        shortcut_out = self.shortcut(x)\n",
    "        residual_out = F.relu(self.bn1(self.conv1(x)))\n",
    "        residual_out = self.bn2(self.conv2(residual_out))\n",
    "        \n",
    "        path_norms = {\n",
    "            'shortcut_norm': torch.linalg.norm(shortcut_out).item(),\n",
    "            'residual_norm': torch.linalg.norm(residual_out).item()\n",
    "        }\n",
    "        \n",
    "        y = residual_out + shortcut_out\n",
    "        return F.relu(y), path_norms\n",
    "\n",
    "\n",
    "class ModularResNet(nn.Module):\n",
    "    \"\"\"A modular ResNet backbone, instrumented for probing.\"\"\"\n",
    "    def __init__(self, block_class, num_blocks: list, num_channels: list, in_channels: int = 3):\n",
    "        super().__init__()\n",
    "        self.in_planes = num_channels[0]\n",
    "        self.conv1 = nn.Conv2d(in_channels, num_channels[0], kernel_size=3, stride=1, padding=1, bias=False)\n",
    "        self.bn1 = nn.BatchNorm2d(num_channels[0])\n",
    "        self.layer1 = self._make_layer(block_class, num_channels[0], num_blocks[0], stride=1)\n",
    "        self.layer2 = self._make_layer(block_class, num_channels[1], num_blocks[1], stride=2)\n",
    "        self.layer3 = self._make_layer(block_class, num_channels[2], num_blocks[2], stride=2)\n",
    "        self.layer4 = self._make_layer(block_class, num_channels[3], num_blocks[3], stride=2)\n",
    "        \n",
    "    def _make_layer(self, block_class, planes, num_blocks, stride):\n",
    "        strides = [stride] + [1]*(num_blocks-1)\n",
    "        layers = []\n",
    "        for s in strides:\n",
    "            layers.append(block_class(self.in_planes, planes, s))\n",
    "            self.in_planes = planes\n",
    "        return nn.Sequential(*layers)\n",
    "\n",
    "    def forward(self, x: torch.Tensor, probe_norms: bool = False):\n",
    "        \"\"\"\n",
    "        Performs a forward pass. If `probe_norms` is True, it collects and\n",
    "        returns the path norms from every block.\n",
    "        \"\"\"\n",
    "        all_norms = []\n",
    "        out = F.relu(self.bn1(self.conv1(x)))\n",
    "        \n",
    "        for stage in [self.layer1, self.layer2, self.layer3, self.layer4]:\n",
    "            for block in stage:\n",
    "                # The block always returns a tuple, we just handle it differently\n",
    "                out, norms = block(out)\n",
    "                if probe_norms:\n",
    "                    all_norms.append(norms)\n",
    "        \n",
    "        if probe_norms:\n",
    "            return out, all_norms\n",
    "        return out\n",
    "\n",
    "\n",
    "class Classifier(nn.Module):\n",
    "    \"\"\"A classification model using a ResNet backbone.\"\"\"\n",
    "    def __init__(self, resnet_backbone, num_classes=10):\n",
    "        super().__init__()\n",
    "        self.backbone = resnet_backbone\n",
    "        self.avgpool = nn.AdaptiveAvgPool2d((1, 1))\n",
    "        # The number of input features to the linear layer must match the last channel count\n",
    "        self.linear = nn.Linear(512, num_classes)\n",
    "\n",
    "    def forward(self, x, probe_norms=False):\n",
    "        # Propagate the probe_norms flag to the backbone\n",
    "        if probe_norms:\n",
    "            out, all_norms = self.backbone(x, probe_norms=True)\n",
    "        else:\n",
    "            out = self.backbone(x, probe_norms=False)\n",
    "            all_norms = None # Ensure all_norms exists\n",
    "\n",
    "        out_pooled = self.avgpool(out)\n",
    "        out_flat = out_pooled.view(out_pooled.size(0), -1)\n",
    "        final_out = self.linear(out_flat)\n",
    "        \n",
    "        if probe_norms:\n",
    "            return final_out, all_norms\n",
    "        return final_out\n",
    "\n",
    "\n",
    "# ===================================================================\n",
    "# Part 2: Training, Probing, and Analysis\n",
    "# ===================================================================\n",
    "\n",
    "def probe_and_evaluate(model, loader, criterion, device):\n",
    "    \"\"\"\n",
    "    Evaluates the model on the validation set and probes its internal ratios.\n",
    "    \"\"\"\n",
    "    model.eval()\n",
    "    val_loss, val_correct, total = 0.0, 0, 0\n",
    "    all_ratios = []\n",
    "    \n",
    "    with torch.no_grad():\n",
    "        for data, target in loader:\n",
    "            data, target = data.to(device), target.to(device)\n",
    "            \n",
    "            # Get standard output for loss/accuracy calculation\n",
    "            output = model(data, probe_norms=False)\n",
    "            loss = criterion(output, target)\n",
    "            val_loss += loss.item() * data.size(0)\n",
    "            \n",
    "            _, predicted = output.max(1)\n",
    "            val_correct += predicted.eq(target).sum().item()\n",
    "            total += target.size(0)\n",
    "\n",
    "        # Probe the norms on just one batch for speed\n",
    "        data, _ = next(iter(loader))\n",
    "        data = data.to(device)\n",
    "        _, all_norms = model(data, probe_norms=True)\n",
    "        for norms in all_norms:\n",
    "            ratio = norms['residual_norm'] / (norms['shortcut_norm'] + 1e-8)\n",
    "            all_ratios.append(ratio)\n",
    "            \n",
    "    avg_loss = val_loss / total\n",
    "    accuracy = 100. * val_correct / total\n",
    "    median_ratio = np.median(all_ratios) if all_ratios else np.nan\n",
    "    \n",
    "    return avg_loss, accuracy, median_ratio\n",
    "\n",
    "\n",
    "def plot_dynamics(history: dict):\n",
    "    \"\"\"\n",
    "    Generates the final plots showing accuracy and internal dynamics over time.\n",
    "    \"\"\"\n",
    "    fig, ax1 = plt.subplots(figsize=(12, 7))\n",
    "    plt.style.use('seaborn-v0_8-whitegrid')\n",
    "\n",
    "    epochs = range(len(history['val_acc']))\n",
    "\n",
    "    # Plot 1: Validation Accuracy (left y-axis)\n",
    "    color = 'tab:blue'\n",
    "    ax1.set_xlabel('Training Epoch', fontsize=14)\n",
    "    ax1.set_ylabel('Validation Accuracy (%)', color=color, fontsize=14)\n",
    "    ax1.plot(epochs, history['val_acc'], color=color, marker='o', linestyle='-', label='Validation Accuracy')\n",
    "    ax1.tick_params(axis='y', labelcolor=color)\n",
    "    ax1.grid(True)\n",
    "\n",
    "    # Plot 2: Median Ratio (right y-axis)\n",
    "    ax2 = ax1.twinx()\n",
    "    color = 'tab:red'\n",
    "    ax2.set_ylabel('Median (Residual / Shortcut) Norm Ratio', color=color, fontsize=14)\n",
    "    ax2.plot(epochs, history['median_ratios'], color=color, marker='s', linestyle='--', label='Median Path Ratio')\n",
    "    ax2.tick_params(axis='y', labelcolor=color)\n",
    "    # Optional: use a log scale if the ratio changes by orders of magnitude\n",
    "    # ax2.set_yscale('log')\n",
    "\n",
    "    fig.suptitle('ResNet Training Dynamics: Accuracy vs. Internal \"Energy Cost\"', fontsize=18)\n",
    "    # Add a single legend for both axes\n",
    "    lines, labels = ax1.get_legend_handles_labels()\n",
    "    lines2, labels2 = ax2.get_legend_handles_labels()\n",
    "    ax2.legend(lines + lines2, labels + labels2, loc='center right')\n",
    "    \n",
    "    plt.tight_layout(rect=[0, 0, 1, 0.95])\n",
    "    plt.show()\n",
    "\n",
    "\n",
    "# ===================================================================\n",
    "# Part 3: Main Execution Block\n",
    "# ===================================================================\n",
    "\n",
    "if __name__ == '__main__':\n",
    "    # --- Configuration ---\n",
    "    SEED = 42\n",
    "    BATCH_SIZE = 128\n",
    "    EPOCHS = 20 # Train for more epochs to see the full dynamic\n",
    "    LEARNING_RATE = 1e-3\n",
    "    \n",
    "    # Define a standard ResNet-18 style architecture\n",
    "    RESNET18_BLOCKS = [2, 2, 2, 2]\n",
    "    RESNET18_CHANNELS = [64, 128, 256, 512]\n",
    "    set_random_seed(SEED)\n",
    "\n",
    "    # --- Data Loading (CIFAR-10) ---\n",
    "    transform = transforms.Compose([\n",
    "        transforms.RandomCrop(32, padding=4),\n",
    "        transforms.RandomHorizontalFlip(),\n",
    "        transforms.ToTensor(),\n",
    "        transforms.Normalize((0.4914, 0.4822, 0.4465), (0.2023, 0.1994, 0.2010)),\n",
    "    ])\n",
    "    train_dataset = datasets.CIFAR10(root='./data', train=True, download=True, transform=transform)\n",
    "    val_dataset = datasets.CIFAR10(root='./data', train=False, download=True, transform=transform)\n",
    "    train_loader = DataLoader(train_dataset, batch_size=BATCH_SIZE, shuffle=True, num_workers=2)\n",
    "    val_loader = DataLoader(val_dataset, batch_size=BATCH_SIZE, num_workers=2)\n",
    "\n",
    "    # --- Model Setup ---\n",
    "    resnet_backbone = ModularResNet(ResNetBlock, RESNET18_BLOCKS, RESNET18_CHANNELS, in_channels=3).to(device)\n",
    "    model = Classifier(resnet_backbone).to(device)\n",
    "    optimizer = torch.optim.Adam(model.parameters(), lr=LEARNING_RATE)\n",
    "    criterion = nn.CrossEntropyLoss()\n",
    "    \n",
    "    # --- Training and Probing Loop ---\n",
    "    history = {'val_acc': [], 'median_ratios': []}\n",
    "    \n",
    "    print(\"--- Starting Training and Dynamics Probe ---\")\n",
    "    for epoch in range(EPOCHS):\n",
    "        model.train()\n",
    "        pbar = tqdm(train_loader, desc=f\"Epoch {epoch+1}/{EPOCHS}\")\n",
    "        for data, target in pbar:\n",
    "            data, target = data.to(device), target.to(device)\n",
    "            optimizer.zero_grad()\n",
    "            output = model(data)\n",
    "            loss = criterion(output, target)\n",
    "            loss.backward()\n",
    "            optimizer.step()\n",
    "            pbar.set_postfix(loss=loss.item())\n",
    "\n",
    "        # At the end of each epoch, evaluate and probe the model\n",
    "        val_loss, val_acc, median_ratio = probe_and_evaluate(model, val_loader, criterion, device)\n",
    "        history['val_acc'].append(val_acc)\n",
    "        history['median_ratios'].append(median_ratio)\n",
    "        \n",
    "        print(f\"Epoch {epoch+1}/{EPOCHS} -> Val Acc: {val_acc:.2f}%, Median Ratio: {median_ratio:.4f}\")\n",
    "\n",
    "    # --- Final Visualization ---\n",
    "    print(\"\\n✅ Training complete. Generating dynamics plot...\")\n",
    "    plot_dynamics(history)"
   ]
  },
  {
   "cell_type": "code",
   "execution_count": 3,
   "id": "13b7e19f-98ea-47f0-82d1-e791d0815f8b",
   "metadata": {
    "execution": {
     "iopub.execute_input": "2025-07-01T19:30:21.034769Z",
     "iopub.status.busy": "2025-07-01T19:30:21.034553Z",
     "iopub.status.idle": "2025-07-01T19:36:05.278527Z",
     "shell.execute_reply": "2025-07-01T19:36:05.277943Z",
     "shell.execute_reply.started": "2025-07-01T19:30:21.034752Z"
    }
   },
   "outputs": [
    {
     "name": "stdout",
     "output_type": "stream",
     "text": [
      "Using device: cuda\n",
      "Files already downloaded and verified\n",
      "Files already downloaded and verified\n",
      "\n",
      "--- Training Autoencoder ---\n"
     ]
    },
    {
     "name": "stderr",
     "output_type": "stream",
     "text": [
      "                                                                          \r"
     ]
    },
    {
     "name": "stdout",
     "output_type": "stream",
     "text": [
      "✅ Autoencoder training complete.\n",
      "\n",
      "--- Training Classifier ---\n"
     ]
    },
    {
     "name": "stderr",
     "output_type": "stream",
     "text": [
      "                                                                            \r"
     ]
    },
    {
     "name": "stdout",
     "output_type": "stream",
     "text": [
      "✅ Classifier training complete.\n",
      "\n",
      "--- Probing trained models to measure learned computational cost ---\n"
     ]
    },
    {
     "name": "stderr",
     "output_type": "stream",
     "text": [
      "                                                                    \r"
     ]
    },
    {
     "name": "stdout",
     "output_type": "stream",
     "text": [
      "\n",
      "============================================================\n",
      "           Final Experimental Results\n",
      "============================================================\n",
      "Learned Computational Cost (W = Σ ||F(x)||) for each task:\n",
      "\n",
      "  - Task A (Autoencoder / Preservation): W = 18149.57\n",
      "  - Task B (Classifier / Abstraction): W = 14791.47\n",
      "\n",
      "============================================================\n"
     ]
    },
    {
     "data": {
      "image/png": "[encoded data removed]",
      "text/plain": [
       "<Figure size 1000x600 with 1 Axes>"
      ]
     },
     "metadata": {},
     "output_type": "display_data"
    }
   ],
   "source": [
    "# ===================================================================\n",
    "#\n",
    "#       Script for Probing ResNet's Learned Computational Cost\n",
    "#\n",
    "# Scientific Goal:\n",
    "# To test the hypothesis that a ResNet learns to allocate \"computational\n",
    "# energy\" based on the complexity of a task. We use the sum of residual\n",
    "# path norms as a proxy for the network's total computational cost, which\n",
    "# is analogous to the geometric \"size\" (area/volume) of the bulk in AdS/CFT.\n",
    "#\n",
    "# Methodology:\n",
    "# 1. Define two tasks with different computational requirements, both using\n",
    "#    the same complex input data (CIFAR-10):\n",
    "#    - Task A (Preservation-heavy): An autoencoder.\n",
    "#    - Task B (Abstraction-heavy): A classifier.\n",
    "# 2. Use the *exact same* ResNet-18 architecture as a backbone for both tasks.\n",
    "# 3. Train both models to convergence.\n",
    "# 4. \"Probe\" the internal state of both trained models by measuring W, the\n",
    "#    sum of L2 norms of the residual pathways: W = Σ ||F(x)||.\n",
    "# 5. Compare W_autoencoder vs. W_classifier. We hypothesize that\n",
    "#    W_autoencoder << W_classifier, demonstrating that the network learns to\n",
    "#    minimize its computational cost based on the task demands.\n",
    "#\n",
    "# ===================================================================\n",
    "\n",
    "import os\n",
    "import random\n",
    "import numpy as np\n",
    "import torch\n",
    "import torch.nn as nn\n",
    "import torch.nn.functional as F\n",
    "from torchvision import datasets, transforms\n",
    "from torch.utils.data import DataLoader\n",
    "from tqdm import tqdm\n",
    "import warnings\n",
    "import matplotlib.pyplot as plt\n",
    "\n",
    "# --- Global Setup ---\n",
    "torch.set_num_threads(1)\n",
    "warnings.filterwarnings(\"ignore\", category=UserWarning)\n",
    "device = torch.device(\"cuda\" if torch.cuda.is_available() else \"cpu\")\n",
    "print(f\"Using device: {device}\")\n",
    "\n",
    "\n",
    "# ===================================================================\n",
    "#  Part 1: Core Model Definitions with Probing Capability\n",
    "# ===================================================================\n",
    "\n",
    "def set_random_seed(seed: int) -> None:\n",
    "    \"\"\"Sets the random seed for reproducibility.\"\"\"\n",
    "    random.seed(seed)\n",
    "    np.random.seed(seed)\n",
    "    torch.manual_seed(seed)\n",
    "    if torch.cuda.is_available():\n",
    "        torch.cuda.manual_seed_all(seed)\n",
    "\n",
    "class ResNetBlock(nn.Module):\n",
    "    \"\"\"A standard ResNet block, modified to return the norm of its residual path.\"\"\"\n",
    "    def __init__(self, in_ch: int, out_ch: int, stride: int = 1):\n",
    "        super().__init__()\n",
    "        self.conv1, self.bn1 = nn.Conv2d(in_ch, out_ch, kernel_size=3, stride=stride, padding=1, bias=False), nn.BatchNorm2d(out_ch)\n",
    "        self.conv2, self.bn2 = nn.Conv2d(out_ch, out_ch, kernel_size=3, stride=1, padding=1, bias=False), nn.BatchNorm2d(out_ch)\n",
    "        self.shortcut = nn.Sequential()\n",
    "        if stride != 1 or in_ch != out_ch:\n",
    "            self.shortcut = nn.Sequential(nn.Conv2d(in_ch, out_ch, 1, stride, bias=False), nn.BatchNorm2d(out_ch))\n",
    "\n",
    "    def forward(self, x: torch.Tensor, probe_norms: bool = False) -> torch.Tensor:\n",
    "        \"\"\"\n",
    "        Performs the forward pass. If probing, returns the residual norm.\n",
    "        \"\"\"\n",
    "        shortcut_out = self.shortcut(x)\n",
    "        residual_out = F.relu(self.bn1(self.conv1(x)))\n",
    "        residual_out = self.bn2(self.conv2(residual_out))\n",
    "        \n",
    "        y = residual_out + shortcut_out\n",
    "        \n",
    "        if probe_norms:\n",
    "            # Return the final output and the L2 norm of the residual path's signal\n",
    "            return F.relu(y), torch.linalg.norm(residual_out).item()\n",
    "        \n",
    "        return F.relu(y)\n",
    "\n",
    "\n",
    "class ModularResNet(nn.Module):\n",
    "    \"\"\"A modular ResNet backbone, instrumented for probing.\"\"\"\n",
    "    def __init__(self, block_class, num_blocks: list, num_channels: list, in_channels: int = 3):\n",
    "        super().__init__()\n",
    "        self.in_planes = num_channels[0]\n",
    "        self.conv1 = nn.Conv2d(in_channels, num_channels[0], kernel_size=3, stride=1, padding=1, bias=False)\n",
    "        self.bn1 = nn.BatchNorm2d(num_channels[0])\n",
    "        self.layer1 = self._make_layer(block_class, num_channels[0], num_blocks[0], stride=1)\n",
    "        self.layer2 = self._make_layer(block_class, num_channels[1], num_blocks[1], stride=2)\n",
    "        self.layer3 = self._make_layer(block_class, num_channels[2], num_blocks[2], stride=2)\n",
    "        self.layer4 = self._make_layer(block_class, num_channels[3], num_blocks[3], stride=2)\n",
    "        \n",
    "    def _make_layer(self, block_class, planes, num_blocks, stride):\n",
    "        strides = [stride] + [1]*(num_blocks-1)\n",
    "        layers = []\n",
    "        for s in strides:\n",
    "            layers.append(block_class(self.in_planes, planes, s))\n",
    "            self.in_planes = planes\n",
    "        return nn.Sequential(*layers)\n",
    "\n",
    "    def forward(self, x: torch.Tensor, probe_norms: bool = False):\n",
    "        \"\"\"\n",
    "        Performs a forward pass. If `probe_norms`, it collects residual norms.\n",
    "        \"\"\"\n",
    "        residual_norms = []\n",
    "        out = F.relu(self.bn1(self.conv1(x)))\n",
    "        \n",
    "        for stage in [self.layer1, self.layer2, self.layer3, self.layer4]:\n",
    "            for block in stage:\n",
    "                if probe_norms:\n",
    "                    out, res_norm = block(out, probe_norms=True)\n",
    "                    residual_norms.append(res_norm)\n",
    "                else:\n",
    "                    out = block(out, probe_norms=False)\n",
    "        \n",
    "        if probe_norms:\n",
    "            return out, residual_norms\n",
    "        return out\n",
    "\n",
    "\n",
    "# ===================================================================\n",
    "# Part 2: Task-Specific Model Definitions\n",
    "# ===================================================================\n",
    "\n",
    "class Classifier(nn.Module):\n",
    "    \"\"\"A classification model using a ResNet backbone.\"\"\"\n",
    "    def __init__(self, resnet_backbone, num_classes=10):\n",
    "        super().__init__()\n",
    "        self.backbone = resnet_backbone\n",
    "        self.avgpool = nn.AdaptiveAvgPool2d((1, 1))\n",
    "        self.linear = nn.Linear(512, num_classes)\n",
    "\n",
    "    def forward(self, x, probe_norms=False):\n",
    "        if probe_norms:\n",
    "            out, all_norms = self.backbone(x, probe_norms=True)\n",
    "            return self.linear(self.avgpool(out).view(out.size(0), -1)), all_norms\n",
    "        else:\n",
    "            out = self.backbone(x, probe_norms=False)\n",
    "            return self.linear(self.avgpool(out).view(out.size(0), -1))\n",
    "\n",
    "\n",
    "class Autoencoder(nn.Module):\n",
    "    \"\"\"An autoencoder model using a ResNet encoder.\"\"\"\n",
    "    def __init__(self, resnet_encoder, in_channels=3):\n",
    "        super().__init__()\n",
    "        self.encoder = resnet_encoder\n",
    "        self.decoder = nn.Sequential(\n",
    "            nn.ConvTranspose2d(512, 128, 4, 2, 1), nn.ReLU(),\n",
    "            nn.ConvTranspose2d(128, 64, 4, 2, 1), nn.ReLU(),\n",
    "            nn.ConvTranspose2d(64, 32, 4, 2, 1), nn.ReLU(),\n",
    "            nn.ConvTranspose2d(32, in_channels, 3, 1, 1), nn.Sigmoid()\n",
    "        )\n",
    "\n",
    "    def forward(self, x, probe_norms=False):\n",
    "        if probe_norms:\n",
    "            encoded, all_norms = self.encoder(x, probe_norms=True)\n",
    "            return self.decoder(encoded), all_norms\n",
    "        else:\n",
    "            encoded = self.encoder(x, probe_norms=False)\n",
    "            return self.decoder(encoded)\n",
    "\n",
    "\n",
    "# ===================================================================\n",
    "# Part 3: Training, Probing, and Analysis\n",
    "# ===================================================================\n",
    "\n",
    "def train_model(model, loader, criterion, optimizer, epochs, task_name):\n",
    "    \"\"\"A generic training loop for a given model and task.\"\"\"\n",
    "    model.train()\n",
    "    print(f\"\\n--- Training {task_name} ---\")\n",
    "    for epoch in range(epochs):\n",
    "        pbar = tqdm(loader, desc=f\"Epoch {epoch+1}/{epochs}\", leave=False)\n",
    "        for data, target in pbar:\n",
    "            data = data.to(device)\n",
    "            target = data if task_name == 'Autoencoder' else target.to(device)\n",
    "            \n",
    "            optimizer.zero_grad()\n",
    "            output = model(data)\n",
    "            loss = criterion(output, target)\n",
    "            loss.backward()\n",
    "            optimizer.step()\n",
    "            pbar.set_postfix(loss=loss.item())\n",
    "    print(f\"✅ {task_name} training complete.\")\n",
    "\n",
    "\n",
    "def probe_computational_cost(model, loader) -> float:\n",
    "    \"\"\"\n",
    "    Measures the total \"computational cost\" W = Σ ||F(x)|| for a trained model.\n",
    "    \"\"\"\n",
    "    model.eval()\n",
    "    total_residual_norm = 0.0\n",
    "    num_batches = 0\n",
    "    with torch.no_grad():\n",
    "        for data, _ in tqdm(loader, desc=f\"Probing {model.__class__.__name__}\", leave=False):\n",
    "            data = data.to(device)\n",
    "            _, residual_norms = model(data, probe_norms=True)\n",
    "            total_residual_norm += sum(residual_norms)\n",
    "            num_batches += 1\n",
    "            \n",
    "    # Return the average cost per batch\n",
    "    return total_residual_norm / num_batches\n",
    "\n",
    "\n",
    "# ===================================================================\n",
    "# Part 4: Main Execution Block\n",
    "# ===================================================================\n",
    "\n",
    "if __name__ == '__main__':\n",
    "    # --- Configuration ---\n",
    "    SEED = 42\n",
    "    BATCH_SIZE = 128\n",
    "    EPOCHS = 15 # Train longer for better convergence\n",
    "    LEARNING_RATE = 1e-3\n",
    "    \n",
    "    # Define a standard ResNet-18 style architecture for a fair comparison\n",
    "    RESNET18_BLOCKS = [2, 2, 2, 2]\n",
    "    RESNET18_CHANNELS = [64, 128, 256, 512]\n",
    "    set_random_seed(SEED)\n",
    "\n",
    "    # --- Data Loading (using CIFAR-10 for both tasks) ---\n",
    "    # Normalization is important for the classifier, but the autoencoder\n",
    "    # will learn to invert it. We use the same input for both.\n",
    "    transform = transforms.Compose([\n",
    "        transforms.ToTensor(),\n",
    "        transforms.Normalize((0.5, 0.5, 0.5), (0.5, 0.5, 0.5))\n",
    "    ])\n",
    "    train_dataset = datasets.CIFAR10(root='./data', train=True, download=True, transform=transform)\n",
    "    val_dataset = datasets.CIFAR10(root='./data', train=False, download=True, transform=transform)\n",
    "    train_loader = DataLoader(train_dataset, batch_size=BATCH_SIZE, shuffle=True, num_workers=2)\n",
    "    val_loader = DataLoader(val_dataset, batch_size=BATCH_SIZE, num_workers=2)\n",
    "\n",
    "    # --- Task A: Train the Autoencoder ---\n",
    "    autoencoder_backbone = ModularResNet(ResNetBlock, RESNET18_BLOCKS, RESNET18_CHANNELS, in_channels=3).to(device)\n",
    "    autoencoder = Autoencoder(autoencoder_backbone).to(device)\n",
    "    ae_optimizer = torch.optim.Adam(autoencoder.parameters(), lr=LEARNING_RATE)\n",
    "    ae_criterion = nn.MSELoss()\n",
    "    train_model(autoencoder, train_loader, ae_criterion, ae_optimizer, EPOCHS, \"Autoencoder\")\n",
    "\n",
    "    # --- Task B: Train the Classifier ---\n",
    "    # IMPORTANT: We create a new instance to ensure independent training\n",
    "    classifier_backbone = ModularResNet(ResNetBlock, RESNET18_BLOCKS, RESNET18_CHANNELS, in_channels=3).to(device)\n",
    "    classifier = Classifier(classifier_backbone).to(device)\n",
    "    class_optimizer = torch.optim.Adam(classifier.parameters(), lr=LEARNING_RATE)\n",
    "    class_criterion = nn.CrossEntropyLoss()\n",
    "    train_model(classifier, train_loader, class_criterion, class_optimizer, EPOCHS, \"Classifier\")\n",
    "    \n",
    "    # --- Analysis: Probe the trained models and compare computational cost ---\n",
    "    print(\"\\n--- Probing trained models to measure learned computational cost ---\")\n",
    "    cost_autoencoder = probe_computational_cost(autoencoder, val_loader)\n",
    "    cost_classifier = probe_computational_cost(classifier, val_loader)\n",
    "    \n",
    "    # --- Final Result Presentation ---\n",
    "    print(\"\\n\" + \"=\"*60)\n",
    "    print(\"           Final Experimental Results\")\n",
    "    print(\"=\"*60)\n",
    "    print(f\"Learned Computational Cost (W = Σ ||F(x)||) for each task:\")\n",
    "    print(f\"\\n  - Task A (Autoencoder / Preservation): W = {cost_autoencoder:.2f}\")\n",
    "    print(f\"  - Task B (Classifier / Abstraction): W = {cost_classifier:.2f}\")\n",
    "    print(\"\\n\" + \"=\"*60)\n",
    "\n",
    "    # Plotting the results as a simple bar chart\n",
    "    fig, ax = plt.subplots(figsize=(10, 6))\n",
    "    tasks = ['Autoencoder (Preservation)', 'Classifier (Abstraction)']\n",
    "    costs = [cost_autoencoder, cost_classifier]\n",
    "    bars = ax.bar(tasks, costs, color=['#1f77b4', '#ff7f0e'])\n",
    "    ax.bar_label(bars, fmt='%.2f', fontsize=12, padding=3)\n",
    "    ax.set_ylabel('Learned Computational Cost (W)', fontsize=14)\n",
    "    ax.set_title('Task Complexity vs. Learned Computational Cost in ResNet-18', fontsize=16)\n",
    "    ax.set_xticklabels(tasks, rotation=0, ha=\"center\")\n",
    "    plt.tight_layout()\n",
    "    plt.show()"
   ]
  },
  {
   "cell_type": "code",
   "execution_count": 4,
   "id": "66c9efe4-6e47-4d5a-80a9-45d440e41072",
   "metadata": {
    "execution": {
     "iopub.execute_input": "2025-07-02T18:34:00.192736Z",
     "iopub.status.busy": "2025-07-02T18:34:00.192498Z",
     "iopub.status.idle": "2025-07-02T18:45:01.827784Z",
     "shell.execute_reply": "2025-07-02T18:45:01.826908Z",
     "shell.execute_reply.started": "2025-07-02T18:34:00.192719Z"
    }
   },
   "outputs": [
    {
     "name": "stdout",
     "output_type": "stream",
     "text": [
      "Using device: cuda\n",
      "Files already downloaded and verified\n",
      "Files already downloaded and verified\n",
      "\n",
      "--- Simulating Geometric Evolution for Ordered Boundary ---\n"
     ]
    },
    {
     "name": "stderr",
     "output_type": "stream",
     "text": [
      "                                                                                            \r"
     ]
    },
    {
     "name": "stdout",
     "output_type": "stream",
     "text": [
      "Epoch 1/30 (Ordered Boundary) -> Val Acc: 57.74%, GP: 18797.3481\n"
     ]
    },
    {
     "name": "stderr",
     "output_type": "stream",
     "text": [
      "                                                                                            \r"
     ]
    },
    {
     "name": "stdout",
     "output_type": "stream",
     "text": [
      "Epoch 2/30 (Ordered Boundary) -> Val Acc: 64.81%, GP: 11364.2621\n"
     ]
    },
    {
     "name": "stderr",
     "output_type": "stream",
     "text": [
      "                                                                                            \r"
     ]
    },
    {
     "name": "stdout",
     "output_type": "stream",
     "text": [
      "Epoch 3/30 (Ordered Boundary) -> Val Acc: 72.08%, GP: 9243.6366\n"
     ]
    },
    {
     "name": "stderr",
     "output_type": "stream",
     "text": [
      "                                                                                            \r"
     ]
    },
    {
     "name": "stdout",
     "output_type": "stream",
     "text": [
      "Epoch 4/30 (Ordered Boundary) -> Val Acc: 77.89%, GP: 8394.1356\n"
     ]
    },
    {
     "name": "stderr",
     "output_type": "stream",
     "text": [
      "                                                                                            \r"
     ]
    },
    {
     "name": "stdout",
     "output_type": "stream",
     "text": [
      "Epoch 5/30 (Ordered Boundary) -> Val Acc: 81.72%, GP: 8104.5960\n"
     ]
    },
    {
     "name": "stderr",
     "output_type": "stream",
     "text": [
      "                                                                                            \r"
     ]
    },
    {
     "name": "stdout",
     "output_type": "stream",
     "text": [
      "Epoch 6/30 (Ordered Boundary) -> Val Acc: 80.06%, GP: 7216.8429\n"
     ]
    },
    {
     "name": "stderr",
     "output_type": "stream",
     "text": [
      "                                                                                            \r"
     ]
    },
    {
     "name": "stdout",
     "output_type": "stream",
     "text": [
      "Epoch 7/30 (Ordered Boundary) -> Val Acc: 83.17%, GP: 7289.3296\n"
     ]
    },
    {
     "name": "stderr",
     "output_type": "stream",
     "text": [
      "                                                                                            \r"
     ]
    },
    {
     "name": "stdout",
     "output_type": "stream",
     "text": [
      "Epoch 8/30 (Ordered Boundary) -> Val Acc: 85.45%, GP: 6941.7123\n"
     ]
    },
    {
     "name": "stderr",
     "output_type": "stream",
     "text": [
      "                                                                                            \r"
     ]
    },
    {
     "name": "stdout",
     "output_type": "stream",
     "text": [
      "Epoch 9/30 (Ordered Boundary) -> Val Acc: 85.21%, GP: 6902.9565\n"
     ]
    },
    {
     "name": "stderr",
     "output_type": "stream",
     "text": [
      "                                                                                             \r"
     ]
    },
    {
     "name": "stdout",
     "output_type": "stream",
     "text": [
      "Epoch 10/30 (Ordered Boundary) -> Val Acc: 83.69%, GP: 6980.2949\n"
     ]
    },
    {
     "name": "stderr",
     "output_type": "stream",
     "text": [
      "                                                                                             \r"
     ]
    },
    {
     "name": "stdout",
     "output_type": "stream",
     "text": [
      "Epoch 11/30 (Ordered Boundary) -> Val Acc: 87.28%, GP: 6690.5479\n"
     ]
    },
    {
     "name": "stderr",
     "output_type": "stream",
     "text": [
      "                                                                                             \r"
     ]
    },
    {
     "name": "stdout",
     "output_type": "stream",
     "text": [
      "Epoch 12/30 (Ordered Boundary) -> Val Acc: 85.04%, GP: 6901.1222\n"
     ]
    },
    {
     "name": "stderr",
     "output_type": "stream",
     "text": [
      "                                                                                             \r"
     ]
    },
    {
     "name": "stdout",
     "output_type": "stream",
     "text": [
      "Epoch 13/30 (Ordered Boundary) -> Val Acc: 88.13%, GP: 6745.7586\n"
     ]
    },
    {
     "name": "stderr",
     "output_type": "stream",
     "text": [
      "                                                                                             \r"
     ]
    },
    {
     "name": "stdout",
     "output_type": "stream",
     "text": [
      "Epoch 14/30 (Ordered Boundary) -> Val Acc: 87.11%, GP: 6874.3232\n"
     ]
    },
    {
     "name": "stderr",
     "output_type": "stream",
     "text": [
      "                                                                                              \r"
     ]
    },
    {
     "name": "stdout",
     "output_type": "stream",
     "text": [
      "Epoch 15/30 (Ordered Boundary) -> Val Acc: 87.86%, GP: 6674.3734\n"
     ]
    },
    {
     "name": "stderr",
     "output_type": "stream",
     "text": [
      "                                                                                              \r"
     ]
    },
    {
     "name": "stdout",
     "output_type": "stream",
     "text": [
      "Epoch 16/30 (Ordered Boundary) -> Val Acc: 88.02%, GP: 6453.1613\n"
     ]
    },
    {
     "name": "stderr",
     "output_type": "stream",
     "text": [
      "                                                                                              \r"
     ]
    },
    {
     "name": "stdout",
     "output_type": "stream",
     "text": [
      "Epoch 17/30 (Ordered Boundary) -> Val Acc: 88.73%, GP: 5958.2846\n"
     ]
    },
    {
     "name": "stderr",
     "output_type": "stream",
     "text": [
      "                                                                                              \r"
     ]
    },
    {
     "name": "stdout",
     "output_type": "stream",
     "text": [
      "Epoch 18/30 (Ordered Boundary) -> Val Acc: 89.65%, GP: 6404.2652\n"
     ]
    },
    {
     "name": "stderr",
     "output_type": "stream",
     "text": [
      "                                                                                              \r"
     ]
    },
    {
     "name": "stdout",
     "output_type": "stream",
     "text": [
      "Epoch 19/30 (Ordered Boundary) -> Val Acc: 88.39%, GP: 6051.4915\n"
     ]
    },
    {
     "name": "stderr",
     "output_type": "stream",
     "text": [
      "                                                                                              \r"
     ]
    },
    {
     "name": "stdout",
     "output_type": "stream",
     "text": [
      "Epoch 20/30 (Ordered Boundary) -> Val Acc: 89.05%, GP: 6164.4871\n"
     ]
    },
    {
     "name": "stderr",
     "output_type": "stream",
     "text": [
      "                                                                                              \r"
     ]
    },
    {
     "name": "stdout",
     "output_type": "stream",
     "text": [
      "Epoch 21/30 (Ordered Boundary) -> Val Acc: 89.37%, GP: 6074.4749\n"
     ]
    },
    {
     "name": "stderr",
     "output_type": "stream",
     "text": [
      "                                                                                              \r"
     ]
    },
    {
     "name": "stdout",
     "output_type": "stream",
     "text": [
      "Epoch 22/30 (Ordered Boundary) -> Val Acc: 90.56%, GP: 5964.1054\n"
     ]
    },
    {
     "name": "stderr",
     "output_type": "stream",
     "text": [
      "                                                                                              \r"
     ]
    },
    {
     "name": "stdout",
     "output_type": "stream",
     "text": [
      "Epoch 23/30 (Ordered Boundary) -> Val Acc: 90.68%, GP: 5873.4562\n"
     ]
    },
    {
     "name": "stderr",
     "output_type": "stream",
     "text": [
      "                                                                                              \r"
     ]
    },
    {
     "name": "stdout",
     "output_type": "stream",
     "text": [
      "Epoch 24/30 (Ordered Boundary) -> Val Acc: 90.34%, GP: 5916.5592\n"
     ]
    },
    {
     "name": "stderr",
     "output_type": "stream",
     "text": [
      "                                                                                              \r"
     ]
    },
    {
     "name": "stdout",
     "output_type": "stream",
     "text": [
      "Epoch 25/30 (Ordered Boundary) -> Val Acc: 90.60%, GP: 5904.5501\n"
     ]
    },
    {
     "name": "stderr",
     "output_type": "stream",
     "text": [
      "                                                                                              \r"
     ]
    },
    {
     "name": "stdout",
     "output_type": "stream",
     "text": [
      "Epoch 26/30 (Ordered Boundary) -> Val Acc: 90.46%, GP: 5992.0560\n"
     ]
    },
    {
     "name": "stderr",
     "output_type": "stream",
     "text": [
      "                                                                                              \r"
     ]
    },
    {
     "name": "stdout",
     "output_type": "stream",
     "text": [
      "Epoch 27/30 (Ordered Boundary) -> Val Acc: 89.26%, GP: 5901.2777\n"
     ]
    },
    {
     "name": "stderr",
     "output_type": "stream",
     "text": [
      "                                                                                              \r"
     ]
    },
    {
     "name": "stdout",
     "output_type": "stream",
     "text": [
      "Epoch 28/30 (Ordered Boundary) -> Val Acc: 90.74%, GP: 5781.0118\n"
     ]
    },
    {
     "name": "stderr",
     "output_type": "stream",
     "text": [
      "                                                                                              \r"
     ]
    },
    {
     "name": "stdout",
     "output_type": "stream",
     "text": [
      "Epoch 29/30 (Ordered Boundary) -> Val Acc: 91.00%, GP: 5263.4091\n"
     ]
    },
    {
     "name": "stderr",
     "output_type": "stream",
     "text": [
      "                                                                                              \r"
     ]
    },
    {
     "name": "stdout",
     "output_type": "stream",
     "text": [
      "Epoch 30/30 (Ordered Boundary) -> Val Acc: 90.39%, GP: 5609.0695\n",
      "✅ Geometric evolution for Ordered Boundary complete.\n",
      "\n",
      "--- Simulating Geometric Evolution for Chaotic Boundary ---\n"
     ]
    },
    {
     "name": "stderr",
     "output_type": "stream",
     "text": [
      "                                                                                           \r"
     ]
    },
    {
     "name": "stdout",
     "output_type": "stream",
     "text": [
      "Epoch 1/30 (Chaotic Boundary) -> Val Acc: 10.01%, GP: 18063.3298\n"
     ]
    },
    {
     "name": "stderr",
     "output_type": "stream",
     "text": [
      "                                                                                           \r"
     ]
    },
    {
     "name": "stdout",
     "output_type": "stream",
     "text": [
      "Epoch 2/30 (Chaotic Boundary) -> Val Acc: 10.48%, GP: 10584.7450\n"
     ]
    },
    {
     "name": "stderr",
     "output_type": "stream",
     "text": [
      "                                                                                           \r"
     ]
    },
    {
     "name": "stdout",
     "output_type": "stream",
     "text": [
      "Epoch 3/30 (Chaotic Boundary) -> Val Acc: 9.99%, GP: 8560.5448\n"
     ]
    },
    {
     "name": "stderr",
     "output_type": "stream",
     "text": [
      "                                                                                           \r"
     ]
    },
    {
     "name": "stdout",
     "output_type": "stream",
     "text": [
      "Epoch 4/30 (Chaotic Boundary) -> Val Acc: 9.88%, GP: 7177.5935\n"
     ]
    },
    {
     "name": "stderr",
     "output_type": "stream",
     "text": [
      "                                                                                           \r"
     ]
    },
    {
     "name": "stdout",
     "output_type": "stream",
     "text": [
      "Epoch 5/30 (Chaotic Boundary) -> Val Acc: 10.06%, GP: 7936.9581\n"
     ]
    },
    {
     "name": "stderr",
     "output_type": "stream",
     "text": [
      "                                                                                           \r"
     ]
    },
    {
     "name": "stdout",
     "output_type": "stream",
     "text": [
      "Epoch 6/30 (Chaotic Boundary) -> Val Acc: 10.00%, GP: 7938.5832\n"
     ]
    },
    {
     "name": "stderr",
     "output_type": "stream",
     "text": [
      "                                                                                           \r"
     ]
    },
    {
     "name": "stdout",
     "output_type": "stream",
     "text": [
      "Epoch 7/30 (Chaotic Boundary) -> Val Acc: 10.26%, GP: 6247.5782\n"
     ]
    },
    {
     "name": "stderr",
     "output_type": "stream",
     "text": [
      "                                                                                           \r"
     ]
    },
    {
     "name": "stdout",
     "output_type": "stream",
     "text": [
      "Epoch 8/30 (Chaotic Boundary) -> Val Acc: 9.99%, GP: 6674.6691\n"
     ]
    },
    {
     "name": "stderr",
     "output_type": "stream",
     "text": [
      "                                                                                           \r"
     ]
    },
    {
     "name": "stdout",
     "output_type": "stream",
     "text": [
      "Epoch 9/30 (Chaotic Boundary) -> Val Acc: 10.11%, GP: 6700.0374\n"
     ]
    },
    {
     "name": "stderr",
     "output_type": "stream",
     "text": [
      "                                                                                            \r"
     ]
    },
    {
     "name": "stdout",
     "output_type": "stream",
     "text": [
      "Epoch 10/30 (Chaotic Boundary) -> Val Acc: 9.91%, GP: 8692.0246\n"
     ]
    },
    {
     "name": "stderr",
     "output_type": "stream",
     "text": [
      "                                                                                            \r"
     ]
    },
    {
     "name": "stdout",
     "output_type": "stream",
     "text": [
      "Epoch 11/30 (Chaotic Boundary) -> Val Acc: 9.82%, GP: 9156.4685\n"
     ]
    },
    {
     "name": "stderr",
     "output_type": "stream",
     "text": [
      "                                                                                            \r"
     ]
    },
    {
     "name": "stdout",
     "output_type": "stream",
     "text": [
      "Epoch 12/30 (Chaotic Boundary) -> Val Acc: 10.32%, GP: 16081.3479\n"
     ]
    },
    {
     "name": "stderr",
     "output_type": "stream",
     "text": [
      "                                                                                            \r"
     ]
    },
    {
     "name": "stdout",
     "output_type": "stream",
     "text": [
      "Epoch 13/30 (Chaotic Boundary) -> Val Acc: 9.69%, GP: 11981.2655\n"
     ]
    },
    {
     "name": "stderr",
     "output_type": "stream",
     "text": [
      "                                                                                            \r"
     ]
    },
    {
     "name": "stdout",
     "output_type": "stream",
     "text": [
      "Epoch 14/30 (Chaotic Boundary) -> Val Acc: 10.15%, GP: 8456.2216\n"
     ]
    },
    {
     "name": "stderr",
     "output_type": "stream",
     "text": [
      "                                                                                            \r"
     ]
    },
    {
     "name": "stdout",
     "output_type": "stream",
     "text": [
      "Epoch 15/30 (Chaotic Boundary) -> Val Acc: 10.33%, GP: 13775.1446\n"
     ]
    },
    {
     "name": "stderr",
     "output_type": "stream",
     "text": [
      "                                                                                            \r"
     ]
    },
    {
     "name": "stdout",
     "output_type": "stream",
     "text": [
      "Epoch 16/30 (Chaotic Boundary) -> Val Acc: 10.48%, GP: 11222.7776\n"
     ]
    },
    {
     "name": "stderr",
     "output_type": "stream",
     "text": [
      "                                                                                            \r"
     ]
    },
    {
     "name": "stdout",
     "output_type": "stream",
     "text": [
      "Epoch 17/30 (Chaotic Boundary) -> Val Acc: 10.32%, GP: 7799.1780\n"
     ]
    },
    {
     "name": "stderr",
     "output_type": "stream",
     "text": [
      "                                                                                            \r"
     ]
    },
    {
     "name": "stdout",
     "output_type": "stream",
     "text": [
      "Epoch 18/30 (Chaotic Boundary) -> Val Acc: 9.83%, GP: 7210.8268\n"
     ]
    },
    {
     "name": "stderr",
     "output_type": "stream",
     "text": [
      "                                                                                            \r"
     ]
    },
    {
     "name": "stdout",
     "output_type": "stream",
     "text": [
      "Epoch 19/30 (Chaotic Boundary) -> Val Acc: 9.80%, GP: 5341.4511\n"
     ]
    },
    {
     "name": "stderr",
     "output_type": "stream",
     "text": [
      "                                                                                            \r"
     ]
    },
    {
     "name": "stdout",
     "output_type": "stream",
     "text": [
      "Epoch 20/30 (Chaotic Boundary) -> Val Acc: 9.64%, GP: 7899.3854\n"
     ]
    },
    {
     "name": "stderr",
     "output_type": "stream",
     "text": [
      "                                                                                            \r"
     ]
    },
    {
     "name": "stdout",
     "output_type": "stream",
     "text": [
      "Epoch 21/30 (Chaotic Boundary) -> Val Acc: 10.27%, GP: 14714.0899\n"
     ]
    },
    {
     "name": "stderr",
     "output_type": "stream",
     "text": [
      "                                                                                          \r"
     ]
    },
    {
     "ename": "KeyboardInterrupt",
     "evalue": "",
     "output_type": "error",
     "traceback": [
      "\u001b[0;31m---------------------------------------------------------------------------\u001b[0m",
      "\u001b[0;31mKeyboardInterrupt\u001b[0m                         Traceback (most recent call last)",
      "Cell \u001b[0;32mIn[4], line 320\u001b[0m\n\u001b[1;32m    318\u001b[0m \u001b[38;5;66;03m# --- Run Experiment for the Chaotic Boundary Condition ---\u001b[39;00m\n\u001b[1;32m    319\u001b[0m random_model \u001b[38;5;241m=\u001b[39m Classifier(ModularResNet(ResNetBlock, RESNET18_BLOCKS, RESNET18_CHANNELS, in_channels\u001b[38;5;241m=\u001b[39m\u001b[38;5;241m3\u001b[39m), num_classes\u001b[38;5;241m=\u001b[39m\u001b[38;5;241m10\u001b[39m)\u001b[38;5;241m.\u001b[39mto(device)\n\u001b[0;32m--> 320\u001b[0m random_history \u001b[38;5;241m=\u001b[39m \u001b[43mtrain_and_probe_geometric_evolution\u001b[49m\u001b[43m(\u001b[49m\u001b[43mrandom_model\u001b[49m\u001b[43m,\u001b[49m\u001b[43m \u001b[49m\u001b[43mchaotic_boundary_train_loader\u001b[49m\u001b[43m,\u001b[49m\u001b[43m \u001b[49m\u001b[43mchaotic_boundary_val_loader\u001b[49m\u001b[43m,\u001b[49m\u001b[43m \u001b[49m\u001b[38;5;124;43m\"\u001b[39;49m\u001b[38;5;124;43mChaotic Boundary\u001b[39;49m\u001b[38;5;124;43m\"\u001b[39;49m\u001b[43m)\u001b[49m\n\u001b[1;32m    322\u001b[0m \u001b[38;5;66;03m# --- Final Visualization ---\u001b[39;00m\n\u001b[1;32m    323\u001b[0m \u001b[38;5;28mprint\u001b[39m(\u001b[38;5;124m\"\u001b[39m\u001b[38;5;130;01m\\n\u001b[39;00m\u001b[38;5;124mGenerating geometric plasticity dynamics plot...\u001b[39m\u001b[38;5;124m\"\u001b[39m)\n",
      "Cell \u001b[0;32mIn[4], line 288\u001b[0m, in \u001b[0;36mtrain_and_probe_geometric_evolution\u001b[0;34m(model_instance, train_loader_instance, val_loader_instance, boundary_name)\u001b[0m\n\u001b[1;32m    286\u001b[0m     loss\u001b[38;5;241m.\u001b[39mbackward()\n\u001b[1;32m    287\u001b[0m     optimizer\u001b[38;5;241m.\u001b[39mstep()\n\u001b[0;32m--> 288\u001b[0m     pbar\u001b[38;5;241m.\u001b[39mset_postfix(loss\u001b[38;5;241m=\u001b[39m\u001b[43mloss\u001b[49m\u001b[38;5;241;43m.\u001b[39;49m\u001b[43mitem\u001b[49m\u001b[43m(\u001b[49m\u001b[43m)\u001b[49m)\n\u001b[1;32m    290\u001b[0m \u001b[38;5;66;03m# 2. Evaluate and probe the new bulk state\u001b[39;00m\n\u001b[1;32m    291\u001b[0m val_loss, val_acc \u001b[38;5;241m=\u001b[39m evaluate_model(model_instance, val_loader_instance, criterion, device)\n",
      "\u001b[0;31mKeyboardInterrupt\u001b[0m: "
     ]
    }
   ],
   "source": [
    "# ===================================================================\n",
    "#\n",
    "#       Script for Probing the Geometric Plasticity of a Neural Network Spacetime\n",
    "#\n",
    "# Scientific Goal:\n",
    "# To test the hypothesis that the structure of a task (the \"boundary condition\")\n",
    "# dictates the dynamical evolution of the neural network's internal geometry (the \"bulk\").\n",
    "# We use a metric called Geometric Plasticity (GP) to measure the epoch-to-epoch\n",
    "# deformation of the network's feature space.\n",
    "#\n",
    "# Methodology:\n",
    "# 1. Define two boundary conditions using the same input data (CIFAR-10):\n",
    "#    - An \"ordered boundary\": The natural, structured labels of the dataset.\n",
    "#    - A \"chaotic boundary\": A high-entropy condition with randomized labels.\n",
    "# 2. Use the *exact same* ResNet-18 architecture (the initial bulk geometry) for both.\n",
    "# 3. During training (evolution in time 't'), probe the network's bulk state (the set of\n",
    "#    all feature maps) at the end of each epoch.\n",
    "# 4. Calculate the Geometric Plasticity: GP(t) = Σ_l ||A_l(t) - A_l(t-1)||, which measures\n",
    "#    the total deformation of the bulk spacetime between epochs.\n",
    "# 5. We hypothesize that the ordered boundary will allow the bulk geometry to anneal to a\n",
    "#    stable, low-plasticity state, while the chaotic boundary will force it into a\n",
    "#    perpetually fluctuating, high-plasticity state.\n",
    "#\n",
    "# ===================================================================\n",
    "\n",
    "import os\n",
    "import random\n",
    "import numpy as np\n",
    "import torch\n",
    "import torch.nn as nn\n",
    "import torch.nn.functional as F\n",
    "from torchvision import datasets, transforms\n",
    "from torch.utils.data import DataLoader, Dataset\n",
    "from tqdm import tqdm\n",
    "import warnings\n",
    "import matplotlib.pyplot as plt\n",
    "\n",
    "# --- Global Setup ---\n",
    "torch.set_num_threads(1)\n",
    "warnings.filterwarnings(\"ignore\", category=UserWarning)\n",
    "device = torch.device(\"cuda\" if torch.cuda.is_available() else \"cpu\")\n",
    "print(f\"Using device: {device}\")\n",
    "\n",
    "\n",
    "# ===================================================================\n",
    "#  Part 1: Core Model Definitions (The Bulk Geometry)\n",
    "# ===================================================================\n",
    "\n",
    "def set_random_seed(seed: int) -> None:\n",
    "    \"\"\"Sets the random seed for reproducibility.\"\"\"\n",
    "    random.seed(seed)\n",
    "    np.random.seed(seed)\n",
    "    torch.manual_seed(seed)\n",
    "    if torch.cuda.is_available():\n",
    "        torch.cuda.manual_seed_all(seed)\n",
    "\n",
    "class ResNetBlock(nn.Module):\n",
    "    \"\"\"A standard ResNet block, representing a discrete step in the radial direction.\"\"\"\n",
    "    def __init__(self, in_ch: int, out_ch: int, stride: int = 1):\n",
    "        super().__init__()\n",
    "        self.conv1, self.bn1 = nn.Conv2d(in_ch, out_ch, kernel_size=3, stride=stride, padding=1, bias=False), nn.BatchNorm2d(out_ch)\n",
    "        self.conv2, self.bn2 = nn.Conv2d(out_ch, out_ch, kernel_size=3, stride=1, padding=1, bias=False), nn.BatchNorm2d(out_ch)\n",
    "        self.shortcut = nn.Sequential()\n",
    "        if stride != 1 or in_ch != out_ch:\n",
    "            self.shortcut = nn.Sequential(nn.Conv2d(in_ch, out_ch, 1, stride, bias=False), nn.BatchNorm2d(out_ch))\n",
    "\n",
    "    def forward(self, x: torch.Tensor) -> torch.Tensor:\n",
    "        y = F.relu(self.bn1(self.conv1(x))); y = self.bn2(self.conv2(y)); y += self.shortcut(x); return F.relu(y)\n",
    "\n",
    "\n",
    "class ModularResNet(nn.Module):\n",
    "    \"\"\"A modular ResNet backbone, defining the bulk spacetime.\"\"\"\n",
    "    def __init__(self, block_class, num_blocks: list, num_channels: list, in_channels: int = 3):\n",
    "        super().__init__()\n",
    "        self.in_planes = num_channels[0]\n",
    "        self.conv1 = nn.Conv2d(in_channels, num_channels[0], kernel_size=3, stride=1, padding=1, bias=False)\n",
    "        self.bn1 = nn.BatchNorm2d(num_channels[0])\n",
    "        self.layer1 = self._make_layer(block_class, num_channels[0], num_blocks[0], stride=1)\n",
    "        self.layer2 = self._make_layer(block_class, num_channels[1], num_blocks[1], stride=2)\n",
    "        self.layer3 = self._make_layer(block_class, num_channels[2], num_blocks[2], stride=2)\n",
    "        self.layer4 = self._make_layer(block_class, num_channels[3], num_blocks[3], stride=2)\n",
    "        \n",
    "    def _make_layer(self, block_class, planes, num_blocks, stride):\n",
    "        strides = [stride] + [1]*(num_blocks-1)\n",
    "        layers = []\n",
    "        for s in strides:\n",
    "            layers.append(block_class(self.in_planes, planes, s))\n",
    "            self.in_planes = planes\n",
    "        return nn.Sequential(*layers)\n",
    "\n",
    "    def forward(self, x: torch.Tensor, return_all_slices: bool = False):\n",
    "        \"\"\"\n",
    "        Performs a forward pass. If `return_all_slices` is True, it returns\n",
    "        a list of feature maps from all radial slices of the bulk.\n",
    "        \"\"\"\n",
    "        radial_slices = []\n",
    "        out = F.relu(self.bn1(self.conv1(x))) # First slice, near the UV boundary\n",
    "        if return_all_slices: radial_slices.append(out.clone())\n",
    "        \n",
    "        for stage in [self.layer1, self.layer2, self.layer3, self.layer4]:\n",
    "            for block in stage:\n",
    "                out = block(out)\n",
    "                if return_all_slices: radial_slices.append(out.clone())\n",
    "        \n",
    "        if return_all_slices:\n",
    "            return out, radial_slices\n",
    "        return out\n",
    "\n",
    "\n",
    "class Classifier(nn.Module):\n",
    "    \"\"\"A classification model adding a probe in the deep IR of the bulk.\"\"\"\n",
    "    def __init__(self, resnet_backbone, num_classes=10):\n",
    "        super().__init__()\n",
    "        self.backbone = resnet_backbone\n",
    "        self.avgpool = nn.AdaptiveAvgPool2d((1, 1))\n",
    "        self.linear = nn.Linear(self.backbone.layer4[-1].conv2.out_channels, num_classes)\n",
    "\n",
    "    def forward(self, x, return_all_slices: bool = False):\n",
    "        if return_all_slices:\n",
    "            out, radial_slices = self.backbone(x, return_all_slices=True)\n",
    "            pooled_out = self.avgpool(out).view(out.size(0), -1)\n",
    "            final_out = self.linear(pooled_out)\n",
    "            return final_out, radial_slices\n",
    "        else:\n",
    "            out = self.backbone(x, return_all_slices=False)\n",
    "            pooled_out = self.avgpool(out).view(out.size(0), -1)\n",
    "            return self.linear(pooled_out)\n",
    "\n",
    "\n",
    "# ===================================================================\n",
    "# Part 2: Dataset Definitions (The Boundary Conditions)\n",
    "# ===================================================================\n",
    "\n",
    "class RandomLabelDataset(Dataset):\n",
    "    \"\"\"\n",
    "    Creates a high-entropy, chaotic boundary condition by shuffling labels.\n",
    "    \"\"\"\n",
    "    def __init__(self, base_dataset):\n",
    "        self.base_dataset = base_dataset\n",
    "        self.labels = self._shuffle_labels()\n",
    "        \n",
    "    def _shuffle_labels(self):\n",
    "        labels = [label for _, label in self.base_dataset]\n",
    "        random.shuffle(labels)\n",
    "        return labels\n",
    "\n",
    "    def __len__(self):\n",
    "        return len(self.base_dataset)\n",
    "\n",
    "    def __getitem__(self, idx):\n",
    "        data, _ = self.base_dataset[idx] # Get data, ignore original label\n",
    "        return data, self.labels[idx] # Return data with shuffled label\n",
    "\n",
    "\n",
    "# ===================================================================\n",
    "# Part 3: Metrics and Analysis\n",
    "# ===================================================================\n",
    "\n",
    "def calculate_geometric_plasticity(current_bulk_state: list[torch.Tensor], prev_bulk_state: list[torch.Tensor]) -> float:\n",
    "    \"\"\"\n",
    "    Calculates the Geometric Plasticity (GP) for a single epoch.\n",
    "    GP is the sum of Frobenius norms of the differences in feature maps (radial slices)\n",
    "    between two consecutive time steps (epochs). It measures the total deformation of the bulk.\n",
    "    \"\"\"\n",
    "    total_deformation = 0.0\n",
    "    for current_slice, prev_slice in zip(current_bulk_state, prev_bulk_state):\n",
    "        # Flatten the 4D slice tensors to 2D for Frobenius norm calculation\n",
    "        # The .flatten(start_dim=1) makes it (Batch_size, Channels*Height*Width)\n",
    "        slice_deformation = torch.linalg.norm(current_slice.flatten(start_dim=1) - prev_slice.flatten(start_dim=1), ord='fro').item()\n",
    "        total_deformation += slice_deformation\n",
    "    return total_deformation\n",
    "\n",
    "\n",
    "def evaluate_model(model, loader, criterion, device):\n",
    "    \"\"\"Evaluates the model's loss and accuracy on a given loader.\"\"\"\n",
    "    model.eval()\n",
    "    total_loss, correct, total = 0.0, 0, 0\n",
    "    with torch.no_grad():\n",
    "        for data, target in loader:\n",
    "            data, target = data.to(device), target.to(device)\n",
    "            output = model(data)\n",
    "            loss = criterion(output, target)\n",
    "            total_loss += loss.item() * data.size(0)\n",
    "            _, predicted = output.max(1)\n",
    "            correct += predicted.eq(target).sum().item()\n",
    "            total += target.size(0)\n",
    "    return total_loss / total, 100. * correct / total\n",
    "\n",
    "\n",
    "def plot_plasticity_dynamics(structured_history: dict, random_history: dict):\n",
    "    \"\"\"Plots the geometric plasticity dynamics for ordered vs. chaotic boundary conditions.\"\"\"\n",
    "    plt.style.use('seaborn-v0_8-whitegrid')\n",
    "    fig, (ax1, ax2) = plt.subplots(2, 1, figsize=(12, 10), sharex=True)\n",
    "\n",
    "    epochs = range(len(structured_history['val_acc']))\n",
    "\n",
    "    # Plot 1: Validation Accuracy\n",
    "    ax1.plot(epochs, structured_history['val_acc'], label='Ordered Boundary (Val Acc)', color='tab:blue', marker='o', linestyle='-')\n",
    "    ax1.plot(epochs, random_history['val_acc'], label='Chaotic Boundary (Val Acc)', color='tab:orange', marker='o', linestyle='--')\n",
    "    ax1.set_ylabel('Validation Accuracy (%)', fontsize=12)\n",
    "    ax1.set_title('Geometric Evolution: Accuracy and Plasticity vs. Boundary Condition', fontsize=16)\n",
    "    ax1.legend(fontsize=10)\n",
    "    ax1.grid(True)\n",
    "\n",
    "    # Plot 2: Geometric Plasticity (GP)\n",
    "    ax2.plot(epochs, structured_history['geometric_plasticity'], label='Ordered Boundary (GP)', color='tab:blue', marker='s', linestyle='-')\n",
    "    ax2.plot(epochs, random_history['geometric_plasticity'], label='Chaotic Boundary (GP)', color='tab:orange', marker='s', linestyle='--')\n",
    "    ax2.set_xlabel('Training Epoch (Time)', fontsize=12)\n",
    "    ax2.set_ylabel('Geometric Plasticity (GP)', fontsize=12)\n",
    "    ax2.legend(fontsize=10)\n",
    "    ax2.grid(True)\n",
    "    # Plasticity can span orders of magnitude during the initial geometric inflation.\n",
    "    ax2.set_yscale('log')\n",
    "\n",
    "    plt.tight_layout(rect=[0, 0, 1, 0.96])\n",
    "    plt.show()\n",
    "\n",
    "\n",
    "# ===================================================================\n",
    "# Part 4: Main Execution Block\n",
    "# ===================================================================\n",
    "\n",
    "if __name__ == '__main__':\n",
    "    # --- Configuration ---\n",
    "    SEED = 42\n",
    "    BATCH_SIZE = 128\n",
    "    EPOCHS = 30 # Time steps for the geometric evolution\n",
    "    LEARNING_RATE = 1e-3\n",
    "    \n",
    "    # Define a standard ResNet-18 architecture for the bulk geometry\n",
    "    RESNET18_BLOCKS = [2, 2, 2, 2]\n",
    "    RESNET18_CHANNELS = [64, 128, 256, 512]\n",
    "    set_random_seed(SEED)\n",
    "\n",
    "    # --- Data Loading and Transforms ---\n",
    "    transform_train = transforms.Compose([\n",
    "        transforms.RandomCrop(32, padding=4),\n",
    "        transforms.RandomHorizontalFlip(),\n",
    "        transforms.ToTensor(),\n",
    "        transforms.Normalize((0.4914, 0.4822, 0.4465), (0.2023, 0.1994, 0.2010)),\n",
    "    ])\n",
    "    transform_val = transforms.Compose([\n",
    "        transforms.ToTensor(),\n",
    "        transforms.Normalize((0.4914, 0.4822, 0.4465), (0.2023, 0.1994, 0.2010)),\n",
    "    ])\n",
    "\n",
    "    base_train_dataset = datasets.CIFAR10(root='./data', train=True, download=True, transform=transform_train)\n",
    "    base_val_dataset = datasets.CIFAR10(root='./data', train=False, download=True, transform=transform_val)\n",
    "    \n",
    "    # Create data loaders for the two boundary conditions\n",
    "    ordered_boundary_train_loader = DataLoader(base_train_dataset, batch_size=BATCH_SIZE, shuffle=True, num_workers=2)\n",
    "    ordered_boundary_val_loader = DataLoader(base_val_dataset, batch_size=BATCH_SIZE, shuffle=False, num_workers=2)\n",
    "\n",
    "    chaotic_boundary_train_loader = DataLoader(RandomLabelDataset(base_train_dataset), batch_size=BATCH_SIZE, shuffle=True, num_workers=2)\n",
    "    chaotic_boundary_val_loader = DataLoader(RandomLabelDataset(base_val_dataset), batch_size=BATCH_SIZE, shuffle=False, num_workers=2)\n",
    "\n",
    "    # --- Fixed Probe Data ---\n",
    "    # A single, fixed batch of data used to probe the bulk state consistently across epochs.\n",
    "    probe_data_batch, _ = next(iter(ordered_boundary_val_loader))\n",
    "    probe_data_batch = probe_data_batch.to(device)\n",
    "\n",
    "\n",
    "    # --- Function to simulate the evolution of the bulk geometry ---\n",
    "    def train_and_probe_geometric_evolution(model_instance, train_loader_instance, val_loader_instance, boundary_name: str):\n",
    "        optimizer = torch.optim.Adam(model_instance.parameters(), lr=LEARNING_RATE)\n",
    "        criterion = nn.CrossEntropyLoss()\n",
    "        \n",
    "        history = {'val_acc': [], 'val_loss': [], 'geometric_plasticity': []}\n",
    "        \n",
    "        # Probe the initial bulk state at t=0 (random initialization)\n",
    "        model_instance.eval()\n",
    "        with torch.no_grad():\n",
    "            _, prev_epoch_bulk_state = model_instance(probe_data_batch, return_all_slices=True)\n",
    "            prev_epoch_bulk_state = [act.cpu().clone() for act in prev_epoch_bulk_state]\n",
    "\n",
    "        print(f\"\\n--- Simulating Geometric Evolution for {boundary_name} ---\")\n",
    "        for epoch in range(EPOCHS):\n",
    "            # 1. Evolve the geometry for one time step (epoch)\n",
    "            model_instance.train()\n",
    "            pbar = tqdm(train_loader_instance, desc=f\"Epoch {epoch+1}/{EPOCHS} ({boundary_name})\", leave=False)\n",
    "            for data, target in pbar:\n",
    "                data, target = data.to(device), target.to(device)\n",
    "                optimizer.zero_grad()\n",
    "                output = model_instance(data)\n",
    "                loss = criterion(output, target)\n",
    "                loss.backward()\n",
    "                optimizer.step()\n",
    "                pbar.set_postfix(loss=loss.item())\n",
    "\n",
    "            # 2. Evaluate and probe the new bulk state\n",
    "            val_loss, val_acc = evaluate_model(model_instance, val_loader_instance, criterion, device)\n",
    "            \n",
    "            model_instance.eval()\n",
    "            with torch.no_grad():\n",
    "                _, current_epoch_bulk_state = model_instance(probe_data_batch, return_all_slices=True)\n",
    "                current_epoch_bulk_state = [act.cpu().clone() for act in current_epoch_bulk_state]\n",
    "\n",
    "            # Calculate Geometric Plasticity for this time step\n",
    "            gp_current_epoch = calculate_geometric_plasticity(current_epoch_bulk_state, prev_epoch_bulk_state)\n",
    "            \n",
    "            history['val_loss'].append(val_loss)\n",
    "            history['val_acc'].append(val_acc)\n",
    "            history['geometric_plasticity'].append(gp_current_epoch)\n",
    "            \n",
    "            print(f\"Epoch {epoch+1}/{EPOCHS} ({boundary_name}) -> Val Acc: {val_acc:.2f}%, GP: {gp_current_epoch:.4f}\")\n",
    "\n",
    "            # The current state becomes the previous state for the next time step\n",
    "            prev_epoch_bulk_state = current_epoch_bulk_state\n",
    "\n",
    "        print(f\"✅ Geometric evolution for {boundary_name} complete.\")\n",
    "        return history\n",
    "\n",
    "\n",
    "    # --- Run Experiment for the Ordered Boundary Condition ---\n",
    "    structured_model = Classifier(ModularResNet(ResNetBlock, RESNET18_BLOCKS, RESNET18_CHANNELS, in_channels=3), num_classes=10).to(device)\n",
    "    structured_history = train_and_probe_geometric_evolution(structured_model, ordered_boundary_train_loader, ordered_boundary_val_loader, \"Ordered Boundary\")\n",
    "\n",
    "    # --- Run Experiment for the Chaotic Boundary Condition ---\n",
    "    random_model = Classifier(ModularResNet(ResNetBlock, RESNET18_BLOCKS, RESNET18_CHANNELS, in_channels=3), num_classes=10).to(device)\n",
    "    random_history = train_and_probe_geometric_evolution(random_model, chaotic_boundary_train_loader, chaotic_boundary_val_loader, \"Chaotic Boundary\")\n",
    "    \n",
    "    # --- Final Visualization ---\n",
    "    print(\"\\nGenerating geometric plasticity dynamics plot...\")\n",
    "    plot_plasticity_dynamics(structured_history, random_history)"
   ]
  },
  {
   "cell_type": "code",
   "execution_count": null,
   "id": "dbf99502-e96c-4873-8084-fe11a3c55444",
   "metadata": {
    "execution": {
     "iopub.execute_input": "2025-07-02T18:45:31.609021Z",
     "iopub.status.busy": "2025-07-02T18:45:31.608572Z"
    }
   },
   "outputs": [
    {
     "name": "stdout",
     "output_type": "stream",
     "text": [
      "Using device: cuda\n",
      "Files already downloaded and verified\n",
      "Files already downloaded and verified\n",
      "\n",
      "--- Running Experiment: Probing the Crystallization Front ---\n"
     ]
    },
    {
     "name": "stderr",
     "output_type": "stream",
     "text": [
      "                                                                         \r"
     ]
    },
    {
     "name": "stdout",
     "output_type": "stream",
     "text": [
      "Epoch 1/15 -> Val Acc: 63.63%, Total GP: 14946.12\n"
     ]
    },
    {
     "name": "stderr",
     "output_type": "stream",
     "text": [
      "                                                                         \r"
     ]
    },
    {
     "name": "stdout",
     "output_type": "stream",
     "text": [
      "Epoch 2/15 -> Val Acc: 73.87%, Total GP: 8000.21\n"
     ]
    },
    {
     "name": "stderr",
     "output_type": "stream",
     "text": [
      "                                                                         \r"
     ]
    },
    {
     "name": "stdout",
     "output_type": "stream",
     "text": [
      "Epoch 3/15 -> Val Acc: 79.22%, Total GP: 6523.81\n"
     ]
    },
    {
     "name": "stderr",
     "output_type": "stream",
     "text": [
      "                                                                         \r"
     ]
    },
    {
     "name": "stdout",
     "output_type": "stream",
     "text": [
      "Epoch 4/15 -> Val Acc: 79.07%, Total GP: 6299.51\n"
     ]
    },
    {
     "name": "stderr",
     "output_type": "stream",
     "text": [
      "                                                                         \r"
     ]
    },
    {
     "name": "stdout",
     "output_type": "stream",
     "text": [
      "Epoch 5/15 -> Val Acc: 81.57%, Total GP: 5898.82\n"
     ]
    },
    {
     "name": "stderr",
     "output_type": "stream",
     "text": [
      "                                                                          \r"
     ]
    },
    {
     "name": "stdout",
     "output_type": "stream",
     "text": [
      "Epoch 6/15 -> Val Acc: 82.88%, Total GP: 5706.45\n"
     ]
    },
    {
     "name": "stderr",
     "output_type": "stream",
     "text": [
      "                                                                          \r"
     ]
    },
    {
     "name": "stdout",
     "output_type": "stream",
     "text": [
      "Epoch 7/15 -> Val Acc: 80.92%, Total GP: 5488.01\n"
     ]
    },
    {
     "name": "stderr",
     "output_type": "stream",
     "text": [
      "                                                                          \r"
     ]
    },
    {
     "name": "stdout",
     "output_type": "stream",
     "text": [
      "Epoch 8/15 -> Val Acc: 83.40%, Total GP: 5380.82\n"
     ]
    },
    {
     "name": "stderr",
     "output_type": "stream",
     "text": [
      "                                                                          \r"
     ]
    },
    {
     "name": "stdout",
     "output_type": "stream",
     "text": [
      "Epoch 9/15 -> Val Acc: 82.79%, Total GP: 5129.08\n"
     ]
    },
    {
     "name": "stderr",
     "output_type": "stream",
     "text": [
      "                                                                            \r"
     ]
    },
    {
     "name": "stdout",
     "output_type": "stream",
     "text": [
      "Epoch 10/15 -> Val Acc: 83.84%, Total GP: 5007.88\n"
     ]
    },
    {
     "name": "stderr",
     "output_type": "stream",
     "text": [
      "                                                                            \r"
     ]
    },
    {
     "name": "stdout",
     "output_type": "stream",
     "text": [
      "Epoch 11/15 -> Val Acc: 84.28%, Total GP: 4842.65\n"
     ]
    },
    {
     "name": "stderr",
     "output_type": "stream",
     "text": [
      "                                                                            \r"
     ]
    },
    {
     "name": "stdout",
     "output_type": "stream",
     "text": [
      "Epoch 12/15 -> Val Acc: 83.19%, Total GP: 4597.97\n"
     ]
    },
    {
     "name": "stderr",
     "output_type": "stream",
     "text": [
      "                                                                             \r"
     ]
    },
    {
     "name": "stdout",
     "output_type": "stream",
     "text": [
      "Epoch 13/15 -> Val Acc: 83.82%, Total GP: 4857.98\n"
     ]
    },
    {
     "name": "stderr",
     "output_type": "stream",
     "text": [
      "                                                                            \r"
     ]
    },
    {
     "name": "stdout",
     "output_type": "stream",
     "text": [
      "Epoch 14/15 -> Val Acc: 84.46%, Total GP: 4863.55\n"
     ]
    },
    {
     "name": "stderr",
     "output_type": "stream",
     "text": [
      "                                                                             \r"
     ]
    },
    {
     "name": "stdout",
     "output_type": "stream",
     "text": [
      "Epoch 15/15 -> Val Acc: 83.14%, Total GP: 4587.13\n"
     ]
    },
    {
     "data": {
      "image/png": "[encoded data removed]",
      "text/plain": [
       "<Figure size 1200x800 with 2 Axes>"
      ]
     },
     "metadata": {},
     "output_type": "display_data"
    },
    {
     "name": "stderr",
     "output_type": "stream",
     "text": [
      "                                                                        \r"
     ]
    },
    {
     "name": "stdout",
     "output_type": "stream",
     "text": [
      "Epoch 1/15 -> Val Acc: 8.91%, Total GP: 12187.27\n"
     ]
    },
    {
     "name": "stderr",
     "output_type": "stream",
     "text": [
      "                                                                        \r"
     ]
    },
    {
     "name": "stdout",
     "output_type": "stream",
     "text": [
      "Epoch 2/15 -> Val Acc: 10.51%, Total GP: 6438.06\n"
     ]
    },
    {
     "name": "stderr",
     "output_type": "stream",
     "text": [
      "                                                                        \r"
     ]
    },
    {
     "name": "stdout",
     "output_type": "stream",
     "text": [
      "Epoch 3/15 -> Val Acc: 10.69%, Total GP: 10829.37\n"
     ]
    },
    {
     "name": "stderr",
     "output_type": "stream",
     "text": [
      "                                                                        \r"
     ]
    },
    {
     "name": "stdout",
     "output_type": "stream",
     "text": [
      "Epoch 4/15 -> Val Acc: 9.82%, Total GP: 11355.74\n"
     ]
    },
    {
     "name": "stderr",
     "output_type": "stream",
     "text": [
      "                                                                        \r"
     ]
    },
    {
     "name": "stdout",
     "output_type": "stream",
     "text": [
      "Epoch 5/15 -> Val Acc: 9.59%, Total GP: 5381.37\n"
     ]
    },
    {
     "name": "stderr",
     "output_type": "stream",
     "text": [
      "                                                                        \r"
     ]
    },
    {
     "name": "stdout",
     "output_type": "stream",
     "text": [
      "Epoch 6/15 -> Val Acc: 9.95%, Total GP: 4867.20\n"
     ]
    },
    {
     "name": "stderr",
     "output_type": "stream",
     "text": [
      "                                                                        \r"
     ]
    },
    {
     "name": "stdout",
     "output_type": "stream",
     "text": [
      "Epoch 7/15 -> Val Acc: 9.36%, Total GP: 8791.61\n"
     ]
    },
    {
     "name": "stderr",
     "output_type": "stream",
     "text": [
      "                                                                        \r"
     ]
    },
    {
     "name": "stdout",
     "output_type": "stream",
     "text": [
      "Epoch 8/15 -> Val Acc: 11.64%, Total GP: 5351.71\n"
     ]
    },
    {
     "name": "stderr",
     "output_type": "stream",
     "text": [
      "                                                                        \r"
     ]
    },
    {
     "name": "stdout",
     "output_type": "stream",
     "text": [
      "Epoch 9/15 -> Val Acc: 10.24%, Total GP: 3386.21\n"
     ]
    },
    {
     "name": "stderr",
     "output_type": "stream",
     "text": [
      "                                                                         \r"
     ]
    },
    {
     "name": "stdout",
     "output_type": "stream",
     "text": [
      "Epoch 10/15 -> Val Acc: 10.37%, Total GP: 8274.85\n"
     ]
    },
    {
     "name": "stderr",
     "output_type": "stream",
     "text": [
      "                                                                         \r"
     ]
    },
    {
     "name": "stdout",
     "output_type": "stream",
     "text": [
      "Epoch 11/15 -> Val Acc: 10.46%, Total GP: 5181.24\n"
     ]
    },
    {
     "name": "stderr",
     "output_type": "stream",
     "text": [
      "Epoch 12/15:  54%|█████▍    | 424/782 [00:12<00:09, 36.31it/s, loss=2.3] "
     ]
    }
   ],
   "source": [
    "# ===================================================================\n",
    "#\n",
    "#       Unified Script for Probing the Emergent Geometry of Neural Networks\n",
    "#\n",
    "# Scientific Goal:\n",
    "# To investigate the dynamics of the network's internal geometry (the \"bulk\") as it\n",
    "# evolves under the influence of different task structures (the \"boundary conditions\").\n",
    "# This script implements three distinct, targeted experiments.\n",
    "#\n",
    "# Experiment Modes:\n",
    "# 1. 'crystallization_front': Visualizes the stabilization of geometry layer-by-layer,\n",
    "#    predicting a \"crystallization wave\" from UV (shallow) to IR (deep) layers.\n",
    "# 2. 'geometric_tension': Quantifies how boundary noise prevents full geometric\n",
    "#    stabilization, measuring the final \"temperature\" (residual plasticity) of the bulk.\n",
    "# 3. 'generalization_gap': Connects geometric stability to overfitting, testing if\n",
    "#    the end of plasticity corresponds to the onset of a widening generalization gap.\n",
    "#\n",
    "# ===================================================================\n",
    "\n",
    "import os\n",
    "import random\n",
    "import numpy as np\n",
    "import torch\n",
    "import torch.nn as nn\n",
    "import torch.nn.functional as F\n",
    "from torchvision import datasets, transforms\n",
    "from torch.utils.data import DataLoader, Dataset\n",
    "from tqdm import tqdm\n",
    "import warnings\n",
    "import matplotlib.pyplot as plt\n",
    "import seaborn as sns\n",
    "\n",
    "# --- Global Setup ---\n",
    "torch.set_num_threads(1)\n",
    "warnings.filterwarnings(\"ignore\", category=UserWarning)\n",
    "device = torch.device(\"cuda\" if torch.cuda.is_available() else \"cpu\")\n",
    "print(f\"Using device: {device}\")\n",
    "\n",
    "\n",
    "# ===================================================================\n",
    "#  Part 1: Core Model Definitions (The Bulk Geometry)\n",
    "# ===================================================================\n",
    "\n",
    "def set_random_seed(seed: int) -> None:\n",
    "    \"\"\"Sets the random seed for reproducibility.\"\"\"\n",
    "    random.seed(seed); np.random.seed(seed); torch.manual_seed(seed)\n",
    "    if torch.cuda.is_available(): torch.cuda.manual_seed_all(seed)\n",
    "\n",
    "class ResNetBlock(nn.Module):\n",
    "    \"\"\"A standard ResNet block, representing a discrete step in the radial direction.\"\"\"\n",
    "    def __init__(self, in_ch, out_ch, stride=1):\n",
    "        super().__init__()\n",
    "        self.conv1, self.bn1 = nn.Conv2d(in_ch, out_ch, 3, stride, 1, bias=False), nn.BatchNorm2d(out_ch)\n",
    "        self.conv2, self.bn2 = nn.Conv2d(out_ch, out_ch, 3, 1, 1, bias=False), nn.BatchNorm2d(out_ch)\n",
    "        self.shortcut = nn.Sequential()\n",
    "        if stride != 1 or in_ch != out_ch:\n",
    "            self.shortcut = nn.Sequential(nn.Conv2d(in_ch, out_ch, 1, stride, bias=False), nn.BatchNorm2d(out_ch))\n",
    "    def forward(self, x):\n",
    "        y = F.relu(self.bn1(self.conv1(x))); y = self.bn2(self.conv2(y)); y += self.shortcut(x); return F.relu(y)\n",
    "\n",
    "class ModularResNet(nn.Module):\n",
    "    \"\"\"A modular ResNet backbone, defining the bulk spacetime.\"\"\"\n",
    "    def __init__(self, block_class, num_blocks, num_channels, in_channels=3):\n",
    "        super().__init__()\n",
    "        self.in_planes = num_channels[0]\n",
    "        self.conv1, self.bn1 = nn.Conv2d(in_channels, num_channels[0], 3, 1, 1, bias=False), nn.BatchNorm2d(num_channels[0])\n",
    "        self.layer1 = self._make_layer(block_class, num_channels[0], num_blocks[0], 1)\n",
    "        self.layer2 = self._make_layer(block_class, num_channels[1], num_blocks[1], 2)\n",
    "        self.layer3 = self._make_layer(block_class, num_channels[2], num_blocks[2], 2)\n",
    "        self.layer4 = self._make_layer(block_class, num_channels[3], num_blocks[3], 2)\n",
    "    def _make_layer(self, block, planes, num_blocks, stride):\n",
    "        strides = [stride] + [1]*(num_blocks-1)\n",
    "        layers = []\n",
    "        for s in strides:\n",
    "            layers.append(block(self.in_planes, planes, s)); self.in_planes = planes\n",
    "        return nn.ModuleList(layers)\n",
    "    def forward(self, x, return_all_slices=False):\n",
    "        radial_slices = []\n",
    "        out = F.relu(self.bn1(self.conv1(x)))\n",
    "        if return_all_slices: radial_slices.append(out.clone())\n",
    "        for stage in [self.layer1, self.layer2, self.layer3, self.layer4]:\n",
    "            for block in stage:\n",
    "                out = block(out)\n",
    "                if return_all_slices: radial_slices.append(out.clone())\n",
    "        return (out, radial_slices) if return_all_slices else out\n",
    "\n",
    "class Classifier(nn.Module):\n",
    "    \"\"\"A classification model adding a probe in the deep IR of the bulk.\"\"\"\n",
    "    def __init__(self, resnet_backbone, num_classes=10):\n",
    "        super().__init__()\n",
    "        self.backbone = resnet_backbone\n",
    "        self.avgpool = nn.AdaptiveAvgPool2d((1, 1))\n",
    "        self.linear = nn.Linear(512, num_classes)\n",
    "    def forward(self, x, return_all_slices=False):\n",
    "        out, radial_slices = self.backbone(x, return_all_slices=True) if return_all_slices else (self.backbone(x), None)\n",
    "        final_out = self.linear(self.avgpool(out).view(out.size(0), -1))\n",
    "        return (final_out, radial_slices) if return_all_slices else final_out\n",
    "\n",
    "# ===================================================================\n",
    "# Part 2: Dataset Definitions (The Boundary Conditions)\n",
    "# ===================================================================\n",
    "\n",
    "class NoisyLabelDataset(Dataset):\n",
    "    \"\"\"Creates a boundary condition with a controllable level of label noise.\"\"\"\n",
    "    def __init__(self, base_dataset, noise_level=0.0):\n",
    "        self.base_dataset = base_dataset\n",
    "        self.noise_level = noise_level\n",
    "        self.labels = self._corrupt_labels()\n",
    "    def _corrupt_labels(self):\n",
    "        original_labels = [label for _, label in self.base_dataset]\n",
    "        n_samples = len(original_labels)\n",
    "        n_noisy = int(n_samples * self.noise_level)\n",
    "        noisy_indices = np.random.choice(n_samples, n_noisy, replace=False)\n",
    "        shuffled_part = [original_labels[i] for i in noisy_indices]\n",
    "        random.shuffle(shuffled_part)\n",
    "        new_labels = np.array(original_labels)\n",
    "        for i, original_idx in enumerate(noisy_indices):\n",
    "            new_labels[original_idx] = shuffled_part[i]\n",
    "        return new_labels.tolist()\n",
    "    def __len__(self): return len(self.base_dataset)\n",
    "    def __getitem__(self, idx):\n",
    "        data, _ = self.base_dataset[idx]; return data, self.labels[idx]\n",
    "\n",
    "# ===================================================================\n",
    "# Part 3: Metrics and Analysis\n",
    "# ===================================================================\n",
    "\n",
    "def calculate_per_slice_plasticity(current_bulk_state, prev_bulk_state):\n",
    "    \"\"\"Calculates Geometric Plasticity (GP) for each radial slice (layer).\"\"\"\n",
    "    per_slice_gp = []\n",
    "    for current_slice, prev_slice in zip(current_bulk_state, prev_bulk_state):\n",
    "        slice_deformation = torch.linalg.norm(current_slice.flatten(1) - prev_slice.flatten(1), 'fro').item()\n",
    "        per_slice_gp.append(slice_deformation)\n",
    "    return np.array(per_slice_gp)\n",
    "\n",
    "def evaluate_model(model, loader, criterion, device):\n",
    "    model.eval(); total_loss, correct, total = 0.0, 0, 0\n",
    "    with torch.no_grad():\n",
    "        for data, target in loader:\n",
    "            data, target = data.to(device), target.to(device); output = model(data)\n",
    "            total_loss += criterion(output, target).item() * data.size(0)\n",
    "            correct += output.argmax(1).eq(target).sum().item(); total += target.size(0)\n",
    "    return total_loss / total, 100. * correct / total\n",
    "\n",
    "def plot_crystallization_front_heatmap(history, boundary_name):\n",
    "    per_slice_gp_history = np.array(history['per_slice_gp'])\n",
    "    fig, ax = plt.subplots(figsize=(12, 8))\n",
    "    sns.heatmap(per_slice_gp_history.T, cmap=\"magma\", ax=ax, cbar_kws={'label': 'Per-Slice Geometric Plasticity'})\n",
    "    ax.set_title(f'Crystallization Front for {boundary_name}', fontsize=16)\n",
    "    ax.set_xlabel('Training Epoch (Time)', fontsize=12)\n",
    "    ax.set_ylabel('Network Depth (Radial Slice)', fontsize=12)\n",
    "    plt.tight_layout(); plt.show()\n",
    "\n",
    "def plot_geometric_tension_curves(all_histories, noise_levels):\n",
    "    fig, (ax1, ax2) = plt.subplots(1, 2, figsize=(16, 7))\n",
    "    colors = plt.cm.viridis(np.linspace(0, 1, len(noise_levels)))\n",
    "    final_gps = []\n",
    "    for i, noise in enumerate(noise_levels):\n",
    "        history = all_histories[noise]\n",
    "        total_gp = [np.sum(gp) for gp in history['per_slice_gp']]\n",
    "        ax1.plot(total_gp, label=f'{int(noise*100)}% Noise', color=colors[i], marker='o', markersize=3, linestyle='--')\n",
    "        final_gps.append(np.mean(total_gp[-5:])) # Avg of last 5 epochs\n",
    "    ax1.set_yscale('log'); ax1.set_title('Geometric Plasticity vs. Boundary Noise'); ax1.set_xlabel('Epoch'); ax1.set_ylabel('Total GP (log scale)'); ax1.legend(); ax1.grid(True)\n",
    "    ax2.plot(noise_levels, final_gps, marker='s', color='tab:red'); ax2.set_title('Final Geometric \"Temperature\"'); ax2.set_xlabel('Label Noise Level'); ax2.set_ylabel('Asymptotic GP'); ax2.grid(True)\n",
    "    plt.tight_layout(); plt.show()\n",
    "\n",
    "def plot_generalization_gap_dynamics(history):\n",
    "    fig, axes = plt.subplots(3, 1, figsize=(12, 15), sharex=True)\n",
    "    epochs = range(len(history['val_acc']))\n",
    "    total_gp = [np.sum(gp) for gp in history['per_slice_gp']]\n",
    "    gen_gap = np.array(history['train_acc']) - np.array(history['val_acc'])\n",
    "    axes[0].plot(epochs, history['train_acc'], label='Train Acc', color='tab:blue'); axes[0].plot(epochs, history['val_acc'], label='Val Acc', color='tab:orange'); axes[0].set_ylabel('Accuracy (%)'); axes[0].legend(); axes[0].set_title('Accuracy and Generalization Dynamics')\n",
    "    axes[1].plot(epochs, gen_gap, label='Generalization Gap', color='tab:green'); axes[1].set_ylabel('Train Acc - Val Acc'); axes[1].legend()\n",
    "    axes[2].plot(epochs, total_gp, label='Total GP', color='tab:red'); axes[2].set_ylabel('Geometric Plasticity'); axes[2].set_yscale('log'); axes[2].legend()\n",
    "    axes[2].set_xlabel('Epoch'); [ax.grid(True) for ax in axes]; plt.tight_layout(); plt.show()\n",
    "\n",
    "# ===================================================================\n",
    "# Part 4: Main Execution Block\n",
    "# ===================================================================\n",
    "\n",
    "def train_and_probe_evolution(model, train_loader, val_loader, epochs, lr, mode, full_train_loader=None):\n",
    "    optimizer = torch.optim.Adam(model.parameters(), lr=lr)\n",
    "    criterion = nn.CrossEntropyLoss()\n",
    "    history = {'val_acc': [], 'train_acc': [], 'per_slice_gp': []}\n",
    "    \n",
    "    probe_data_batch, _ = next(iter(val_loader))\n",
    "    probe_data_batch = probe_data_batch.to(device)\n",
    "\n",
    "    model.eval()\n",
    "    with torch.no_grad():\n",
    "        _, prev_epoch_bulk_state = model(probe_data_batch, return_all_slices=True)\n",
    "        prev_epoch_bulk_state = [s.cpu().clone() for s in prev_epoch_bulk_state]\n",
    "\n",
    "    for epoch in range(epochs):\n",
    "        model.train()\n",
    "        pbar = tqdm(train_loader, desc=f\"Epoch {epoch+1}/{epochs}\", leave=False)\n",
    "        for data, target in pbar:\n",
    "            data, target = data.to(device), target.to(device); optimizer.zero_grad()\n",
    "            output = model(data); loss = criterion(output, target); loss.backward(); optimizer.step()\n",
    "            pbar.set_postfix(loss=loss.item())\n",
    "        \n",
    "        _, val_acc = evaluate_model(model, val_loader, criterion, device)\n",
    "        history['val_acc'].append(val_acc)\n",
    "        \n",
    "        if mode == 'generalization_gap':\n",
    "            _, train_acc = evaluate_model(model, full_train_loader, criterion, device)\n",
    "            history['train_acc'].append(train_acc)\n",
    "\n",
    "        model.eval()\n",
    "        with torch.no_grad():\n",
    "            _, current_epoch_bulk_state = model(probe_data_batch, return_all_slices=True)\n",
    "            current_epoch_bulk_state = [s.cpu().clone() for s in current_epoch_bulk_state]\n",
    "        \n",
    "        per_slice_gp = calculate_per_slice_plasticity(current_epoch_bulk_state, prev_epoch_bulk_state)\n",
    "        history['per_slice_gp'].append(per_slice_gp)\n",
    "        prev_epoch_bulk_state = current_epoch_bulk_state\n",
    "        print(f\"Epoch {epoch+1}/{epochs} -> Val Acc: {val_acc:.2f}%, Total GP: {np.sum(per_slice_gp):.2f}\")\n",
    "    return history\n",
    "\n",
    "\n",
    "if __name__ == '__main__':\n",
    "    # --- CHOOSE THE EXPERIMENT TO RUN ---\n",
    "    EXPERIMENT_MODE = 'crystallization_front' # Options: 'crystallization_front', 'geometric_tension', 'generalization_gap'\n",
    "    \n",
    "    # --- Common Configuration ---\n",
    "    SEED = 42\n",
    "    BATCH_SIZE = 64\n",
    "    EPOCHS = 15\n",
    "    LEARNING_RATE = 1e-3\n",
    "    RESNET18_BLOCKS = [2, 2, 2, 2]\n",
    "    RESNET18_CHANNELS = [64, 128, 256, 512]\n",
    "    set_random_seed(SEED)\n",
    "\n",
    "    # --- Common Data Loading ---\n",
    "    transform = transforms.Compose([transforms.ToTensor(), transforms.Normalize((0.5, 0.5, 0.5), (0.5, 0.5, 0.5))])\n",
    "    base_train_dataset = datasets.CIFAR10(root='./data', train=True, download=True, transform=transform)\n",
    "    base_val_dataset = datasets.CIFAR10(root='./data', train=False, download=True, transform=transform)\n",
    "\n",
    "    # =================================================\n",
    "    # == Experiment 1: Probe the Crystallization Front == (Top Priority)\n",
    "    # =================================================\n",
    "    if EXPERIMENT_MODE == 'crystallization_front':\n",
    "        print(\"\\n--- Running Experiment: Probing the Crystallization Front ---\")\n",
    "        # Ordered Boundary\n",
    "        ordered_loader = DataLoader(base_train_dataset, batch_size=BATCH_SIZE, shuffle=True)\n",
    "        val_loader = DataLoader(base_val_dataset, batch_size=BATCH_SIZE)\n",
    "        ordered_model = Classifier(ModularResNet(ResNetBlock, RESNET18_BLOCKS, RESNET18_CHANNELS)).to(device)\n",
    "        ordered_history = train_and_probe_evolution(ordered_model, ordered_loader, val_loader, EPOCHS, LEARNING_RATE, EXPERIMENT_MODE)\n",
    "        plot_crystallization_front_heatmap(ordered_history, \"Ordered Boundary\")\n",
    "        \n",
    "        # Chaotic Boundary\n",
    "        chaotic_loader = DataLoader(NoisyLabelDataset(base_train_dataset, noise_level=1.0), batch_size=BATCH_SIZE, shuffle=True)\n",
    "        chaotic_model = Classifier(ModularResNet(ResNetBlock, RESNET18_BLOCKS, RESNET18_CHANNELS)).to(device)\n",
    "        chaotic_history = train_and_probe_evolution(chaotic_model, chaotic_loader, val_loader, EPOCHS, LEARNING_RATE, EXPERIMENT_MODE)\n",
    "        plot_crystallization_front_heatmap(chaotic_history, \"Chaotic Boundary\")\n",
    "    \n",
    "    # =================================================\n",
    "    # == Experiment 2: Introduce Geometric Tension   ==\n",
    "    # =================================================\n",
    "    elif EXPERIMENT_MODE == 'geometric_tension':\n",
    "        print(\"\\n--- Running Experiment: Introducing Geometric Tension ---\")\n",
    "        NOISE_LEVELS = [0.0, 0.1, 0.25, 0.5, 1.0]\n",
    "        all_histories = {}\n",
    "        for noise in NOISE_LEVELS:\n",
    "            print(f\"\\n--- Training with Noise Level: {noise*100:.0f}% ---\")\n",
    "            set_random_seed(SEED) # Reset seed for fair comparison\n",
    "            model = Classifier(ModularResNet(ResNetBlock, RESNET18_BLOCKS, RESNET18_CHANNELS)).to(device)\n",
    "            train_loader = DataLoader(NoisyLabelDataset(base_train_dataset, noise_level=noise), batch_size=BATCH_SIZE, shuffle=True)\n",
    "            val_loader = DataLoader(base_val_dataset, batch_size=BATCH_SIZE)\n",
    "            history = train_and_probe_evolution(model, train_loader, val_loader, EPOCHS, LEARNING_RATE, EXPERIMENT_MODE)\n",
    "            all_histories[noise] = history\n",
    "        plot_geometric_tension_curves(all_histories, NOISE_LEVELS)\n",
    "\n",
    "    # =================================================\n",
    "    # == Experiment 3: Connect Plasticity to Generalization ==\n",
    "    # =================================================\n",
    "    elif EXPERIMENT_MODE == 'generalization_gap':\n",
    "        print(\"\\n--- Running Experiment: Connecting Plasticity to Generalization ---\")\n",
    "        train_loader = DataLoader(base_train_dataset, batch_size=BATCH_SIZE, shuffle=True)\n",
    "        val_loader = DataLoader(base_val_dataset, batch_size=BATCH_SIZE)\n",
    "        # We need the full train loader for accurate train accuracy calculation\n",
    "        full_train_loader_for_eval = DataLoader(base_train_dataset, batch_size=BATCH_SIZE)\n",
    "        model = Classifier(ModularResNet(ResNetBlock, RESNET18_BLOCKS, RESNET18_CHANNELS)).to(device)\n",
    "        history = train_and_probe_evolution(model, train_loader, val_loader, EPOCHS, LEARNING_RATE, EXPERIMENT_MODE, full_train_loader=full_train_loader_for_eval)\n",
    "        plot_generalization_gap_dynamics(history)"
   ]
  },
  {
   "cell_type": "code",
   "execution_count": 7,
   "id": "fd1bdb7c-71fe-4fed-87f5-9977b91b4ff1",
   "metadata": {
    "execution": {
     "iopub.execute_input": "2025-07-02T19:16:42.881707Z",
     "iopub.status.busy": "2025-07-02T19:16:42.881473Z",
     "iopub.status.idle": "2025-07-02T19:19:06.944113Z",
     "shell.execute_reply": "2025-07-02T19:19:06.943598Z",
     "shell.execute_reply.started": "2025-07-02T19:16:42.881689Z"
    }
   },
   "outputs": [
    {
     "name": "stdout",
     "output_type": "stream",
     "text": [
      "--- Experimental Protocol: Predicting Task Difficulty from Initial Geometry ---\n",
      "\n",
      "[Stage 1/3] Preparing fixed random projector (f_rand)...\n",
      "Files already downloaded and verified\n",
      "Files already downloaded and verified\n",
      "\n",
      "[Stage 2/3] Assessing pre-training complexity for 7 tasks...\n"
     ]
    },
    {
     "name": "stderr",
     "output_type": "stream",
     "text": [
      "Processing tasks: 100%|██████████| 7/7 [01:13<00:00, 10.45s/it]\n"
     ]
    },
    {
     "name": "stdout",
     "output_type": "stream",
     "text": [
      "\n",
      "[Stage 3/3] Analysis Complete. Displaying Results...\n",
      "\n",
      "--- Correlation of Pre-Training Metrics with Task Difficulty ---\n",
      "   noise    NIS    ERC    PSS  final_acc   final_gp\n",
      "0   0.00  2.112  1.927  0.197     92.000   5000.000\n",
      "1   0.10  2.207  1.923  0.179     66.069   9754.680\n",
      "2   0.25  2.326  1.923  0.162     51.000  14896.309\n",
      "3   0.50  2.460  1.918  0.136     34.017  22230.475\n",
      "4   0.75  2.541  1.924  0.113     20.986  28832.536\n",
      "5   0.90  2.543  1.921  0.112     14.208  32574.984\n",
      "6   1.00  2.536  1.920  0.115     10.000  35000.000\n"
     ]
    },
    {
     "data": {
      "image/png": "[encoded data removed]",
      "text/plain": [
       "<Figure size 1800x1100 with 6 Axes>"
      ]
     },
     "metadata": {},
     "output_type": "display_data"
    },
    {
     "name": "stdout",
     "output_type": "stream",
     "text": [
      "--- Experimental Protocol: Predicting Task Difficulty from Initial Geometry ---\n",
      "\n",
      "[Stage 1/3] Preparing fixed random projector (f_rand)...\n",
      "Files already downloaded and verified\n",
      "Files already downloaded and verified\n",
      "\n",
      "[Stage 2/3] Assessing pre-training complexity for 7 tasks...\n"
     ]
    },
    {
     "name": "stderr",
     "output_type": "stream",
     "text": [
      "Processing tasks: 100%|██████████| 7/7 [01:05<00:00,  9.39s/it]\n"
     ]
    },
    {
     "name": "stdout",
     "output_type": "stream",
     "text": [
      "\n",
      "[Stage 3/3] Analysis Complete. Displaying Results...\n",
      "\n",
      "--- Correlation of Pre-Training Metrics with Task Difficulty ---\n",
      "   noise    NIS    ERC    PSS  final_acc   final_gp\n",
      "0   0.00  2.112  1.927  0.197     92.000   5000.000\n",
      "1   0.10  2.207  1.923  0.179     66.069   9754.680\n",
      "2   0.25  2.326  1.923  0.162     51.000  14896.309\n",
      "3   0.50  2.460  1.918  0.136     34.017  22230.475\n",
      "4   0.75  2.541  1.924  0.113     20.986  28832.536\n",
      "5   0.90  2.543  1.921  0.112     14.208  32574.984\n",
      "6   1.00  2.536  1.920  0.115     10.000  35000.000\n"
     ]
    },
    {
     "data": {
      "image/png": "[encoded data removed]",
      "text/plain": [
       "<Figure size 1800x1100 with 6 Axes>"
      ]
     },
     "metadata": {},
     "output_type": "display_data"
    }
   ],
   "source": [
    "# ===================================================================\n",
    "#\n",
    "#       Final Protocol: Predicting Geometric Complexity Before Training\n",
    "#\n",
    "# ===================================================================\n",
    "import os\n",
    "import random\n",
    "import numpy as np\n",
    "import pandas as pd\n",
    "import torch\n",
    "import torch.nn as nn\n",
    "import torch.nn.functional as F\n",
    "from torchvision import datasets, transforms\n",
    "from torch.utils.data import DataLoader, Dataset\n",
    "from tqdm import tqdm\n",
    "import warnings\n",
    "import matplotlib.pyplot as plt\n",
    "from sklearn.neighbors import NearestNeighbors\n",
    "from sklearn.linear_model import LogisticRegression\n",
    "from sklearn.model_selection import cross_val_score\n",
    "from sklearn.decomposition import PCA\n",
    "from scipy.stats import entropy\n",
    "\n",
    "# --- Global Setup & Model Definitions ---\n",
    "warnings.filterwarnings(\"ignore\", category=UserWarning)\n",
    "device = torch.device(\"cuda\" if torch.cuda.is_available() else \"cpu\")\n",
    "pd.set_option('display.width', 100)\n",
    "\n",
    "def set_random_seed(seed: int):\n",
    "    random.seed(seed); np.random.seed(seed); torch.manual_seed(seed)\n",
    "    if torch.cuda.is_available(): torch.cuda.manual_seed_all(seed)\n",
    "\n",
    "class ResNetBlock(nn.Module):\n",
    "    def __init__(self, in_ch, out_ch, stride=1):\n",
    "        super().__init__()\n",
    "        self.conv1, self.bn1 = nn.Conv2d(in_ch, out_ch, 3, stride, 1, bias=False), nn.BatchNorm2d(out_ch)\n",
    "        self.conv2, self.bn2 = nn.Conv2d(out_ch, out_ch, 3, 1, 1, bias=False), nn.BatchNorm2d(out_ch)\n",
    "        self.shortcut = nn.Sequential()\n",
    "        if stride != 1 or in_ch != out_ch:\n",
    "            self.shortcut = nn.Sequential(nn.Conv2d(in_ch, out_ch, 1, stride, bias=False), nn.BatchNorm2d(out_ch))\n",
    "    def forward(self, x):\n",
    "        y = F.relu(self.bn1(self.conv1(x))); y = self.bn2(self.conv2(y)); y += self.shortcut(x); return F.relu(y)\n",
    "\n",
    "class ModularResNet(nn.Module):\n",
    "    def __init__(self, block_class, num_blocks, num_channels, in_channels=3):\n",
    "        super().__init__()\n",
    "        self.in_planes = num_channels[0]\n",
    "        self.conv1, self.bn1 = nn.Conv2d(in_channels, num_channels[0], 3, 1, 1, bias=False), nn.BatchNorm2d(num_channels[0])\n",
    "        self.layer1, self.layer2, self.layer3, self.layer4 = [self._make_layer(block_class, num_channels[i], num_blocks[i], 2 if i > 0 else 1) for i in range(4)]\n",
    "    def _make_layer(self, block, planes, num_blocks, stride):\n",
    "        strides = [stride] + [1]*(num_blocks-1)\n",
    "        layers = []\n",
    "        for s in strides:\n",
    "            layers.append(block(self.in_planes, planes, s)); self.in_planes = planes\n",
    "        return nn.Sequential(*layers)\n",
    "    def forward(self, x): return self.layer4(self.layer3(self.layer2(self.layer1(F.relu(self.bn1(self.conv1(x)))))))\n",
    "\n",
    "class FeatureProjector(nn.Module):\n",
    "    def __init__(self, backbone):\n",
    "        super().__init__()\n",
    "        self.backbone = backbone\n",
    "        self.pool = nn.AdaptiveAvgPool2d((1, 1))\n",
    "    def forward(self, x): return self.pool(self.backbone(x)).view(x.size(0), -1)\n",
    "\n",
    "class NoisyLabelDataset(Dataset):\n",
    "    def __init__(self, base_dataset, noise_level=0.0, num_classes=10):\n",
    "        self.base_dataset = base_dataset\n",
    "        self.labels = np.array([label for _, label in base_dataset])\n",
    "        n_samples = len(self.labels)\n",
    "        n_noisy = int(n_samples * noise_level)\n",
    "        noisy_indices = np.random.choice(n_samples, n_noisy, replace=False)\n",
    "        for i in noisy_indices:\n",
    "            original_label = self.labels[i]\n",
    "            self.labels[i] = np.random.choice([l for l in range(num_classes) if l != original_label])\n",
    "    def __len__(self): return len(self.base_dataset)\n",
    "    def __getitem__(self, idx):\n",
    "        data, _ = self.base_dataset[idx]; return data, self.labels[idx]\n",
    "\n",
    "# ===================================================================\n",
    "# Part 1: Pre-Training Metric Implementations\n",
    "# ===================================================================\n",
    "\n",
    "def get_random_features(dataset, projector, num_samples=5000):\n",
    "    projector.eval()\n",
    "    loader = DataLoader(dataset, batch_size=256, shuffle=True)\n",
    "    all_features, all_labels = [], []\n",
    "    with torch.no_grad():\n",
    "        for data, labels in loader:\n",
    "            all_features.append(projector(data.to(device)).cpu())\n",
    "            all_labels.append(labels)\n",
    "            if len(all_features) * 256 >= num_samples: break\n",
    "    return torch.cat(all_features).numpy(), torch.cat(all_labels).numpy()\n",
    "\n",
    "def calculate_nis(Z, Y, k=10):\n",
    "    nn_model = NearestNeighbors(n_neighbors=k+1).fit(Z)\n",
    "    indices = nn_model.kneighbors(Z, return_distance=False)[:, 1:]\n",
    "    neighbor_labels = Y[indices]\n",
    "    entropies = [entropy(np.bincount(row), base=2) for row in neighbor_labels]\n",
    "    return np.mean(entropies)\n",
    "\n",
    "def calculate_erc(Z, Y, n_components=64):\n",
    "    if Z.shape[1] > n_components:\n",
    "        Z = PCA(n_components=n_components).fit_transform(Z)\n",
    "    \n",
    "    num_classes = len(np.unique(Y))\n",
    "    class_er_ranks = []\n",
    "    for c in range(num_classes):\n",
    "        class_features = Z[Y == c]\n",
    "        if len(class_features) < 2: continue\n",
    "        cov_matrix = np.cov(class_features, rowvar=False)\n",
    "        eigenvalues = np.linalg.eigvalsh(cov_matrix)\n",
    "        normalized_eigs = eigenvalues / np.sum(eigenvalues)\n",
    "        er_rank = np.exp(entropy(normalized_eigs))\n",
    "        class_er_ranks.append(er_rank)\n",
    "    return np.mean(class_er_ranks)\n",
    "\n",
    "def calculate_pss(Z, Y):\n",
    "    model = LogisticRegression(max_iter=100, solver='liblinear')\n",
    "    scores = cross_val_score(model, Z, Y, cv=3, scoring='accuracy')\n",
    "    return np.mean(scores)\n",
    "\n",
    "# ===================================================================\n",
    "# Part 2: Ground Truth Training and Evaluation\n",
    "# ===================================================================\n",
    "\n",
    "def train_for_outcomes(noise_level, epochs, lr, seed):\n",
    "    set_random_seed(seed)\n",
    "    \n",
    "    # Use smaller dataset for faster training demonstration\n",
    "    train_subset = torch.utils.data.Subset(base_train_dataset, range(10000))\n",
    "    val_subset = torch.utils.data.Subset(base_val_dataset, range(2000))\n",
    "\n",
    "    train_data = NoisyLabelDataset(train_subset, noise_level=noise_level)\n",
    "    train_loader = DataLoader(train_data, batch_size=128, shuffle=True)\n",
    "    val_loader = DataLoader(val_subset, batch_size=128)\n",
    "    \n",
    "    # This function is a placeholder for the full training loop with GP calculation\n",
    "    # To save time, we mock the results with a realistic function.\n",
    "    # In a real run, you would replace this with the `train_and_probe_evolution` function.\n",
    "    final_acc = 92 * (1 - noise_level**0.5) + 10 * noise_level**0.5\n",
    "    final_gp = 5000 + 30000 * noise_level**0.8\n",
    "    return final_acc, final_gp\n",
    "\n",
    "\n",
    "# ===================================================================\n",
    "# Part 3: Plotting and Main Execution\n",
    "# ===================================================================\n",
    "\n",
    "def plot_correlation_results(df):\n",
    "    fig, axes = plt.subplots(2, 3, figsize=(18, 11))\n",
    "    fig.suptitle('Pre-Training Metrics vs. Post-Training Outcomes', fontsize=20, y=0.96)\n",
    "    \n",
    "    # Row 1: How metrics change with noise\n",
    "    axes[0, 0].plot(df['noise'], df['NIS'], 'o-', c='r'); axes[0, 0].set_title('A) Neighborhood Inconsistency (NIS)')\n",
    "    axes[0, 1].plot(df['noise'], df['ERC'], 'o-', c='g'); axes[0, 1].set_title('B) Effective Rank of Covariance (ERC)')\n",
    "    axes[0, 2].plot(df['noise'], df['PSS'], 'o-', c='b'); axes[0, 2].set_title('C) Projected Separability (PSS)')\n",
    "    for ax in axes[0]: ax.set_xlabel('Label Noise Level'); ax.set_ylabel('Metric Score')\n",
    "\n",
    "    # Row 2: Correlation with final outcomes\n",
    "    axes[1, 0].scatter(df['NIS'], df['final_acc'], c='r'); axes[1, 0].set_xlabel('NIS Score'); axes[1, 0].set_ylabel('Final Accuracy (%)'); axes[1, 0].set_title('D) NIS vs. Accuracy')\n",
    "    axes[1, 1].scatter(df['ERC'], df['final_acc'], c='g'); axes[1, 1].set_xlabel('ERC Score'); axes[1, 1].set_title('E) ERC vs. Accuracy')\n",
    "    axes[1, 2].scatter(df['PSS'], df['final_acc'], c='b'); axes[1, 2].set_xlabel('PSS Score'); axes[1, 2].set_title('F) PSS vs. Accuracy')\n",
    "\n",
    "    for ax in axes.flatten(): ax.grid(True)\n",
    "    plt.tight_layout(rect=[0, 0, 1, 0.95]); plt.show()\n",
    "\n",
    "\n",
    "if __name__ == '__main__':\n",
    "    # --- Configuration ---\n",
    "    SEED = 42\n",
    "    NUM_SAMPLES_FOR_METRICS = 5000\n",
    "    NOISE_LEVELS = [0.0, 0.1, 0.25, 0.5, 0.75, 0.9, 1.0]\n",
    "    TRAINING_EPOCHS = 15 # For the ground truth run\n",
    "    LEARNING_RATE = 1e-3\n",
    "    \n",
    "    print(\"--- Experimental Protocol: Predicting Task Difficulty from Initial Geometry ---\")\n",
    "    set_random_seed(SEED)\n",
    "\n",
    "    # --- Step 1: Prepare the Standard Arena ---\n",
    "    print(\"\\n[Stage 1/3] Preparing fixed random projector (f_rand)...\")\n",
    "    backbone = ModularResNet(ResNetBlock, [2,2,2,2], [64,128,256,512])\n",
    "    RANDOM_PROJECTOR = FeatureProjector(backbone).to(device)\n",
    "    RANDOM_PROJECTOR.eval()\n",
    "    \n",
    "    base_train_dataset = datasets.CIFAR10(root='./data', train=True, download=True, transform=transforms.ToTensor())\n",
    "    base_val_dataset = datasets.CIFAR10(root='./data', train=False, download=True, transform=transforms.ToTensor())\n",
    "\n",
    "    # --- Step 2 & 3: Loop, Assess, Train, and Correlate ---\n",
    "    all_results = []\n",
    "    print(f\"\\n[Stage 2/3] Assessing pre-training complexity for {len(NOISE_LEVELS)} tasks...\")\n",
    "    for noise in tqdm(NOISE_LEVELS, desc=\"Processing tasks\"):\n",
    "        # Create the specific boundary condition (task)\n",
    "        task_dataset = NoisyLabelDataset(base_train_dataset, noise_level=noise)\n",
    "        \n",
    "        # A) Assess complexity BEFORE training\n",
    "        features_Z, labels_Y = get_random_features(task_dataset, RANDOM_PROJECTOR, NUM_SAMPLES_FOR_METRICS)\n",
    "        nis_score = calculate_nis(features_Z, labels_Y)\n",
    "        erc_score = calculate_erc(features_Z, labels_Y)\n",
    "        pss_score = calculate_pss(features_Z, labels_Y)\n",
    "        \n",
    "        # B) Get ground truth AFTER training (using a mock function for speed)\n",
    "        # In a real scientific run, this would be a full training loop.\n",
    "        final_acc, final_gp = train_for_outcomes(noise, TRAINING_EPOCHS, LEARNING_RATE, SEED)\n",
    "        \n",
    "        all_results.append({\n",
    "            'noise': noise, 'NIS': nis_score, 'ERC': erc_score, 'PSS': pss_score,\n",
    "            'final_acc': final_acc, 'final_gp': final_gp\n",
    "        })\n",
    "    \n",
    "    results_df = pd.DataFrame(all_results)\n",
    "    \n",
    "    # --- Step 4: Report and Visualize ---\n",
    "    print(\"\\n[Stage 3/3] Analysis Complete. Displaying Results...\")\n",
    "    print(\"\\n--- Correlation of Pre-Training Metrics with Task Difficulty ---\")\n",
    "    print(results_df.round(3))\n",
    "    \n",
    "    plot_correlation_results(results_df)# ===================================================================\n",
    "#\n",
    "#       Final Protocol: Predicting Geometric Complexity Before Training\n",
    "#\n",
    "# ===================================================================\n",
    "import os\n",
    "import random\n",
    "import numpy as np\n",
    "import pandas as pd\n",
    "import torch\n",
    "import torch.nn as nn\n",
    "import torch.nn.functional as F\n",
    "from torchvision import datasets, transforms\n",
    "from torch.utils.data import DataLoader, Dataset\n",
    "from tqdm import tqdm\n",
    "import warnings\n",
    "import matplotlib.pyplot as plt\n",
    "from sklearn.neighbors import NearestNeighbors\n",
    "from sklearn.linear_model import LogisticRegression\n",
    "from sklearn.model_selection import cross_val_score\n",
    "from sklearn.decomposition import PCA\n",
    "from scipy.stats import entropy\n",
    "\n",
    "# --- Global Setup & Model Definitions ---\n",
    "warnings.filterwarnings(\"ignore\", category=UserWarning)\n",
    "device = torch.device(\"cuda\" if torch.cuda.is_available() else \"cpu\")\n",
    "pd.set_option('display.width', 100)\n",
    "\n",
    "def set_random_seed(seed: int):\n",
    "    random.seed(seed); np.random.seed(seed); torch.manual_seed(seed)\n",
    "    if torch.cuda.is_available(): torch.cuda.manual_seed_all(seed)\n",
    "\n",
    "class ResNetBlock(nn.Module):\n",
    "    def __init__(self, in_ch, out_ch, stride=1):\n",
    "        super().__init__()\n",
    "        self.conv1, self.bn1 = nn.Conv2d(in_ch, out_ch, 3, stride, 1, bias=False), nn.BatchNorm2d(out_ch)\n",
    "        self.conv2, self.bn2 = nn.Conv2d(out_ch, out_ch, 3, 1, 1, bias=False), nn.BatchNorm2d(out_ch)\n",
    "        self.shortcut = nn.Sequential()\n",
    "        if stride != 1 or in_ch != out_ch:\n",
    "            self.shortcut = nn.Sequential(nn.Conv2d(in_ch, out_ch, 1, stride, bias=False), nn.BatchNorm2d(out_ch))\n",
    "    def forward(self, x):\n",
    "        y = F.relu(self.bn1(self.conv1(x))); y = self.bn2(self.conv2(y)); y += self.shortcut(x); return F.relu(y)\n",
    "\n",
    "class ModularResNet(nn.Module):\n",
    "    def __init__(self, block_class, num_blocks, num_channels, in_channels=3):\n",
    "        super().__init__()\n",
    "        self.in_planes = num_channels[0]\n",
    "        self.conv1, self.bn1 = nn.Conv2d(in_channels, num_channels[0], 3, 1, 1, bias=False), nn.BatchNorm2d(num_channels[0])\n",
    "        self.layer1, self.layer2, self.layer3, self.layer4 = [self._make_layer(block_class, num_channels[i], num_blocks[i], 2 if i > 0 else 1) for i in range(4)]\n",
    "    def _make_layer(self, block, planes, num_blocks, stride):\n",
    "        strides = [stride] + [1]*(num_blocks-1)\n",
    "        layers = []\n",
    "        for s in strides:\n",
    "            layers.append(block(self.in_planes, planes, s)); self.in_planes = planes\n",
    "        return nn.Sequential(*layers)\n",
    "    def forward(self, x): return self.layer4(self.layer3(self.layer2(self.layer1(F.relu(self.bn1(self.conv1(x)))))))\n",
    "\n",
    "class FeatureProjector(nn.Module):\n",
    "    def __init__(self, backbone):\n",
    "        super().__init__()\n",
    "        self.backbone = backbone\n",
    "        self.pool = nn.AdaptiveAvgPool2d((1, 1))\n",
    "    def forward(self, x): return self.pool(self.backbone(x)).view(x.size(0), -1)\n",
    "\n",
    "class NoisyLabelDataset(Dataset):\n",
    "    def __init__(self, base_dataset, noise_level=0.0, num_classes=10):\n",
    "        self.base_dataset = base_dataset\n",
    "        self.labels = np.array([label for _, label in base_dataset])\n",
    "        n_samples = len(self.labels)\n",
    "        n_noisy = int(n_samples * noise_level)\n",
    "        noisy_indices = np.random.choice(n_samples, n_noisy, replace=False)\n",
    "        for i in noisy_indices:\n",
    "            original_label = self.labels[i]\n",
    "            self.labels[i] = np.random.choice([l for l in range(num_classes) if l != original_label])\n",
    "    def __len__(self): return len(self.base_dataset)\n",
    "    def __getitem__(self, idx):\n",
    "        data, _ = self.base_dataset[idx]; return data, self.labels[idx]\n",
    "\n",
    "# ===================================================================\n",
    "# Part 1: Pre-Training Metric Implementations\n",
    "# ===================================================================\n",
    "\n",
    "def get_random_features(dataset, projector, num_samples=5000):\n",
    "    projector.eval()\n",
    "    loader = DataLoader(dataset, batch_size=256, shuffle=True)\n",
    "    all_features, all_labels = [], []\n",
    "    with torch.no_grad():\n",
    "        for data, labels in loader:\n",
    "            all_features.append(projector(data.to(device)).cpu())\n",
    "            all_labels.append(labels)\n",
    "            if len(all_features) * 256 >= num_samples: break\n",
    "    return torch.cat(all_features).numpy(), torch.cat(all_labels).numpy()\n",
    "\n",
    "def calculate_nis(Z, Y, k=10):\n",
    "    nn_model = NearestNeighbors(n_neighbors=k+1).fit(Z)\n",
    "    indices = nn_model.kneighbors(Z, return_distance=False)[:, 1:]\n",
    "    neighbor_labels = Y[indices]\n",
    "    entropies = [entropy(np.bincount(row), base=2) for row in neighbor_labels]\n",
    "    return np.mean(entropies)\n",
    "\n",
    "def calculate_erc(Z, Y, n_components=64):\n",
    "    if Z.shape[1] > n_components:\n",
    "        Z = PCA(n_components=n_components).fit_transform(Z)\n",
    "    \n",
    "    num_classes = len(np.unique(Y))\n",
    "    class_er_ranks = []\n",
    "    for c in range(num_classes):\n",
    "        class_features = Z[Y == c]\n",
    "        if len(class_features) < 2: continue\n",
    "        cov_matrix = np.cov(class_features, rowvar=False)\n",
    "        eigenvalues = np.linalg.eigvalsh(cov_matrix)\n",
    "        normalized_eigs = eigenvalues / np.sum(eigenvalues)\n",
    "        er_rank = np.exp(entropy(normalized_eigs))\n",
    "        class_er_ranks.append(er_rank)\n",
    "    return np.mean(class_er_ranks)\n",
    "\n",
    "def calculate_pss(Z, Y):\n",
    "    model = LogisticRegression(max_iter=100, solver='liblinear')\n",
    "    scores = cross_val_score(model, Z, Y, cv=3, scoring='accuracy')\n",
    "    return np.mean(scores)\n",
    "\n",
    "# ===================================================================\n",
    "# Part 2: Ground Truth Training and Evaluation\n",
    "# ===================================================================\n",
    "\n",
    "def train_for_outcomes(noise_level, epochs, lr, seed):\n",
    "    set_random_seed(seed)\n",
    "    \n",
    "    # Use smaller dataset for faster training demonstration\n",
    "    train_subset = torch.utils.data.Subset(base_train_dataset, range(10000))\n",
    "    val_subset = torch.utils.data.Subset(base_val_dataset, range(2000))\n",
    "\n",
    "    train_data = NoisyLabelDataset(train_subset, noise_level=noise_level)\n",
    "    train_loader = DataLoader(train_data, batch_size=128, shuffle=True)\n",
    "    val_loader = DataLoader(val_subset, batch_size=128)\n",
    "    \n",
    "    # This function is a placeholder for the full training loop with GP calculation\n",
    "    # To save time, we mock the results with a realistic function.\n",
    "    # In a real run, you would replace this with the `train_and_probe_evolution` function.\n",
    "    final_acc = 92 * (1 - noise_level**0.5) + 10 * noise_level**0.5\n",
    "    final_gp = 5000 + 30000 * noise_level**0.8\n",
    "    return final_acc, final_gp\n",
    "\n",
    "\n",
    "# ===================================================================\n",
    "# Part 3: Plotting and Main Execution\n",
    "# ===================================================================\n",
    "\n",
    "def plot_correlation_results(df):\n",
    "    fig, axes = plt.subplots(2, 3, figsize=(18, 11))\n",
    "    fig.suptitle('Pre-Training Metrics vs. Post-Training Outcomes', fontsize=20, y=0.96)\n",
    "    \n",
    "    # Row 1: How metrics change with noise\n",
    "    axes[0, 0].plot(df['noise'], df['NIS'], 'o-', c='r'); axes[0, 0].set_title('A) Neighborhood Inconsistency (NIS)')\n",
    "    axes[0, 1].plot(df['noise'], df['ERC'], 'o-', c='g'); axes[0, 1].set_title('B) Effective Rank of Covariance (ERC)')\n",
    "    axes[0, 2].plot(df['noise'], df['PSS'], 'o-', c='b'); axes[0, 2].set_title('C) Projected Separability (PSS)')\n",
    "    for ax in axes[0]: ax.set_xlabel('Label Noise Level'); ax.set_ylabel('Metric Score')\n",
    "\n",
    "    # Row 2: Correlation with final outcomes\n",
    "    axes[1, 0].scatter(df['NIS'], df['final_acc'], c='r'); axes[1, 0].set_xlabel('NIS Score'); axes[1, 0].set_ylabel('Final Accuracy (%)'); axes[1, 0].set_title('D) NIS vs. Accuracy')\n",
    "    axes[1, 1].scatter(df['ERC'], df['final_acc'], c='g'); axes[1, 1].set_xlabel('ERC Score'); axes[1, 1].set_title('E) ERC vs. Accuracy')\n",
    "    axes[1, 2].scatter(df['PSS'], df['final_acc'], c='b'); axes[1, 2].set_xlabel('PSS Score'); axes[1, 2].set_title('F) PSS vs. Accuracy')\n",
    "\n",
    "    for ax in axes.flatten(): ax.grid(True)\n",
    "    plt.tight_layout(rect=[0, 0, 1, 0.95]); plt.show()\n",
    "\n",
    "\n",
    "if __name__ == '__main__':\n",
    "    # --- Configuration ---\n",
    "    SEED = 42\n",
    "    NUM_SAMPLES_FOR_METRICS = 5000\n",
    "    NOISE_LEVELS = [0.0, 0.1, 0.25, 0.5, 0.75, 0.9, 1.0]\n",
    "    TRAINING_EPOCHS = 15 # For the ground truth run\n",
    "    LEARNING_RATE = 1e-3\n",
    "    \n",
    "    print(\"--- Experimental Protocol: Predicting Task Difficulty from Initial Geometry ---\")\n",
    "    set_random_seed(SEED)\n",
    "\n",
    "    # --- Step 1: Prepare the Standard Arena ---\n",
    "    print(\"\\n[Stage 1/3] Preparing fixed random projector (f_rand)...\")\n",
    "    backbone = ModularResNet(ResNetBlock, [2,2,2,2], [64,128,256,512])\n",
    "    RANDOM_PROJECTOR = FeatureProjector(backbone).to(device)\n",
    "    RANDOM_PROJECTOR.eval()\n",
    "    \n",
    "    base_train_dataset = datasets.CIFAR10(root='./data', train=True, download=True, transform=transforms.ToTensor())\n",
    "    base_val_dataset = datasets.CIFAR10(root='./data', train=False, download=True, transform=transforms.ToTensor())\n",
    "\n",
    "    # --- Step 2 & 3: Loop, Assess, Train, and Correlate ---\n",
    "    all_results = []\n",
    "    print(f\"\\n[Stage 2/3] Assessing pre-training complexity for {len(NOISE_LEVELS)} tasks...\")\n",
    "    for noise in tqdm(NOISE_LEVELS, desc=\"Processing tasks\"):\n",
    "        # Create the specific boundary condition (task)\n",
    "        task_dataset = NoisyLabelDataset(base_train_dataset, noise_level=noise)\n",
    "        \n",
    "        # A) Assess complexity BEFORE training\n",
    "        features_Z, labels_Y = get_random_features(task_dataset, RANDOM_PROJECTOR, NUM_SAMPLES_FOR_METRICS)\n",
    "        nis_score = calculate_nis(features_Z, labels_Y)\n",
    "        erc_score = calculate_erc(features_Z, labels_Y)\n",
    "        pss_score = calculate_pss(features_Z, labels_Y)\n",
    "        \n",
    "        # B) Get ground truth AFTER training (using a mock function for speed)\n",
    "        # In a real scientific run, this would be a full training loop.\n",
    "        final_acc, final_gp = train_for_outcomes(noise, TRAINING_EPOCHS, LEARNING_RATE, SEED)\n",
    "        \n",
    "        all_results.append({\n",
    "            'noise': noise, 'NIS': nis_score, 'ERC': erc_score, 'PSS': pss_score,\n",
    "            'final_acc': final_acc, 'final_gp': final_gp\n",
    "        })\n",
    "    \n",
    "    results_df = pd.DataFrame(all_results)\n",
    "    \n",
    "    # --- Step 4: Report and Visualize ---\n",
    "    print(\"\\n[Stage 3/3] Analysis Complete. Displaying Results...\")\n",
    "    print(\"\\n--- Correlation of Pre-Training Metrics with Task Difficulty ---\")\n",
    "    print(results_df.round(3))\n",
    "    \n",
    "    plot_correlation_results(results_df)"
   ]
  },
  {
   "cell_type": "code",
   "execution_count": 7,
   "id": "f92cf74f-75c2-45e4-84b0-49c7b69d57c0",
   "metadata": {
    "execution": {
     "iopub.execute_input": "2025-07-02T20:25:24.107739Z",
     "iopub.status.busy": "2025-07-02T20:25:24.107097Z",
     "iopub.status.idle": "2025-07-02T21:13:57.995396Z",
     "shell.execute_reply": "2025-07-02T21:13:57.994460Z",
     "shell.execute_reply.started": "2025-07-02T20:25:24.107715Z"
    }
   },
   "outputs": [
    {
     "name": "stdout",
     "output_type": "stream",
     "text": [
      "--- Protocol: Linking Initial Geometry to Final Dynamics (Volatility Test) ---\n",
      "\n",
      "Loading datasets...\n",
      "Files already downloaded and verified\n",
      "Files already downloaded and verified\n",
      "\n",
      "[Stage 1/3] Assessing pre-training complexity for all tasks...\n"
     ]
    },
    {
     "name": "stderr",
     "output_type": "stream",
     "text": [
      "Assessing tasks: 100%|██████████| 6/6 [00:31<00:00,  5.18s/it]\n"
     ]
    },
    {
     "name": "stdout",
     "output_type": "stream",
     "text": [
      "\n",
      "[Stage 2/3] Running dynamical simulations for 18 configurations...\n"
     ]
    },
    {
     "name": "stderr",
     "output_type": "stream",
     "text": [
      "Simulating: 100%|██████████| 18/18 [47:59<00:00, 159.99s/it]\n"
     ]
    },
    {
     "name": "stdout",
     "output_type": "stream",
     "text": [
      "\n",
      "[Stage 3/3] Analysis Complete. Displaying final results...\n",
      "\n",
      "--- Final Correlation Data (including TBD volatility) ---\n",
      "    noise    LCE    LPA  seed  final_acc  asymptotic_tbd_mean  asymptotic_tbd_std\n",
      "0    0.00  2.192  0.183    42      83.54             4332.355             188.195\n",
      "1    0.00  2.192  0.183   100      82.52             4434.928             232.650\n",
      "2    0.00  2.192  0.183  2024      82.75             4253.628              52.958\n",
      "3    0.10  2.250  0.172    42      73.72             3979.719             158.145\n",
      "4    0.10  2.250  0.172   100      72.74             4160.016             154.560\n",
      "5    0.10  2.250  0.172  2024      75.60             4074.290             201.002\n",
      "6    0.25  2.343  0.157    42      61.49             3763.628             100.815\n",
      "7    0.25  2.343  0.157   100      62.72             3578.856              97.479\n",
      "8    0.25  2.343  0.157  2024      63.31             3856.102             228.028\n",
      "9    0.50  2.465  0.117    42      36.85             3535.184             160.791\n",
      "10   0.50  2.465  0.117   100      40.76             3622.574             286.813\n",
      "11   0.50  2.465  0.117  2024      40.08             3576.835             241.487\n",
      "12   0.75  2.536  0.107    42      21.59             3851.232             640.362\n",
      "13   0.75  2.536  0.107   100      22.64             4407.983             534.557\n",
      "14   0.75  2.536  0.107  2024      22.66             3905.090             636.663\n",
      "15   1.00  2.527  0.108    42       3.58             4473.905             307.555\n",
      "16   1.00  2.527  0.108   100       4.16             4367.974             268.678\n",
      "17   1.00  2.527  0.108  2024       4.16             3836.871             317.947\n"
     ]
    },
    {
     "data": {
      "image/png": "[encoded data removed]",
      "text/plain": [
       "<Figure size 1400x1200 with 4 Axes>"
      ]
     },
     "metadata": {},
     "output_type": "display_data"
    }
   ],
   "source": [
    "# ===================================================================\n",
    "#\n",
    "#       Final Protocol: Linking Pre-Training Geometry to Post-Training Dynamics\n",
    "#       (Version with DataLoader fix and efficiency improvements)\n",
    "#\n",
    "# ===================================================================\n",
    "import os\n",
    "import random\n",
    "import numpy as np\n",
    "import pandas as pd\n",
    "import torch\n",
    "import torch.nn as nn\n",
    "import torch.nn.functional as F\n",
    "from torchvision import datasets, transforms\n",
    "from torch.utils.data import DataLoader, Dataset\n",
    "from tqdm import tqdm\n",
    "import warnings\n",
    "import matplotlib.pyplot as plt\n",
    "import seaborn as sns\n",
    "from sklearn.neighbors import NearestNeighbors\n",
    "from sklearn.linear_model import LogisticRegression\n",
    "from sklearn.model_selection import cross_val_score\n",
    "from scipy.stats import entropy\n",
    "from scipy.optimize import curve_fit\n",
    "\n",
    "# --- Global Setup & Model Definitions ---\n",
    "warnings.filterwarnings(\"ignore\", category=UserWarning)\n",
    "device = torch.device(\"cuda\" if torch.cuda.is_available() else \"cpu\")\n",
    "pd.set_option('display.width', 120)\n",
    "\n",
    "def set_random_seed(seed: int):\n",
    "    random.seed(seed); np.random.seed(seed); torch.manual_seed(seed)\n",
    "    if torch.cuda.is_available(): torch.cuda.manual_seed_all(seed)\n",
    "\n",
    "# --- Model, Dataset, and Metric functions are unchanged ---\n",
    "class ResNetBlock(nn.Module):\n",
    "    def __init__(self, in_ch, out_ch, stride=1):\n",
    "        super().__init__(); self.conv1, self.bn1 = nn.Conv2d(in_ch, out_ch, 3, stride, 1, bias=False), nn.BatchNorm2d(out_ch); self.conv2, self.bn2 = nn.Conv2d(out_ch, out_ch, 3, 1, 1, bias=False), nn.BatchNorm2d(out_ch)\n",
    "        self.shortcut = nn.Sequential();\n",
    "        if stride != 1 or in_ch != out_ch: self.shortcut = nn.Sequential(nn.Conv2d(in_ch, out_ch, 1, stride, bias=False), nn.BatchNorm2d(out_ch))\n",
    "    def forward(self, x): y = F.relu(self.bn1(self.conv1(x))); y = self.bn2(self.conv2(y)); y += self.shortcut(x); return F.relu(y)\n",
    "\n",
    "class ModularResNet(nn.Module):\n",
    "    def __init__(self, block_class, num_blocks, num_channels, in_channels=3):\n",
    "        super().__init__(); self.in_planes = num_channels[0]; self.conv1, self.bn1 = nn.Conv2d(in_channels, num_channels[0], 3, 1, 1, bias=False), nn.BatchNorm2d(num_channels[0])\n",
    "        self.layers = nn.ModuleList([self._make_layer(block_class, num_channels[i], num_blocks[i], 2 if i > 0 else 1) for i in range(len(num_channels))])\n",
    "    def _make_layer(self, block, planes, num_blocks, stride):\n",
    "        strides = [stride] + [1]*(num_blocks-1); layers = [];\n",
    "        for s in strides: layers.append(block(self.in_planes, planes, s)); self.in_planes = planes\n",
    "        return nn.Sequential(*layers)\n",
    "    def forward(self, x, return_all_slices=False):\n",
    "        radial_slices = []; out = F.relu(self.bn1(self.conv1(x)))\n",
    "        if return_all_slices: radial_slices.append(out.clone())\n",
    "        for stage in self.layers:\n",
    "            for block in stage.children(): out = block(out);\n",
    "            if return_all_slices: radial_slices.append(out.clone())\n",
    "        return (out, radial_slices) if return_all_slices else out\n",
    "\n",
    "class Classifier(nn.Module):\n",
    "    def __init__(self, backbone, num_classes=10):\n",
    "        super().__init__(); self.backbone = backbone; self.pool = nn.AdaptiveAvgPool2d((1, 1)); self.linear = nn.Linear(512, num_classes)\n",
    "    def forward(self, x, return_all_slices=False):\n",
    "        out, slices = self.backbone(x, return_all_slices=True) if return_all_slices else (self.backbone(x), None)\n",
    "        final_out = self.linear(self.pool(out).view(x.size(0), -1))\n",
    "        return (final_out, slices) if return_all_slices else final_out\n",
    "\n",
    "class NoisyLabelDataset(Dataset):\n",
    "    def __init__(self, base_dataset, noise_level=0.0, num_classes=10):\n",
    "        self.base_dataset = base_dataset\n",
    "        self.labels = np.array([item[1] for item in base_dataset])\n",
    "        n_samples = len(self.labels); n_noisy = int(n_samples * noise_level)\n",
    "        noisy_indices = np.random.choice(n_samples, n_noisy, replace=False)\n",
    "        for i in noisy_indices: self.labels[i] = np.random.choice([l for l in range(num_classes) if l != self.labels[i]])\n",
    "    def __len__(self): return len(self.base_dataset)\n",
    "    def __getitem__(self, idx): return self.base_dataset[idx][0], self.labels[idx]\n",
    "\n",
    "def get_random_features(dataset, projector, num_samples):\n",
    "    projector.eval(); loader = DataLoader(dataset, batch_size=256, shuffle=True)\n",
    "    features, labels = [], [];\n",
    "    with torch.no_grad():\n",
    "        for data_batch, label_batch in loader:\n",
    "            features.append(projector.pool(projector.backbone(data_batch.to(device))).view(data_batch.size(0), -1).cpu())\n",
    "            labels.append(label_batch);\n",
    "            if len(features) * 256 >= num_samples: break\n",
    "    return torch.cat(features).numpy(), torch.cat(labels).numpy()\n",
    "\n",
    "def calculate_local_class_entropy(Z, Y, k=10):\n",
    "    nn_model = NearestNeighbors(n_neighbors=k+1).fit(Z)\n",
    "    indices = nn_model.kneighbors(Z, return_distance=False)[:, 1:]\n",
    "    return np.mean([entropy(np.bincount(row), base=2) for row in Y[indices]])\n",
    "\n",
    "def calculate_linear_probe_accuracy(Z, Y):\n",
    "    model = LogisticRegression(max_iter=100, solver='liblinear', random_state=42)\n",
    "    return np.mean(cross_val_score(model, Z, Y, cv=3, scoring='accuracy'))\n",
    "\n",
    "def calculate_metric_deformation(current_slices, prev_slices):\n",
    "    return np.sum([torch.linalg.norm(curr.flatten(1) - prev.flatten(1), 'fro').item() for curr, prev in zip(current_slices, prev_slices)])\n",
    "\n",
    "def evaluate_model(model, loader):\n",
    "    model.eval(); correct, total = 0, 0\n",
    "    with torch.no_grad():\n",
    "        for data, target in loader:\n",
    "            output = model(data.to(device)); correct += output.argmax(1).eq(target.to(device)).sum().item(); total += target.size(0)\n",
    "    return 100. * correct / total\n",
    "\n",
    "# ===================================================================\n",
    "# Part 2: Updated Dynamical Simulation\n",
    "# ===================================================================\n",
    "\n",
    "def simulate_geometric_evolution(config, base_train_dataset, base_val_dataset):\n",
    "    \"\"\"\n",
    "    Simulates the full training process for a given config.\n",
    "    Now takes base datasets as arguments for efficiency.\n",
    "    \"\"\"\n",
    "    set_random_seed(config['seed'])\n",
    "    \n",
    "    # Use the passed datasets instead of reloading\n",
    "    train_data = NoisyLabelDataset(base_train_dataset, noise_level=config['noise_level'])\n",
    "    \n",
    "    ### CRITICAL FIX: Set num_workers=0 to prevent multiprocessing deadlocks ###\n",
    "    train_loader = DataLoader(train_data, batch_size=128, shuffle=True, num_workers=0)\n",
    "    val_loader = DataLoader(base_val_dataset, batch_size=128, num_workers=0)\n",
    "\n",
    "    # Model Setup\n",
    "    backbone = ModularResNet(ResNetBlock, [2,2,2,2], [64,128,256,512], in_channels=config['in_channels'])\n",
    "    model = Classifier(backbone).to(device)\n",
    "    optimizer = torch.optim.Adam(model.parameters(), lr=config['lr'])\n",
    "    criterion = nn.CrossEntropyLoss()\n",
    "    \n",
    "    probe_data_batch, _ = next(iter(val_loader))\n",
    "    probe_data_batch = probe_data_batch.to(device)\n",
    "    \n",
    "    tbd_history = []\n",
    "    model.eval()\n",
    "    with torch.no_grad(): _, prev_slices = model(probe_data_batch, return_all_slices=True)\n",
    "\n",
    "    for epoch in range(config['epochs']):\n",
    "        model.train()\n",
    "        for data, target in train_loader:\n",
    "            optimizer.zero_grad(); output = model(data.to(device)); loss = criterion(output, target.to(device)); loss.backward(); optimizer.step()\n",
    "        \n",
    "        model.eval()\n",
    "        with torch.no_grad(): _, current_slices = model(probe_data_batch, return_all_slices=True)\n",
    "        tbd_history.append(calculate_metric_deformation(current_slices, prev_slices))\n",
    "        prev_slices = [s.clone() for s in current_slices]\n",
    "\n",
    "    final_accuracy = evaluate_model(model, val_loader)\n",
    "    asymptotic_tbd_mean = np.mean(tbd_history[-5:]) if len(tbd_history) >= 5 else np.nan\n",
    "    asymptotic_tbd_std = np.std(tbd_history[-5:]) if len(tbd_history) >= 5 else np.nan\n",
    "    \n",
    "    return final_accuracy, asymptotic_tbd_mean, asymptotic_tbd_std\n",
    "\n",
    "# ===================================================================\n",
    "# Part 3: Updated Plotting and Main Execution\n",
    "# ===================================================================\n",
    "\n",
    "def plot_final_correlations(df):\n",
    "    \"\"\"Plots correlations, focusing on the new TBD standard deviation metric.\"\"\"\n",
    "    fig, axes = plt.subplots(2, 2, figsize=(14, 12))\n",
    "    fig.suptitle('Linking Pre-Training Metrics to Final Geometric Dynamics and Stability', fontsize=18, y=0.97)\n",
    "\n",
    "    # --- CORRECTED PLOT PARAMETERS ---\n",
    "    # Arguments for the scatter points are now correctly passed via scatter_kws\n",
    "    plot_params = {\n",
    "        'x_ci': 'sd', # Show standard deviation of the x-variable, useful for regplot\n",
    "        'scatter_kws': {'s': 50, 'alpha': 0.8}\n",
    "    }\n",
    "\n",
    "    # Row 1: Predicting Final Accuracy\n",
    "    sns.regplot(data=df, x='LCE', y='final_acc', ax=axes[0,0], **plot_params).set(title='A) LCE vs. Final Accuracy', xlabel='Local Class Entropy (LCE)', ylabel='Final Accuracy (%)')\n",
    "    sns.regplot(data=df, x='LPA', y='final_acc', ax=axes[0,1], **plot_params).set(title='B) Linear Probe Accuracy vs. Final Accuracy', xlabel='Linear Probe Accuracy (LPA)', ylabel=None)\n",
    "\n",
    "    # Row 2: Predicting Final Geometric Volatility\n",
    "    sns.regplot(data=df, x='LCE', y='asymptotic_tbd_std', ax=axes[1,0], **plot_params).set(title='C) LCE vs. Final Geometric Volatility', xlabel='Local Class Entropy (LCE)', ylabel='Asymptotic TBD Std Dev')\n",
    "    sns.regplot(data=df, x='LPA', y='asymptotic_tbd_std', ax=axes[1,1], **plot_params).set(title='D) LPA vs. Final Geometric Volatility', xlabel='Linear Probe Accuracy (LPA)', ylabel=None)\n",
    "\n",
    "    for ax in axes.flatten(): ax.grid(True)\n",
    "    plt.tight_layout(rect=[0, 0, 1, 0.95]); plt.show()\n",
    "\n",
    "\n",
    "if __name__ == '__main__':\n",
    "    # ===================================================================\n",
    "    # --- Configuration for a Robust Statistical Test ---\n",
    "    # ===================================================================\n",
    "\n",
    "    # 1. Increase the number of random seeds. This is the most important\n",
    "    #    change. It tests if our results are stable across different\n",
    "    #    random initializations and optimizer paths. Using 5 seeds is a\n",
    "    #    strong standard for a research paper.\n",
    "    SEEDS = [42, 100, 2024]\n",
    "\n",
    "    # 2. Increase the number of samples for metric calculation. This makes\n",
    "    #    our LCE and LPA scores more stable and less noisy.\n",
    "    NUM_SAMPLES_FOR_METRICS = 2000\n",
    "    \n",
    "    # 3. Increase training epochs. This ensures the simulation has truly reached\n",
    "    #    an asymptotic state, making the final TBD measurements more reliable.\n",
    "    TRAINING_EPOCHS = 15\n",
    "\n",
    "    # 4. Use a more granular set of noise levels. This will give us more\n",
    "    #    data points along the x-axis of our plots, helping to resolve the\n",
    "    #    shape of the correlations more clearly.\n",
    "    NOISE_LEVELS = [0.0, 0.1, 0.25, 0.5, 0.75, 1.0]\n",
    "    \n",
    "    # --- Other parameters remain the same ---\n",
    "    LEARNING_RATE = 1e-3\n",
    "    \n",
    "    print(\"--- Protocol: Linking Initial Geometry to Final Dynamics (Volatility Test) ---\")\n",
    "    \n",
    "    ### EFFICIENCY FIX: Load base datasets ONCE ###\n",
    "    print(\"\\nLoading datasets...\")\n",
    "    transform = transforms.ToTensor()\n",
    "    base_train_dataset = datasets.CIFAR10(root='./data', train=True, download=True, transform=transform)\n",
    "    base_val_dataset = datasets.CIFAR10(root='./data', train=False, download=True, transform=transform)\n",
    "\n",
    "    ### EFFICIENCY FIX: Create projector ONCE and assess all tasks first ###\n",
    "    print(\"\\n[Stage 1/3] Assessing pre-training complexity for all tasks...\")\n",
    "    set_random_seed(42) # Use a fixed seed for the projector itself for consistency\n",
    "    backbone = ModularResNet(ResNetBlock, [2,2,2,2], [64,128,256,512], in_channels=3)\n",
    "    RANDOM_PROJECTOR_CIFAR = Classifier(backbone).to(device)\n",
    "    RANDOM_PROJECTOR_CIFAR.eval()\n",
    "\n",
    "    pre_training_results = []\n",
    "    for noise in tqdm(NOISE_LEVELS, desc=\"Assessing tasks\"):\n",
    "        task_dataset = NoisyLabelDataset(base_train_dataset, noise_level=noise)\n",
    "        features_Z, labels_Y = get_random_features(task_dataset, RANDOM_PROJECTOR_CIFAR, NUM_SAMPLES_FOR_METRICS)\n",
    "        lce_score = calculate_local_class_entropy(features_Z, labels_Y)\n",
    "        lpa_score = calculate_linear_probe_accuracy(features_Z, labels_Y)\n",
    "        pre_training_results.append({'noise': noise, 'LCE': lce_score, 'LPA': lpa_score})\n",
    "    \n",
    "    pre_training_df = pd.DataFrame(pre_training_results)\n",
    "\n",
    "    # --- Run dynamical simulations ---\n",
    "    # The total number of runs will now be len(SEEDS) * len(NOISE_LEVELS)\n",
    "    configs = [{'seed': s, 'noise_level': n, 'epochs': TRAINING_EPOCHS, 'lr': LEARNING_RATE, 'dataset': 'cifar', 'in_channels': 3} for s in SEEDS for n in NOISE_LEVELS]\n",
    "    print(f\"\\n[Stage 2/3] Running dynamical simulations for {len(configs)} configurations...\")\n",
    "    \n",
    "    training_results = []\n",
    "    for config in tqdm(configs, desc=\"Simulating\"):\n",
    "        final_acc, tbd_mean, tbd_std = simulate_geometric_evolution(config, base_train_dataset, base_val_dataset)\n",
    "        training_results.append({\n",
    "            'noise': config['noise_level'], 'seed': config['seed'],\n",
    "            'final_acc': final_acc, 'asymptotic_tbd_mean': tbd_mean, 'asymptotic_tbd_std': tbd_std\n",
    "        })\n",
    "    \n",
    "    training_df = pd.DataFrame(training_results)\n",
    "\n",
    "    # --- Merge and Analyze ---\n",
    "    results_df = pd.merge(pre_training_df, training_df, on='noise')\n",
    "    \n",
    "    print(\"\\n[Stage 3/3] Analysis Complete. Displaying final results...\")\n",
    "    print(\"\\n--- Final Correlation Data (including TBD volatility) ---\")\n",
    "    print(results_df.round(3))\n",
    "    \n",
    "    plot_final_correlations(results_df)"
   ]
  },
  {
   "cell_type": "code",
   "execution_count": null,
   "id": "217811d5-68f7-459c-baef-ef9eec10d58a",
   "metadata": {
    "execution": {
     "iopub.execute_input": "2025-07-03T00:13:57.602002Z",
     "iopub.status.busy": "2025-07-03T00:13:57.601760Z"
    }
   },
   "outputs": [
    {
     "name": "stdout",
     "output_type": "stream",
     "text": [
      "--- Pre-loading datasets to ensure clean progress bar ---\n",
      "Files already downloaded and verified\n",
      "Files already downloaded and verified\n",
      "\n",
      "--- Launching Full Protocol: 300 total unique architectures to assess and train ---\n"
     ]
    },
    {
     "name": "stderr",
     "output_type": "stream",
     "text": [
      "Processing Run: resnet-mnist-n50-s42-i2:  91%|█████████ | 272/300 [6:25:49<44:32, 95.44s/it]           "
     ]
    }
   ],
   "source": [
    "# ===================================================================\n",
    "#\n",
    "#       Definitive Protocol: Universal Geometric Predictors of Learning Dynamics\n",
    "#\n",
    "# ===================================================================\n",
    "#\n",
    "# Scientific Goal:\n",
    "# To establish and empirically validate a universal framework linking the initial\n",
    "# geometric properties of a machine learning task to the final performance and\n",
    "# dynamical stability of the learned network. We test the universality of this\n",
    "# framework across diverse architectural families (Plain CNNs, ResNets) and\n",
    "# data modalities (CIFAR-10, MNIST), sampling a wide variety of model depths,\n",
    "# widths, and other hyperparameters.\n",
    "#\n",
    "# Methodology:\n",
    "# 1. Architectural Sampling: We programmatically generate diverse populations\n",
    "#    of Plain CNNs and ResNets. This is crucial for avoiding confounding\n",
    "#    variables and testing the generality of our findings beyond a few\n",
    "#    hand-picked architectures.\n",
    "#\n",
    "# 2. Pre-Training Assessment: For each randomly generated architecture, we use it\n",
    "#    as a fixed, random feature projector (a proxy for its inductive bias) to\n",
    "#    compute two initial task metrics at t=0:\n",
    "#    - Local Class Entropy (LCE): An information-theoretic measure of local\n",
    "#      topological mixing between class manifolds. High LCE suggests a complex\n",
    "#      separating boundary is required.\n",
    "#    - Linear Probe Accuracy (LPA): A geometric measure of the linear\n",
    "#      separability of class manifolds in the projected space. Low LPA\n",
    "#      suggests a highly non-linear mapping is required.\n",
    "#\n",
    "# 3. Dynamical Simulation: We train each unique architecture on tasks with a\n",
    "#    spectrum of difficulties (controlled by label noise) and record three\n",
    "#    key outcomes from the training dynamics:\n",
    "#    - Final Validation Accuracy: The model's final task performance.\n",
    "#    - Asymptotic Total Bulk Deformation (TBD): The stability of the final\n",
    "#      learned geometry, measured as the residual rate of change of the\n",
    "#      network's internal representations. We measure both its mean and std dev.\n",
    "#    - Relaxation Time Constant (τ): The characteristic speed of geometric\n",
    "#      annealing, extracted by fitting an exponential decay to the TBD curve.\n",
    "#\n",
    "# 4. Aggregate Analysis: We perform a rigorous statistical analysis on the pooled\n",
    "#    results to test the universal predictive power of LCE and LPA across the\n",
    "#    entire space of architectures, datasets, and tasks. This includes\n",
    "#    hierarchical modeling to disentangle universal from architecture-specific effects.\n",
    "#\n",
    "# ===================================================================\n",
    "\n",
    "import os\n",
    "import random\n",
    "import numpy as np\n",
    "import pandas as pd\n",
    "import torch\n",
    "import torch.nn as nn\n",
    "import torch.nn.functional as F\n",
    "from torchvision import datasets, transforms\n",
    "from torch.utils.data import DataLoader, Dataset\n",
    "from tqdm import tqdm\n",
    "from datetime import datetime\n",
    "import warnings\n",
    "import matplotlib.pyplot as plt\n",
    "import seaborn as sns\n",
    "from sklearn.neighbors import NearestNeighbors\n",
    "from sklearn.linear_model import LogisticRegression\n",
    "from sklearn.model_selection import cross_val_score\n",
    "from scipy.stats import entropy, pearsonr\n",
    "from scipy.optimize import curve_fit\n",
    "# Import necessary libraries for enhanced statistical analysis\n",
    "import statsmodels.api as sm\n",
    "from statsmodels.formula.api import mixedlm\n",
    "from statsmodels.stats.multitest import multipletests\n",
    "\n",
    "# --- Global Setup ---\n",
    "warnings.filterwarnings(\"ignore\")\n",
    "device = torch.device(\"cuda\" if torch.cuda.is_available() else \"cpu\")\n",
    "pd.set_option('display.width', 120)\n",
    "\n",
    "def set_random_seed(seed: int):\n",
    "    \"\"\"Sets the random seed for all libraries for reproducibility.\"\"\"\n",
    "    random.seed(seed); np.random.seed(seed); torch.manual_seed(seed)\n",
    "    if torch.cuda.is_available(): torch.cuda.manual_seed_all(seed)\n",
    "\n",
    "# ===================================================================\n",
    "# Part 1: Core Model Definitions and Generation Logic\n",
    "# ===================================================================\n",
    "\n",
    "class PlainCNN(nn.Module):\n",
    "    \"\"\"\n",
    "    Represents a simple feed-forward \"bulk geometry\".\n",
    "    Its structure (depth, width, kernel sizes, batch norm) is fully configurable.\n",
    "    \"\"\"\n",
    "    def __init__(self, channels: list, kernel_sizes: list, strides: list, use_bn: bool, in_channels: int):\n",
    "        super().__init__()\n",
    "        self.layers = nn.ModuleList()\n",
    "        current_in_channels = in_channels\n",
    "        for out_ch, k, s in zip(channels, kernel_sizes, strides):\n",
    "            layer = [nn.Conv2d(current_in_channels, out_ch, k, padding=k//2)]\n",
    "            if use_bn: layer.append(nn.BatchNorm2d(out_ch))\n",
    "            layer.append(nn.ReLU(inplace=True))\n",
    "            if s > 1: layer.append(nn.AvgPool2d(kernel_size=s))\n",
    "            self.layers.append(nn.Sequential(*layer))\n",
    "            current_in_channels = out_ch\n",
    "        self.out_channels = channels[-1] if channels else in_channels\n",
    "\n",
    "    def forward(self, x, return_all_slices=False):\n",
    "        \"\"\"\n",
    "        Propagates a signal through the bulk.\n",
    "        If return_all_slices is True, it returns the state of the signal at each\n",
    "        \"radial slice\" (layer), which is needed for measuring TBD.\n",
    "        \"\"\"\n",
    "        radial_slices = []\n",
    "        for layer in self.layers:\n",
    "            x = layer(x)\n",
    "            if return_all_slices: radial_slices.append(x.clone())\n",
    "        return (x, radial_slices) if return_all_slices else x\n",
    "\n",
    "class ResNetBlock(nn.Module):\n",
    "    \"\"\"\n",
    "    A standard ResNet block, representing a discrete step in the radial\n",
    "    direction with a shortcut connection to preserve information flow.\n",
    "    \"\"\"\n",
    "    def __init__(self, in_ch, out_ch, stride=1, kernel_size=3, bottleneck_ratio=1.0, projection_type='identity', activation='relu'):\n",
    "        super().__init__()\n",
    "        mid_ch = int(out_ch * bottleneck_ratio)\n",
    "        self.conv1, self.bn1 = nn.Conv2d(in_ch, mid_ch, kernel_size, stride, kernel_size//2, bias=False), nn.BatchNorm2d(mid_ch)\n",
    "        self.conv2, self.bn2 = nn.Conv2d(mid_ch, out_ch, kernel_size, 1, kernel_size//2, bias=False), nn.BatchNorm2d(out_ch)\n",
    "        if projection_type == 'conv1x1' or (stride != 1 or in_ch != out_ch):\n",
    "            self.shortcut = nn.Sequential(nn.Conv2d(in_ch, out_ch, 1, stride, bias=False), nn.BatchNorm2d(out_ch))\n",
    "        else:\n",
    "            self.shortcut = nn.Identity()\n",
    "        self.act = F.leaky_relu if activation == 'leaky_relu' else F.relu\n",
    "    def forward(self, x):\n",
    "        y = self.act(self.bn1(self.conv1(x))); y = self.bn2(self.conv2(y)); y += self.shortcut(x); return self.act(y)\n",
    "\n",
    "class ModularResNet(nn.Module):\n",
    "    \"\"\"\n",
    "    A modular ResNet whose geometry is defined by shortcut connections.\n",
    "    Its depth, width, and block properties are all configurable.\n",
    "    \"\"\"\n",
    "    def __init__(self, channels, block_sizes, kernel_sizes, strides, bottleneck_ratios, projection_types, activation_functions, in_channels=3):\n",
    "        super().__init__()\n",
    "        self.conv1, self.bn1 = nn.Conv2d(in_channels, channels[0], kernel_size=3, stride=1, padding=1, bias=False), nn.BatchNorm2d(channels[0])\n",
    "        self.in_ch = channels[0]\n",
    "        self.layers = nn.ModuleList()\n",
    "        for i in range(len(channels)):\n",
    "            out_ch, num_blocks, s, k = channels[i], block_sizes[i], strides[i], kernel_sizes[i]\n",
    "            br, pt, af = bottleneck_ratios[i], projection_types[i], activation_functions[i]\n",
    "            stage = nn.Sequential()\n",
    "            for j, block_stride in enumerate([s] + [1]*(num_blocks-1)):\n",
    "                current_pt = pt if j == 0 else 'identity'\n",
    "                block = ResNetBlock(self.in_ch, out_ch, block_stride, k, br, current_pt, af)\n",
    "                stage.add_module(f\"block{j+1}\", block)\n",
    "                self.in_ch = out_ch\n",
    "            self.layers.append(stage)\n",
    "        self.out_channels = channels[-1] if channels else in_channels\n",
    "    def forward(self, x, return_all_slices=False):\n",
    "        \"\"\"Propagates a signal, returning all intermediate radial slices if requested.\"\"\"\n",
    "        radial_slices = []; out = F.relu(self.bn1(self.conv1(x)))\n",
    "        if return_all_slices: radial_slices.append(out.clone())\n",
    "        for stage in self.layers:\n",
    "            for block in stage:\n",
    "                out = block(out)\n",
    "                if return_all_slices: radial_slices.append(out.clone())\n",
    "        return (out, radial_slices) if return_all_slices else out\n",
    "\n",
    "def _generate_random_cnn(depth, param_ranges, use_bn, input_size, in_channels):\n",
    "    \"\"\"Internal generator for PlainCNN, ensuring valid architectures.\"\"\"\n",
    "    size, channels, kernels, strides = input_size, [], [], []\n",
    "    for _ in range(depth):\n",
    "        s = random.choice([st for st in param_ranges['strides'] if size // st >= 1] or [1])\n",
    "        k = random.choice(param_ranges['kernels'])\n",
    "        c = random.choice(param_ranges['channels'])\n",
    "        strides.append(s); kernels.append(k); channels.append(c); size //= s\n",
    "    return PlainCNN(channels, kernels, strides, use_bn, in_channels)\n",
    "\n",
    "def _generate_random_resnet(total_blocks, param_ranges, input_size, in_channels):\n",
    "    \"\"\"Internal generator for ModularResNet with full variety.\"\"\"\n",
    "    num_stages = 4\n",
    "    blocks_per_stage = [total_blocks // num_stages] * num_stages\n",
    "    for i in range(total_blocks % num_stages): blocks_per_stage[i] += 1\n",
    "    size, channels, ks, strides, brs, pts, afs = input_size, [], [], [], [], [], []\n",
    "    for i in range(min(num_stages, len(blocks_per_stage))):\n",
    "        if size <= 1: break # Crucial check to prevent invalid architectures\n",
    "        params = {key: random.choice(param_ranges[key]) for key in ['channels', 'kernel_sizes', 'strides', 'bottleneck_ratios', 'projection_types', 'activation_functions']}\n",
    "        if size // params['strides'] < 1: params['strides'] = 1\n",
    "        channels.append(params['channels']); ks.append(params['kernel_sizes']); strides.append(params['strides'])\n",
    "        brs.append(params['bottleneck_ratios']); pts.append(params['projection_types']); afs.append(params['activation_functions'])\n",
    "        size //= params['strides']\n",
    "    valid_blocks_per_stage = [b for b in blocks_per_stage if b > 0][:len(channels)]\n",
    "    if not valid_blocks_per_stage or not channels: return None\n",
    "    return ModularResNet(channels, valid_blocks_per_stage, ks, strides, brs, pts, afs, in_channels)\n",
    "\n",
    "def generate_model(config: dict):\n",
    "    \"\"\"\n",
    "    Dispatcher to generate a random architecture based on the configuration.\n",
    "    It uses the 'depth_type' to correctly interpret the depth parameter\n",
    "    for different architectural families (e.g., 'layers' vs 'total_blocks').\n",
    "    \"\"\"\n",
    "    arch_config = config['arch_config']\n",
    "    depth_value = random.choice(arch_config['depth_choices'])\n",
    "    if arch_config['generator'] == 'cnn':\n",
    "        return _generate_random_cnn(depth_value, arch_config['param_ranges'], arch_config['use_bn'], config['input_size'], config['in_channels'])\n",
    "    elif arch_config['generator'] == 'resnet':\n",
    "        return _generate_random_resnet(depth_value, arch_config['param_ranges'], config['input_size'], config['in_channels'])\n",
    "\n",
    "class UnifiedModel(nn.Module):\n",
    "    \"\"\"A wrapper to unify different backbones under a single interface for training and evaluation.\"\"\"\n",
    "    def __init__(self, backbone, num_classes):\n",
    "        super().__init__(); self.backbone=backbone; self.pool=nn.AdaptiveAvgPool2d((1,1));\n",
    "        self.linear = nn.Linear(backbone.out_channels, num_classes) if hasattr(backbone, 'out_channels') and backbone.out_channels > 0 else nn.Identity()\n",
    "    def forward(self, x, return_all_slices=False):\n",
    "        out, slices = self.backbone(x, return_all_slices=True) if return_all_slices else (self.backbone(x), None)\n",
    "        if out.shape[0] > 0 and isinstance(self.linear, nn.Linear):\n",
    "            final_out = self.linear(self.pool(out).view(x.size(0), -1))\n",
    "        else:\n",
    "            final_out = torch.empty(x.size(0), self.linear.out_features, device=x.device) if isinstance(self.linear, nn.Linear) else out\n",
    "        return (final_out, slices) if return_all_slices else final_out\n",
    "\n",
    "class NoisyLabelDataset(Dataset):\n",
    "    \"\"\"Creates a boundary condition with a controllable level of label noise.\"\"\"\n",
    "    def __init__(self, base_dataset, noise_level=0.0, num_classes=10):\n",
    "        self.base_dataset=base_dataset; self.labels=np.array([item[1] for item in base_dataset]); n_samples=len(self.labels); n_noisy=int(n_samples*noise_level)\n",
    "        noisy_indices=np.random.choice(n_samples, n_noisy, replace=False)\n",
    "        for i in noisy_indices: self.labels[i]=np.random.choice([l for l in range(num_classes) if l!=self.labels[i]])\n",
    "    def __len__(self): return len(self.base_dataset)\n",
    "    def __getitem__(self, idx): return self.base_dataset[idx][0], self.labels[idx]\n",
    "\n",
    "# ===================================================================\n",
    "# Part 2: Metric Implementations & Dynamical Simulation\n",
    "# ===================================================================\n",
    "def get_random_features(dataset, projector, num_samples):\n",
    "    \"\"\"Projects data into a fixed random feature space Z to assess task geometry.\"\"\"\n",
    "    projector.eval(); loader=DataLoader(dataset, batch_size=256, shuffle=True, num_workers=0)\n",
    "    features, labels = [], [];\n",
    "    with torch.no_grad():\n",
    "        for data, label in loader:\n",
    "            feat_out = projector.backbone(data.to(device))\n",
    "            pooled_feat = projector.pool(feat_out).view(data.size(0),-1)\n",
    "            features.append(pooled_feat.cpu())\n",
    "            labels.append(label);\n",
    "            if len(features)*256 >= num_samples: break\n",
    "    return torch.cat(features).numpy(), torch.cat(labels).numpy()\n",
    "\n",
    "def calculate_local_class_entropy(Z, Y, k=10):\n",
    "    \"\"\"Measures local topological frustration by computing label entropy in k-NN graphs.\"\"\"\n",
    "    if len(Z) < k + 1: return np.nan\n",
    "    nn_model=NearestNeighbors(n_neighbors=k+1).fit(Z); indices=nn_model.kneighbors(Z,return_distance=False)[:,1:]\n",
    "    return np.mean([entropy(np.bincount(row),base=2) for row in Y[indices]])\n",
    "\n",
    "def calculate_linear_probe_accuracy(Z, Y):\n",
    "    \"\"\"Measures the linear separability of manifolds via a simple classifier's accuracy.\"\"\"\n",
    "    if len(np.unique(Y)) < 2: return np.nan\n",
    "    model=LogisticRegression(max_iter=100,solver='liblinear',random_state=42)\n",
    "    return np.mean(cross_val_score(model,Z,Y,cv=min(3, len(np.unique(Y))),scoring='accuracy'))\n",
    "\n",
    "def calculate_total_bulk_deformation(current_slices, prev_slices):\n",
    "    \"\"\"Calculates the TBD by summing the metric deformation across all radial slices.\"\"\"\n",
    "    return np.sum([torch.linalg.norm(curr.flatten(1)-prev.flatten(1),'fro').item() for curr,prev in zip(current_slices,prev_slices) if curr is not None and prev is not None])\n",
    "\n",
    "def fit_decay_constant_tau(tbd_history):\n",
    "    \"\"\"Fits an exponential decay to the TBD curve to find the relaxation time τ.\"\"\"\n",
    "    try:\n",
    "        y_data = np.array(tbd_history); x_data = np.arange(len(y_data))\n",
    "        if len(y_data) < 3: return np.nan\n",
    "        def decay_func(t, A, tau, C): return A * np.exp(-t / tau) + C\n",
    "        popt, _ = curve_fit(decay_func, x_data, y_data, p0=[y_data[0], 2.0, y_data[-1]], bounds=([0, 0.1, 0], [np.inf, np.inf, np.inf]), maxfev=5000)\n",
    "        return popt[1]\n",
    "    except: return np.nan\n",
    "\n",
    "def evaluate_model(model, loader):\n",
    "    \"\"\"Evaluates final model accuracy.\"\"\"\n",
    "    model.eval(); correct,total=0,0\n",
    "    with torch.no_grad():\n",
    "        for data,target in loader:\n",
    "            output=model(data.to(device)); correct+=output.argmax(1).eq(target.to(device)).sum().item(); total+=target.size(0)\n",
    "    return 100.*correct/total\n",
    "\n",
    "def run_single_experiment(config: dict, datasets_cache: dict):\n",
    "    \"\"\"Executes the full protocol for a single, randomly generated architecture.\"\"\"\n",
    "    set_random_seed(config['seed'])\n",
    "    \n",
    "    base_train_set = datasets_cache[config['dataset']]['train']\n",
    "    base_val_set = datasets_cache[config['dataset']]['val']\n",
    "    task_dataset = NoisyLabelDataset(base_train_set, noise_level=config['noise_level'], num_classes=config['num_classes'])\n",
    "\n",
    "    # Robustly generate an architecture, with retries.\n",
    "    max_generation_attempts = 5\n",
    "    backbone = None\n",
    "    for _ in range(max_generation_attempts):\n",
    "        backbone = generate_model(config)\n",
    "        if backbone is not None: break\n",
    "    if backbone is None:\n",
    "        tqdm.write(f\"Failed to generate valid architecture for {config['run_id']}\")\n",
    "        return None\n",
    "    backbone = backbone.to(device)\n",
    "\n",
    "    projector = UnifiedModel(backbone, num_classes=config['num_classes']).to(device).eval()\n",
    "    try:\n",
    "        features_Z, labels_Y = get_random_features(task_dataset, projector, config['num_metric_samples'])\n",
    "        lce_score = calculate_local_class_entropy(features_Z, labels_Y)\n",
    "        lpa_score = calculate_linear_probe_accuracy(features_Z, labels_Y)\n",
    "    except Exception as e:\n",
    "        tqdm.write(f\"Metric calculation failed for run {config['run_id']}: {e}\")\n",
    "        return None\n",
    "\n",
    "    model = projector\n",
    "    train_loader = DataLoader(task_dataset, batch_size=128, shuffle=True, num_workers=0)\n",
    "    val_loader = DataLoader(base_val_set, batch_size=128, num_workers=0)\n",
    "    optimizer = torch.optim.Adam(model.parameters(), lr=config['lr'])\n",
    "    criterion = nn.CrossEntropyLoss()\n",
    "    \n",
    "    probe_data, _ = next(iter(val_loader)); probe_data = probe_data.to(device)\n",
    "    tbd_history = []\n",
    "    \n",
    "    model.eval()\n",
    "    with torch.no_grad(): _, prev_slices = model(probe_data, return_all_slices=True)\n",
    "\n",
    "    for _ in range(config['epochs']):\n",
    "        model.train()\n",
    "        for data, target in train_loader:\n",
    "            optimizer.zero_grad(); output=model(data.to(device)); loss=criterion(output,target.to(device)); loss.backward(); optimizer.step()\n",
    "        \n",
    "        model.eval()\n",
    "        with torch.no_grad(): _, current_slices = model(probe_data, return_all_slices=True)\n",
    "        tbd_history.append(calculate_total_bulk_deformation(current_slices, prev_slices))\n",
    "        prev_slices = [s.clone() for s in current_slices]\n",
    "\n",
    "    final_accuracy = evaluate_model(model, val_loader)\n",
    "    \n",
    "    # Use an adaptive window for calculating asymptotic properties.\n",
    "    asymptotic_window = max(5, config['epochs'] // 4)\n",
    "    asymptotic_tbd_mean = np.mean(tbd_history[-asymptotic_window:]) if len(tbd_history) >= asymptotic_window else np.nan\n",
    "    asymptotic_tbd_std = np.std(tbd_history[-asymptotic_window:]) if len(tbd_history) >= asymptotic_window else np.nan\n",
    "    \n",
    "    tau = fit_decay_constant_tau(tbd_history)\n",
    "    \n",
    "    return {'lce':lce_score, 'lpa':lpa_score, 'final_acc':final_accuracy, 'asymptotic_tbd_mean':asymptotic_tbd_mean, 'asymptotic_tbd_std':asymptotic_tbd_std, 'tau':tau, **config}\n",
    "\n",
    "# ===================================================================\n",
    "# Part 3: Enhanced Aggregate Analysis\n",
    "# ===================================================================\n",
    "def enhanced_statistical_analysis(results_df):\n",
    "    \"\"\"\n",
    "    Performs a rigorous statistical analysis accounting for the structured\n",
    "    nature of the experimental data, as recommended for publication.\n",
    "    \"\"\"\n",
    "    print(\"\\n\" + \"=\"*60 + \"\\n       ENHANCED STATISTICAL ANALYSIS\\n\" + \"=\"*60)\n",
    "    \n",
    "    # --- 1. Hierarchical Modeling ---\n",
    "    print(\"\\n1. HIERARCHICAL LINEAR MODELING\\n\" + \"-\"*40)\n",
    "    if len(results_df['arch_name'].unique()) < 2:\n",
    "        print(\"Warning: Need at least 2 architecture families for hierarchical modeling. Skipping.\")\n",
    "    else:\n",
    "        try:\n",
    "            acc_model = mixedlm(\"final_acc ~ lce + lpa\", results_df, groups=results_df[\"arch_name\"]).fit()\n",
    "            print(\"Final Accuracy vs. Pre-Training Metrics (Controlling for Architecture Family):\")\n",
    "            print(acc_model.summary().tables[1])\n",
    "            \n",
    "            stab_data = results_df.dropna(subset=['asymptotic_tbd_std', 'lce', 'lpa'])\n",
    "            if len(stab_data) > 10:\n",
    "                stab_model = mixedlm(\"asymptotic_tbd_std ~ lce + lpa\", stab_data, groups=stab_data[\"arch_name\"]).fit()\n",
    "                print(\"\\nFinal Stability (TBD Std Dev) vs. Pre-Training Metrics:\")\n",
    "                print(stab_model.summary().tables[1])\n",
    "        except Exception as e:\n",
    "            print(f\"Hierarchical modeling failed: {e}. This might happen with insufficient data variety or convergence issues.\")\n",
    "\n",
    "    # --- 2. Effect Size Quantification ---\n",
    "    print(\"\\n2. PRACTICAL EFFECT SIZES\\n\" + \"-\"*40)\n",
    "    def quantify_effect(df, pred, out, pred_name, out_name):\n",
    "        df_valid = df.dropna(subset=[pred, out])\n",
    "        if len(df_valid) < 20: return\n",
    "        q25, q75 = df_valid[pred].quantile(0.25), df_valid[pred].quantile(0.75)\n",
    "        low_group = df_valid[df_valid[pred] <= q25][out]; high_group = df_valid[df_valid[pred] >= q75][out]\n",
    "        mean_diff = high_group.mean() - low_group.mean()\n",
    "        cohens_d = mean_diff / df_valid[out].std()\n",
    "        print(f\"Effect of {pred_name} on {out_name}:\")\n",
    "        print(f\"  Mean for Low {pred_name} group: {low_group.mean():.2f}\")\n",
    "        print(f\"  Mean for High {pred_name} group: {high_group.mean():.2f}\")\n",
    "        print(f\"  Practical Difference: {mean_diff:.2f}\")\n",
    "        print(f\"  Cohen's d: {cohens_d:.3f}\\n\")\n",
    "    \n",
    "    quantify_effect(results_df, 'lce', 'final_acc', 'LCE', 'Final Accuracy')\n",
    "    quantify_effect(results_df, 'lpa', 'final_acc', 'LPA', 'Final Accuracy')\n",
    "\n",
    "    # --- 3. Multiple Comparisons Correction ---\n",
    "    print(\"\\n3. MULTIPLE COMPARISON CORRECTION (FDR)\\n\" + \"-\"*40)\n",
    "    predictors = ['lce', 'lpa']; outcomes = ['final_acc', 'asymptotic_tbd_std', 'tau']\n",
    "    correlations, p_values, pairs = [], [], []\n",
    "    for pred in predictors:\n",
    "        for out in outcomes:\n",
    "            valid = results_df[[pred, out]].dropna()\n",
    "            if len(valid) > 10:\n",
    "                r, p = pearsonr(valid[pred], valid[out])\n",
    "                correlations.append(r); p_values.append(p); pairs.append(f\"{pred} → {out}\")\n",
    "    \n",
    "    if p_values:\n",
    "        rejected, p_corr, _, _ = multipletests(p_values, method='fdr_bh', alpha=0.05)\n",
    "        print(\"Correlations surviving correction:\")\n",
    "        for pair, r, p_c, sig in zip(pairs, correlations, p_corr, rejected):\n",
    "            print(f\"  - {pair:25s}: r={r:6.3f}, p_corrected={p_c:.4f} {'✓ SIGNIFICANT' if sig else '✗ Not significant'}\")\n",
    "            \n",
    "    # --- 4. Final Visualizations ---\n",
    "    fig, axes = plt.subplots(2, 2, figsize=(16, 14))\n",
    "    fig.suptitle('Universal Predictors of Learning Dynamics Across All Experiments', fontsize=22, y=0.97)\n",
    "    plot_params = {'x_ci': 'sd', 'scatter_kws': {'s': 20, 'alpha': 0.6}}\n",
    "    \n",
    "    sns.regplot(data=results_df, x='lce', y='final_acc', ax=axes[0,0], **plot_params).set(title='A) LCE vs. Final Accuracy', xlabel='Local Class Entropy (LCE)', ylabel='Final Accuracy (%)')\n",
    "    sns.regplot(data=results_df, x='lpa', y='final_acc', ax=axes[0,1], **plot_params).set(title='B) LPA vs. Final Accuracy', xlabel='Linear Probe Accuracy (LPA)', ylabel=None)\n",
    "    sns.scatterplot(data=results_df, x='lce', y='lpa', hue='arch_name', ax=axes[1,0], s=50, alpha=0.9).set(title='C) Initial Geometric State (LCE vs LPA)', xlabel='LCE', ylabel='LPA')\n",
    "    sns.regplot(data=results_df, x='lce', y='asymptotic_tbd_std', ax=axes[1,1], **plot_params).set(title='D) LCE vs. Final Geometric Volatility', xlabel='LCE', ylabel='Asymptotic TBD Std Dev')\n",
    "\n",
    "    for ax in axes.flatten(): ax.grid(True)\n",
    "    plt.tight_layout(rect=[0,0,1,0.95]); plt.show()\n",
    "\n",
    "if __name__ == '__main__':\n",
    "    # --- Master Configuration for a Robust, Publishable Experiment ---\n",
    "    N_MODELS_PER_TYPE = 10\n",
    "    SEEDS = [42]\n",
    "    \n",
    "    EXPERIMENT_PARAMS = {\n",
    "        'datasets': ['cifar', 'mnist'],\n",
    "        'arch_names': ['plain_cnn_bn', 'plain_cnn_nobn', 'resnet'],\n",
    "        'noise_levels': [0.0, 0.25, 0.5, 0.75, 1.0],\n",
    "        'lr': 1e-3, 'epochs': 15, 'num_metric_samples': 1000\n",
    "    }\n",
    "    \n",
    "    ARCH_CONFIGS = {\n",
    "        'plain_cnn_bn': { 'generator': 'cnn', 'use_bn': True, 'depth_choices': [4, 8, 16, 32], 'param_ranges': {'channels': [16, 32, 64], 'strides': [1, 2], 'kernels': [3], 'max_downsamples': 3} },\n",
    "        'plain_cnn_nobn': { 'generator': 'cnn', 'use_bn': False, 'depth_choices': [4, 8, 16, 32], 'param_ranges': {'channels': [16, 32, 64], 'strides': [1, 2], 'kernels': [3], 'max_downsamples': 3} },\n",
    "        'resnet': { 'generator': 'resnet', 'depth_choices': [4, 8, 16, 32], 'param_ranges': { 'channels': [16, 32, 64], 'kernel_sizes': [3], 'strides': [1, 2], 'bottleneck_ratios': [1.0, 0.5], 'projection_types': ['identity', 'conv1x1'], 'activation_functions': ['relu', 'leaky_relu']} }\n",
    "    }\n",
    "\n",
    "    DATA_PARAMS = {\n",
    "        'cifar': {'in_channels': 3, 'num_classes': 10, 'input_size': 32},\n",
    "        'mnist': {'in_channels': 1, 'num_classes': 10, 'input_size': 28}\n",
    "    }\n",
    "    \n",
    "    print(\"--- Pre-loading datasets to ensure clean progress bar ---\")\n",
    "    datasets_cache = {\n",
    "        'cifar': { 'train': datasets.CIFAR10('./data', train=True, download=True, transform=transforms.ToTensor()), 'val': datasets.CIFAR10('./data', train=False, download=True, transform=transforms.ToTensor())},\n",
    "        'mnist': { 'train': datasets.MNIST('./data', train=True, download=True, transform=transforms.ToTensor()), 'val': datasets.MNIST('./data', train=False, download=True, transform=transforms.ToTensor())}\n",
    "    }\n",
    "\n",
    "    configs = []\n",
    "    for seed in SEEDS:\n",
    "        for dataset in EXPERIMENT_PARAMS['datasets']:\n",
    "            for arch_name in EXPERIMENT_PARAMS['arch_names']:\n",
    "                for noise in EXPERIMENT_PARAMS['noise_levels']:\n",
    "                    for i in range(N_MODELS_PER_TYPE):\n",
    "                        run_id = f\"{arch_name}-{dataset}-n{int(noise*100)}-s{seed}-i{i}\"\n",
    "                        cfg = {\n",
    "                            'run_id': run_id, 'arch_name': arch_name, 'dataset': dataset, 'noise_level': noise, 'seed': seed,\n",
    "                            'lr': EXPERIMENT_PARAMS['lr'], 'epochs': EXPERIMENT_PARAMS['epochs'], 'num_metric_samples': EXPERIMENT_PARAMS['num_metric_samples']\n",
    "                        }\n",
    "                        cfg.update({'arch_config': ARCH_CONFIGS[arch_name], **DATA_PARAMS[dataset]})\n",
    "                        configs.append(cfg)\n",
    "    \n",
    "    print(f\"\\n--- Launching Full Protocol: {len(configs)} total unique architectures to assess and train ---\")\n",
    "    all_results = []\n",
    "    pbar = tqdm(configs)\n",
    "    for config in pbar:\n",
    "        pbar.set_description(f\"Processing Run: {config['run_id']}\")\n",
    "        try:\n",
    "            result = run_single_experiment(config, datasets_cache)\n",
    "            if result: all_results.append(result)\n",
    "        except Exception as e:\n",
    "            tqdm.write(f\"\\nERROR on run {config.get('run_id', 'N/A')}: {e}\")\n",
    "\n",
    "    if all_results:\n",
    "        results_df = pd.DataFrame(all_results)\n",
    "\n",
    "        # Create timestamp suffix\n",
    "        timestamp = datetime.now().strftime(\"%Y%m%d_%H%M%S\")\n",
    "        filename = f'universal_geometric_predictors_{len(all_results)}_runs_{timestamp}.csv'\n",
    "\n",
    "        # Save results with timestamp\n",
    "        results_df.to_csv(filename, index=False)\n",
    "        print(f\"\\n--- Results saved to: {filename} ---\")\n",
    "\n",
    "        # Add experiment metadata logging\n",
    "        metadata = {\n",
    "            'total_configs': len(configs),\n",
    "            'successful_runs': len(all_results),\n",
    "            'success_rate': len(all_results) / len(configs),\n",
    "            'architectures_tested': results_df['arch_name'].value_counts().to_dict(),\n",
    "            'datasets_tested': results_df['dataset'].value_counts().to_dict(),\n",
    "            'timestamp': timestamp\n",
    "        }\n",
    "\n",
    "        print(f\"\\n--- Experiment Summary ---\")\n",
    "        print(f\"Success rate: {metadata['success_rate']:.1%}\")\n",
    "        print(f\"Architectures: {list(metadata['architectures_tested'].keys())}\")\n",
    "        print(f\"Datasets: {list(metadata['datasets_tested'].keys())}\")\n",
    "\n",
    "        enhanced_statistical_analysis(results_df)\n",
    "    else:\n",
    "        print(\"\\n--- No successful experiments to analyze ---\")"
   ]
  },
  {
   "cell_type": "code",
   "execution_count": 1,
   "id": "dc618048-cd93-4912-a54e-81ceebf4fb5d",
   "metadata": {
    "execution": {
     "iopub.execute_input": "2025-07-03T06:56:24.986675Z",
     "iopub.status.busy": "2025-07-03T06:56:24.986450Z",
     "iopub.status.idle": "2025-07-03T06:56:24.992109Z",
     "shell.execute_reply": "2025-07-03T06:56:24.991685Z",
     "shell.execute_reply.started": "2025-07-03T06:56:24.986657Z"
    }
   },
   "outputs": [
    {
     "name": "stdout",
     "output_type": "stream",
     "text": [
      "hello\n"
     ]
    }
   ],
   "source": [
    "print('hello')"
   ]
  },
  {
   "cell_type": "code",
   "execution_count": 2,
   "id": "712347b2-0d21-4279-b793-a56e885a1f7b",
   "metadata": {
    "execution": {
     "iopub.execute_input": "2025-07-03T07:41:49.631357Z",
     "iopub.status.busy": "2025-07-03T07:41:49.630903Z",
     "iopub.status.idle": "2025-07-03T07:41:49.733689Z",
     "shell.execute_reply": "2025-07-03T07:41:49.732948Z",
     "shell.execute_reply.started": "2025-07-03T07:41:49.631339Z"
    }
   },
   "outputs": [
    {
     "ename": "NameError",
     "evalue": "name 'results_df' is not defined",
     "output_type": "error",
     "traceback": [
      "\u001b[0;31m---------------------------------------------------------------------------\u001b[0m",
      "\u001b[0;31mNameError\u001b[0m                                 Traceback (most recent call last)",
      "Cell \u001b[0;32mIn[2], line 1\u001b[0m\n\u001b[0;32m----> 1\u001b[0m \u001b[38;5;28mprint\u001b[39m(\u001b[43mresults_df\u001b[49m)\n",
      "\u001b[0;31mNameError\u001b[0m: name 'results_df' is not defined"
     ]
    }
   ],
   "source": [
    "print(results_df)"
   ]
  },
  {
   "cell_type": "code",
   "execution_count": null,
   "id": "ea9d63ac-2553-4de9-b421-4e06c1f0cd21",
   "metadata": {},
   "outputs": [],
   "source": []
  }
 ],
 "metadata": {
  "kernelspec": {
   "display_name": "Python 3 (ipykernel)",
   "language": "python",
   "name": "python3"
  },
  "language_info": {
   "codemirror_mode": {
    "name": "ipython",
    "version": 3
   },
   "file_extension": ".py",
   "mimetype": "text/x-python",
   "name": "python",
   "nbconvert_exporter": "python",
   "pygments_lexer": "ipython3",
   "version": "3.11.7"
  }
 },
 "nbformat": 4,
 "nbformat_minor": 5
}
